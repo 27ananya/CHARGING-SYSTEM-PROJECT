{
 "cells": [
  {
   "cell_type": "code",
   "execution_count": 8,
   "metadata": {},
   "outputs": [],
   "source": [
    "import pandas as pd"
   ]
  },
  {
   "cell_type": "code",
   "execution_count": 9,
   "metadata": {},
   "outputs": [],
   "source": [
    "import numpy as np\n",
    "import matplotlib.pyplot as plt\n",
    "%matplotlib inline"
   ]
  },
  {
   "cell_type": "code",
   "execution_count": 10,
   "metadata": {},
   "outputs": [],
   "source": [
    "df3=pd.read_excel(r'C:\\Users\\hp\\Desktop\\python practise\\CCN_OCC_Stats_File\\CCN\\CCN5_Counter_03_2020a.xlsx')\n",
    "##ACTUAL MANIPULATION OF DATA IN excel FILE"
   ]
  },
  {
   "cell_type": "code",
   "execution_count": 11,
   "metadata": {},
   "outputs": [],
   "source": [
    "df4=pd.read_excel(r'C:\\Users\\hp\\Desktop\\python practise\\CCN_OCC_Stats_File\\CCN\\CCN6_Counter_03_2020a.xlsx')\n",
    "##ACTUAL MANIPULATION OF DATA IN excel FILE"
   ]
  },
  {
   "cell_type": "code",
   "execution_count": 12,
   "metadata": {},
   "outputs": [],
   "source": [
    "df5=pd.read_excel(r'C:\\Users\\hp\\Desktop\\python practise\\CCN_OCC_Stats_File\\CCN\\CCN7_Counter_03_2020a.xlsx')\n",
    "##ACTUAL MANIPULATION OF DATA IN excel FILE"
   ]
  },
  {
   "cell_type": "code",
   "execution_count": 13,
   "metadata": {},
   "outputs": [],
   "source": [
    "df1=pd.read_excel(r'C:\\Users\\hp\\Desktop\\python practise\\CCN_OCC_Stats_File\\CCN\\CCN4_Counter_03_2020    1.xlsx')\n",
    "##ACTUAL MANIPULATION OF DATA IN excel FILE"
   ]
  },
  {
   "cell_type": "code",
   "execution_count": 14,
   "metadata": {},
   "outputs": [],
   "source": [
    "df1=df1.rename(columns={'DM':'Data_Main'})\n",
    "df1.columns=['Date','Time','Data_main','Total','Tot']"
   ]
  },
  {
   "cell_type": "code",
   "execution_count": 15,
   "metadata": {},
   "outputs": [],
   "source": [
    "df3=df3.rename(columns={'Data_Main':'Data_Main'})\n",
    "df3.columns=['Date','Time','Data_main','Total','Tot']"
   ]
  },
  {
   "cell_type": "code",
   "execution_count": 16,
   "metadata": {},
   "outputs": [],
   "source": [
    "df4=df4.rename(columns={'d_m':'Data_Main'})\n",
    "df4.columns=['Date','Time','Data_main','Total','Tot']"
   ]
  },
  {
   "cell_type": "code",
   "execution_count": 17,
   "metadata": {},
   "outputs": [],
   "source": [
    "df5=df5.rename(columns={'d_m':'Data_Main'})\n",
    "df5.columns=['Date','Time','Data_main','Total','Tot']"
   ]
  },
  {
   "cell_type": "markdown",
   "metadata": {},
   "source": [
    "CHANGING DATE FORMAT"
   ]
  },
  {
   "cell_type": "code",
   "execution_count": 18,
   "metadata": {},
   "outputs": [],
   "source": [
    "df1['Date']=pd.to_datetime(df1[\"Date\"],format='%Y%m%d')\n",
    "df1['day'] = df1['Date'].dt.day\n",
    "df1['month'] = df1['Date'].dt.month\n",
    "df1['year'] = df1['Date'].dt.year\n",
    "df1.drop(['Date'],axis=1,inplace=True)"
   ]
  },
  {
   "cell_type": "code",
   "execution_count": 19,
   "metadata": {},
   "outputs": [
    {
     "data": {
      "text/html": [
       "<div>\n",
       "<style scoped>\n",
       "    .dataframe tbody tr th:only-of-type {\n",
       "        vertical-align: middle;\n",
       "    }\n",
       "\n",
       "    .dataframe tbody tr th {\n",
       "        vertical-align: top;\n",
       "    }\n",
       "\n",
       "    .dataframe thead th {\n",
       "        text-align: right;\n",
       "    }\n",
       "</style>\n",
       "<table border=\"1\" class=\"dataframe\">\n",
       "  <thead>\n",
       "    <tr style=\"text-align: right;\">\n",
       "      <th></th>\n",
       "      <th>Time</th>\n",
       "      <th>Data_main</th>\n",
       "      <th>Total</th>\n",
       "      <th>Tot</th>\n",
       "      <th>day</th>\n",
       "      <th>month</th>\n",
       "      <th>year</th>\n",
       "    </tr>\n",
       "  </thead>\n",
       "  <tbody>\n",
       "    <tr>\n",
       "      <th>0</th>\n",
       "      <td>04:35:00</td>\n",
       "      <td>CIP-SS7-SDP-4-Total-Requests</td>\n",
       "      <td>1294</td>\n",
       "      <td>4.31</td>\n",
       "      <td>1</td>\n",
       "      <td>3</td>\n",
       "      <td>2020</td>\n",
       "    </tr>\n",
       "    <tr>\n",
       "      <th>1</th>\n",
       "      <td>04:35:00</td>\n",
       "      <td>CAPv2-Sent-Total-Requests</td>\n",
       "      <td>289</td>\n",
       "      <td>0.96</td>\n",
       "      <td>1</td>\n",
       "      <td>3</td>\n",
       "      <td>2020</td>\n",
       "    </tr>\n",
       "    <tr>\n",
       "      <th>2</th>\n",
       "      <td>04:35:00</td>\n",
       "      <td>InapSdf-SDP-4-Total-Requests</td>\n",
       "      <td>1294</td>\n",
       "      <td>4.31</td>\n",
       "      <td>1</td>\n",
       "      <td>3</td>\n",
       "      <td>2020</td>\n",
       "    </tr>\n",
       "    <tr>\n",
       "      <th>3</th>\n",
       "      <td>04:35:00</td>\n",
       "      <td>INAP-Sent-Total-Requests</td>\n",
       "      <td>12615</td>\n",
       "      <td>42.05</td>\n",
       "      <td>1</td>\n",
       "      <td>3</td>\n",
       "      <td>2020</td>\n",
       "    </tr>\n",
       "    <tr>\n",
       "      <th>4</th>\n",
       "      <td>04:35:00</td>\n",
       "      <td>CAPv3-Sent-Error-Indications</td>\n",
       "      <td>781</td>\n",
       "      <td>2.60</td>\n",
       "      <td>1</td>\n",
       "      <td>3</td>\n",
       "      <td>2020</td>\n",
       "    </tr>\n",
       "    <tr>\n",
       "      <th>...</th>\n",
       "      <td>...</td>\n",
       "      <td>...</td>\n",
       "      <td>...</td>\n",
       "      <td>...</td>\n",
       "      <td>...</td>\n",
       "      <td>...</td>\n",
       "      <td>...</td>\n",
       "    </tr>\n",
       "    <tr>\n",
       "      <th>652518</th>\n",
       "      <td>04:30:00</td>\n",
       "      <td>Cdr-Encoded-Successful-Data-Stored-CCN44</td>\n",
       "      <td>2370</td>\n",
       "      <td>7.90</td>\n",
       "      <td>1</td>\n",
       "      <td>4</td>\n",
       "      <td>2020</td>\n",
       "    </tr>\n",
       "    <tr>\n",
       "      <th>652519</th>\n",
       "      <td>04:30:00</td>\n",
       "      <td>Account-Finder-Cache-Miss</td>\n",
       "      <td>5</td>\n",
       "      <td>0.02</td>\n",
       "      <td>1</td>\n",
       "      <td>4</td>\n",
       "      <td>2020</td>\n",
       "    </tr>\n",
       "    <tr>\n",
       "      <th>652520</th>\n",
       "      <td>04:30:00</td>\n",
       "      <td>INAP-Received-P-Aborts</td>\n",
       "      <td>5</td>\n",
       "      <td>0.02</td>\n",
       "      <td>1</td>\n",
       "      <td>4</td>\n",
       "      <td>2020</td>\n",
       "    </tr>\n",
       "    <tr>\n",
       "      <th>652521</th>\n",
       "      <td>04:30:00</td>\n",
       "      <td>INAP-Received-Component-Rejects</td>\n",
       "      <td>1</td>\n",
       "      <td>0.00</td>\n",
       "      <td>1</td>\n",
       "      <td>4</td>\n",
       "      <td>2020</td>\n",
       "    </tr>\n",
       "    <tr>\n",
       "      <th>652522</th>\n",
       "      <td>04:30:00</td>\n",
       "      <td>INAP-Received-Total-Invalid-Requests</td>\n",
       "      <td>2</td>\n",
       "      <td>0.01</td>\n",
       "      <td>1</td>\n",
       "      <td>4</td>\n",
       "      <td>2020</td>\n",
       "    </tr>\n",
       "  </tbody>\n",
       "</table>\n",
       "<p>652523 rows × 7 columns</p>\n",
       "</div>"
      ],
      "text/plain": [
       "            Time                                 Data_main  Total    Tot  day  \\\n",
       "0       04:35:00              CIP-SS7-SDP-4-Total-Requests   1294   4.31    1   \n",
       "1       04:35:00                 CAPv2-Sent-Total-Requests    289   0.96    1   \n",
       "2       04:35:00              InapSdf-SDP-4-Total-Requests   1294   4.31    1   \n",
       "3       04:35:00                  INAP-Sent-Total-Requests  12615  42.05    1   \n",
       "4       04:35:00              CAPv3-Sent-Error-Indications    781   2.60    1   \n",
       "...          ...                                       ...    ...    ...  ...   \n",
       "652518  04:30:00  Cdr-Encoded-Successful-Data-Stored-CCN44   2370   7.90    1   \n",
       "652519  04:30:00                 Account-Finder-Cache-Miss      5   0.02    1   \n",
       "652520  04:30:00                    INAP-Received-P-Aborts      5   0.02    1   \n",
       "652521  04:30:00           INAP-Received-Component-Rejects      1   0.00    1   \n",
       "652522  04:30:00      INAP-Received-Total-Invalid-Requests      2   0.01    1   \n",
       "\n",
       "        month  year  \n",
       "0           3  2020  \n",
       "1           3  2020  \n",
       "2           3  2020  \n",
       "3           3  2020  \n",
       "4           3  2020  \n",
       "...       ...   ...  \n",
       "652518      4  2020  \n",
       "652519      4  2020  \n",
       "652520      4  2020  \n",
       "652521      4  2020  \n",
       "652522      4  2020  \n",
       "\n",
       "[652523 rows x 7 columns]"
      ]
     },
     "execution_count": 19,
     "metadata": {},
     "output_type": "execute_result"
    }
   ],
   "source": [
    "df3['Date']=pd.to_datetime(df3[\"Date\"],format='%Y%m%d')\n",
    "df3['day'] = df3['Date'].dt.day\n",
    "df3['month'] = df3['Date'].dt.month\n",
    "df3['year'] = df3['Date'].dt.year\n",
    "df3.drop(['Date'],axis=1,inplace=True)\n",
    "df3"
   ]
  },
  {
   "cell_type": "code",
   "execution_count": 20,
   "metadata": {},
   "outputs": [],
   "source": [
    "df4['Date']=pd.to_datetime(df4[\"Date\"],format='%Y%m%d')\n",
    "df4['day'] = df4['Date'].dt.day\n",
    "df4['month'] = df4['Date'].dt.month\n",
    "df4['year'] = df4['Date'].dt.year\n",
    "df4.drop(['Date'],axis=1,inplace=True)"
   ]
  },
  {
   "cell_type": "code",
   "execution_count": 21,
   "metadata": {},
   "outputs": [],
   "source": [
    "df5['Date']=pd.to_datetime(df5[\"Date\"],format='%Y%m%d')\n",
    "df5['day'] = df5['Date'].dt.day\n",
    "df5['month'] = df5['Date'].dt.month\n",
    "df5['year'] = df5['Date'].dt.year\n",
    "df5.drop(['Date'],axis=1,inplace=True)"
   ]
  },
  {
   "cell_type": "markdown",
   "metadata": {},
   "source": [
    "EXTRACTING THE DATA FROM THE DATFRAME df1 ON BASIS OF FILTERS"
   ]
  },
  {
   "cell_type": "markdown",
   "metadata": {},
   "source": [
    "SMS SERVICES DAY 1"
   ]
  },
  {
   "cell_type": "code",
   "execution_count": 22,
   "metadata": {},
   "outputs": [
    {
     "data": {
      "text/plain": [
       "1214404.0"
      ]
     },
     "execution_count": 22,
     "metadata": {},
     "output_type": "execute_result"
    }
   ],
   "source": [
    "df1a_copy=df1[df1['Data_main']=='Messaging-Charging-Originating-Sms']\n",
    "df1a_co=df1a_copy[(df1a_copy['day']==1) & (df1a_copy['month']==3)]\n",
    "df1a_co=df1a_co.rename(columns={'Total':'SMS'})\n",
    "df1a_co['SMS'].sum()\n",
    "df3a_copy=df3[df3['Data_main']=='Messaging-Charging-Originating-Sms']\n",
    "df3a_co=df3a_copy[(df3a_copy['day']==1) & (df3a_copy['month']==3)]\n",
    "df3a_co=df3a_co.rename(columns={'Total':'SMS'})\n",
    "df3a_co['SMS'].sum()\n",
    "df4a_copy=df4[df4['Data_main']=='Messaging-Charging-Originating-Sms']\n",
    "df4a_co=df4a_copy[(df4a_copy['day']==1) & (df4a_copy['month']==3)]\n",
    "df4a_co=df4a_co.rename(columns={'Total':'SMS'})\n",
    "df4a_co['SMS'].sum()\n",
    "df5a_copy=df5[df5['Data_main']=='Messaging-Charging-Originating-Sms']\n",
    "df5a_co=df5a_copy[(df5a_copy['day']==1) & (df5a_copy['month']==3)]\n",
    "df5a_co=df5a_co.rename(columns={'Total':'SMS'})\n",
    "df5a_co['SMS'].sum()\n",
    "df6a=pd.DataFrame()\n",
    "df6a=df1a_co['SMS'].sum()+df3a_co['SMS'].sum()+df4a_co['SMS'].sum()+df5a_co['SMS'].sum()\n",
    "df6a"
   ]
  },
  {
   "cell_type": "markdown",
   "metadata": {},
   "source": [
    "OPERATION OF VOICE Day 1"
   ]
  },
  {
   "cell_type": "code",
   "execution_count": 23,
   "metadata": {},
   "outputs": [
    {
     "data": {
      "text/plain": [
       "8774644"
      ]
     },
     "execution_count": 23,
     "metadata": {},
     "output_type": "execute_result"
    }
   ],
   "source": [
    "df1b=df1[df1.Data_main.str.contains('Voice-Charging-FirstInterrogation-Successful')]\n",
    "df1b_copy=df1b[(df1b['day']==1) & (df1b['month']==3)]\n",
    "df1b_copy=df1b_copy.rename(columns={'Total':'Voice-F'})\n",
    "df1b_copy['Voice-F'].sum()"
   ]
  },
  {
   "cell_type": "code",
   "execution_count": 24,
   "metadata": {},
   "outputs": [],
   "source": [
    "df1c=df1[df1.Data_main.str.contains('Voice-Charging-IntermediateInterrogation-Successful')]\n",
    "df1c_copy=df1c[(df1c['day']==1) & (df1c['month']==3)]\n",
    "df1c_copy=df1c_copy.rename(columns={'Total':'Voice-I'})\n"
   ]
  },
  {
   "cell_type": "code",
   "execution_count": 25,
   "metadata": {},
   "outputs": [],
   "source": [
    "df1d=df1[df1.Data_main.str.contains('Voice-Charging-FinalReport-Successful')]\n",
    "df1d_copy=df1d[(df1d['day']==1) & (df1d['month']==3)]\n",
    "df1d_copy=df1d_copy.rename(columns={'Total':'Voice-FR'})\n"
   ]
  },
  {
   "cell_type": "markdown",
   "metadata": {},
   "source": [
    "MERGING THE TABLES TO GET THE COMMON DATA"
   ]
  },
  {
   "cell_type": "code",
   "execution_count": 26,
   "metadata": {},
   "outputs": [],
   "source": [
    "df1a=pd.merge(left=df1b_copy, right=df1c_copy, how='right', left_on='Time', right_on='Time')"
   ]
  },
  {
   "cell_type": "code",
   "execution_count": 27,
   "metadata": {},
   "outputs": [],
   "source": [
    "df1a=pd.merge(left=df1a, right=df1d_copy, how='left', left_on='Time', right_on='Time')"
   ]
  },
  {
   "cell_type": "markdown",
   "metadata": {},
   "source": [
    "DELETING NON REQUIRED COLUMNS"
   ]
  },
  {
   "cell_type": "code",
   "execution_count": 28,
   "metadata": {},
   "outputs": [],
   "source": [
    "df1a.drop(['Data_main_x','Data_main_y','Tot_x','month','year','Data_main'],axis=1,inplace=True)"
   ]
  },
  {
   "cell_type": "code",
   "execution_count": 29,
   "metadata": {},
   "outputs": [],
   "source": [
    "df1a.drop(['Tot_y','day_x','month_x','year_x','Tot','day'],axis=1,inplace=True)"
   ]
  },
  {
   "cell_type": "code",
   "execution_count": 30,
   "metadata": {},
   "outputs": [],
   "source": [
    "df1a['Count']=df1a['Voice-F']+df1a['Voice-I']+df1a['Voice-FR']"
   ]
  },
  {
   "cell_type": "code",
   "execution_count": 31,
   "metadata": {},
   "outputs": [
    {
     "data": {
      "text/plain": [
       "17318893"
      ]
     },
     "execution_count": 31,
     "metadata": {},
     "output_type": "execute_result"
    }
   ],
   "source": [
    "df1_ai=sum(df1a['Voice-FR'])+sum(df1a['Voice-I'])+sum(df1a['Voice-FR'])\n",
    "df1_ai"
   ]
  },
  {
   "cell_type": "markdown",
   "metadata": {},
   "source": [
    "df3=sheet 5, df4= sheet 6,df5=sheet 7"
   ]
  },
  {
   "cell_type": "code",
   "execution_count": 32,
   "metadata": {},
   "outputs": [
    {
     "data": {
      "text/plain": [
       "20414063"
      ]
     },
     "execution_count": 32,
     "metadata": {},
     "output_type": "execute_result"
    }
   ],
   "source": [
    "df3a=df3[df3.Data_main.str.contains('Voice-Charging-FirstInterrogation-Successful')]\n",
    "df3a_copy=df3a[(df3a['day']==1) & (df3a['month']==3)]\n",
    "df3a_copy=df3a_copy.rename(columns={'Total':'Voice-F'})\n",
    "df3a_copy['Voice-F'].sum()\n",
    "\n",
    "df3c=df3[df3.Data_main.str.contains('Voice-Charging-IntermediateInterrogation-Successful')]\n",
    "df3a_cop=df3c[(df3c['day']==1) &  (df3c['month']==3)]\n",
    "df3a_cop=df3a_cop.rename(columns={'Total':'Voice-I'})\n",
    "df3a_cop['Voice-I'].sum()\n",
    "\n",
    "df3d=df3[df3.Data_main.str.contains('Voice-Charging-FinalReport-Successful')]\n",
    "df3a_o=df3d[(df3d['day']==1)& (df3d['month']==3)]\n",
    "df3a_o=df3a_o.rename(columns={'Total':'Voice-FR'})\n",
    "df3a_o['Voice-FR'].sum()\n",
    "df3a_c=pd.DataFrame()\n",
    "df3a_c=df3a_copy['Voice-F'].sum()+df3a_cop['Voice-I'].sum()+df3a_o['Voice-FR'].sum()\n",
    "df3a_c"
   ]
  },
  {
   "cell_type": "code",
   "execution_count": 33,
   "metadata": {},
   "outputs": [
    {
     "data": {
      "text/plain": [
       "0.0"
      ]
     },
     "execution_count": 33,
     "metadata": {},
     "output_type": "execute_result"
    }
   ],
   "source": [
    "df4a=df4[df4.Data_main.str.contains('Voice-Charging-FirstInterrogation-Successful')]\n",
    "df4a_copy=df4a[(df4a['day']==1) & (df4a['month']==3)]\n",
    "df4a_copy=df4a_copy.rename(columns={'Total':'Voice-F'})\n",
    "df4a_copy['Voice-F'].sum()\n",
    "\n",
    "df4c=df4[df4.Data_main.str.contains('Voice-Charging-IntermediateInterrogation-Successful')]\n",
    "df4a_cop=df4c[(df4c['day']==1) &  (df4c['month']==3)]\n",
    "df4a_cop=df4a_cop.rename(columns={'Total':'Voice-I'})\n",
    "df4a_cop['Voice-I'].sum()\n",
    "\n",
    "df4d=df4[df4.Data_main.str.contains('Voice-Charging-FinalReport-Successful')]\n",
    "df4a_o=df4d[(df4d['day']==1)& (df4d['month']==3)]\n",
    "df4a_o=df4a_o.rename(columns={'Total':'Voice-FR'})\n",
    "df4a_o['Voice-FR'].sum()\n",
    "df4a_c=pd.DataFrame()\n",
    "df4a_c=df4a_copy['Voice-F'].sum()+df4a_cop['Voice-I'].sum()+df4a_o['Voice-FR'].sum()\n",
    "df4a_c"
   ]
  },
  {
   "cell_type": "code",
   "execution_count": 34,
   "metadata": {},
   "outputs": [
    {
     "data": {
      "text/plain": [
       "20398776.0"
      ]
     },
     "execution_count": 34,
     "metadata": {},
     "output_type": "execute_result"
    }
   ],
   "source": [
    "df5a=df5[df5.Data_main.str.contains('Voice-Charging-FirstInterrogation-Successful')]\n",
    "df5a_copy=df5a[(df5a['day']==1) & (df5a['month']==3)]\n",
    "df5a_copy=df5a_copy.rename(columns={'Total':'Voice-F'})\n",
    "df5a_copy['Voice-F'].sum()\n",
    "\n",
    "df5c=df5[df5.Data_main.str.contains('Voice-Charging-IntermediateInterrogation-Successful')]\n",
    "df5a_cop=df5c[(df5c['day']==1) &  (df5c['month']==3)]\n",
    "df5a_cop=df5a_cop.rename(columns={'Total':'Voice-I'})\n",
    "df5a_cop['Voice-I'].sum()\n",
    "\n",
    "df5d=df5[df5.Data_main.str.contains('Voice-Charging-FinalReport-Successful')]\n",
    "df5a_o=df5d[(df5d['day']==1)& (df5d['month']==3)]\n",
    "df5a_o=df5a_o.rename(columns={'Total':'Voice-FR'})\n",
    "df5a_o['Voice-FR'].sum()\n",
    "df5a_c=pd.DataFrame()\n",
    "df5a_c=df5a_copy['Voice-F'].sum()+df5a_cop['Voice-I'].sum()+df5a_o['Voice-FR'].sum()\n",
    "df5a_c"
   ]
  },
  {
   "cell_type": "code",
   "execution_count": 35,
   "metadata": {},
   "outputs": [
    {
     "data": {
      "text/plain": [
       "58131732.0"
      ]
     },
     "execution_count": 35,
     "metadata": {},
     "output_type": "execute_result"
    }
   ],
   "source": [
    "dfall_a=pd.DataFrame\n",
    "dfall_a=df5a_c+df4a_c+df1_ai+df3a_c\n",
    "dfall_a"
   ]
  },
  {
   "cell_type": "markdown",
   "metadata": {},
   "source": [
    "SMS EVALUATION OF DAY 2"
   ]
  },
  {
   "cell_type": "code",
   "execution_count": 36,
   "metadata": {},
   "outputs": [
    {
     "data": {
      "text/plain": [
       "1243734.0"
      ]
     },
     "execution_count": 36,
     "metadata": {},
     "output_type": "execute_result"
    }
   ],
   "source": [
    "df1e_copy=df1[df1['Data_main']=='Messaging-Charging-Originating-Sms']\n",
    "df1e_co=df1e_copy[(df1a_copy['day']==2) & (df1a_copy['month']==3)]\n",
    "df1e_co=df1a_co.rename(columns={'Total':'SMS'})\n",
    "df1e_co['SMS'].sum()\n",
    "df3a_copy=df3[df3['Data_main']=='Messaging-Charging-Originating-Sms']\n",
    "df3b_co=df3a_copy[(df3a_copy['day']==2) & (df3a_copy['month']==3)]\n",
    "df3b_co=df3b_co.rename(columns={'Total':'SMS'})\n",
    "df3b_co['SMS'].sum()\n",
    "df4a_copy=df4[df4['Data_main']=='Messaging-Charging-Originating-Sms']\n",
    "df4b_co=df4a_copy[(df4a_copy['day']==2) & (df4a_copy['month']==3)]\n",
    "df4b_co=df4b_co.rename(columns={'Total':'SMS'})\n",
    "df4b_co['SMS'].sum()\n",
    "df5a_copy=df5[df5['Data_main']=='Messaging-Charging-Originating-Sms']\n",
    "df5b_co=df5a_copy[(df5a_copy['day']==2) & (df5a_copy['month']==3)]\n",
    "df5b_co=df5b_co.rename(columns={'Total':'SMS'})\n",
    "df5b_co['SMS'].sum()\n",
    "df6b=pd.DataFrame()\n",
    "df6b=df1e_co['SMS'].sum()+df3b_co['SMS'].sum()+df4b_co['SMS'].sum()+df5b_co['SMS'].sum()\n",
    "df6b"
   ]
  },
  {
   "cell_type": "markdown",
   "metadata": {},
   "source": [
    "VOICE OPERATION OF DAY 2"
   ]
  },
  {
   "cell_type": "markdown",
   "metadata": {},
   "source": [
    "SHEET 4"
   ]
  },
  {
   "cell_type": "code",
   "execution_count": 37,
   "metadata": {},
   "outputs": [],
   "source": [
    "df1b=df1[df1.Data_main.str.contains('Voice-Charging-FirstInterrogation-Successful')]\n",
    "df1f_copy=df1b[(df1b['day']==2) & (df1b['month']==3)]\n",
    "df1f_copy=df1f_copy.rename(columns={'Total':'Voice-F'})\n",
    "df1c=df1[df1.Data_main.str.contains('Voice-Charging-IntermediateInterrogation-Successful')]\n",
    "df1f_cop=df1c[(df1c['day']==2) & (df1c['month']==3)]\n",
    "df1f_cop=df1f_cop.rename(columns={'Total':'Voice-I'})\n",
    "\n"
   ]
  },
  {
   "cell_type": "code",
   "execution_count": 38,
   "metadata": {},
   "outputs": [],
   "source": [
    "df1d=df1[df1.Data_main.str.contains('Voice-Charging-FinalReport-Successful')]\n",
    "df1f_co=df1d[(df1d['day']==2) & (df1d['month']==3)]\n",
    "df1f_co=df1f_co.rename(columns={'Total':'Voice-FR'})\n"
   ]
  },
  {
   "cell_type": "markdown",
   "metadata": {},
   "source": [
    "MERGING THE TABLES TO GET THE COMMON DATA"
   ]
  },
  {
   "cell_type": "code",
   "execution_count": 39,
   "metadata": {},
   "outputs": [],
   "source": [
    "df1g=pd.merge(left=df1f_copy, right=df1f_cop, how='right', left_on='Time', right_on='Time')\n",
    "df1g=pd.merge(left=df1g, right=df1f_co, how='left', left_on='Time', right_on='Time')\n"
   ]
  },
  {
   "cell_type": "markdown",
   "metadata": {},
   "source": [
    "DELETING NON REQUIRED COLUMNS\n",
    "\n"
   ]
  },
  {
   "cell_type": "code",
   "execution_count": 40,
   "metadata": {},
   "outputs": [],
   "source": [
    "df1g.drop(['Data_main_x','Data_main_y','Tot_x','month','year','Data_main'],axis=1,inplace=True)\n",
    "df1g.drop(['Tot_y','day_x','month_x','year_x','Tot','day'],axis=1,inplace=True)"
   ]
  },
  {
   "cell_type": "markdown",
   "metadata": {},
   "source": [
    "\n",
    "GETTING THE COUNT"
   ]
  },
  {
   "cell_type": "code",
   "execution_count": 41,
   "metadata": {},
   "outputs": [],
   "source": [
    "df1g['Count']=df1g['Voice-F']+df1g['Voice-I']+df1g['Voice-FR']"
   ]
  },
  {
   "cell_type": "code",
   "execution_count": 42,
   "metadata": {},
   "outputs": [
    {
     "data": {
      "text/plain": [
       "17791823"
      ]
     },
     "execution_count": 42,
     "metadata": {},
     "output_type": "execute_result"
    }
   ],
   "source": [
    "df1g['Count'].sum()"
   ]
  },
  {
   "cell_type": "markdown",
   "metadata": {},
   "source": [
    "sheet 5 day 2"
   ]
  },
  {
   "cell_type": "code",
   "execution_count": 43,
   "metadata": {},
   "outputs": [
    {
     "data": {
      "text/plain": [
       "20600132"
      ]
     },
     "execution_count": 43,
     "metadata": {},
     "output_type": "execute_result"
    }
   ],
   "source": [
    "\n",
    "df3a=df3[df3.Data_main.str.contains('Voice-Charging-FirstInterrogation-Successful')]\n",
    "df3d_copy=df3a[(df3a['day']==2) & (df3a['month']==3)]\n",
    "df3d_copy=df3d_copy.rename(columns={'Total':'Voice-F'})\n",
    "df3d_copy\n",
    "\n",
    "df3c=df3[df3.Data_main.str.contains('Voice-Charging-IntermediateInterrogation-Successful')]\n",
    "df3d_cop=df3c[(df3c['day']==2) &  (df3c['month']==3)]\n",
    "df3d_cop=df3d_cop.rename(columns={'Total':'Voice-I'})\n",
    "df3d_cop\n",
    "\n",
    "df3d=df3[df3.Data_main.str.contains('Voice-Charging-FinalReport-Successful')]\n",
    "df3d_o=df3d[(df3d['day']==2)& (df3d['month']==3)]\n",
    "df3d_o=df3d_o.rename(columns={'Total':'Voice-FR'})\n",
    "df3d_o\n",
    "\n",
    "##MERGING THE TABLES TO GET THE COMMON DATA\n",
    "\n",
    "df3_copy=pd.merge(left=df3d_cop, right=df3d_copy, how='right', left_on='Time', right_on='Time')\n",
    "df3_copy=pd.merge(left=df3_copy, right=df3d_o, how='left', left_on='Time', right_on='Time')\n",
    "\n",
    "##DELETING NON REQUIRED COLUMNS\n",
    "\n",
    "df3_copy.drop(['Data_main_x','Data_main_y','Tot_x','month','year','Data_main'],axis=1,inplace=True)\n",
    "df3_copy.drop(['Tot_y','day_x','month_x','year_x','Tot','day'],axis=1,inplace=True)\n",
    "df3_copy['Count']=df3_copy['Voice-F']+df3_copy['Voice-I']+df3_copy['Voice-FR']\n",
    "df3_copy['Count'].sum()\n",
    "#df1_ai=sum(df1a['Voice-FR'])+sum(df1a['Voice-I'])+sum(df1a['Voice-FR'])\n",
    "#df1_ai\n"
   ]
  },
  {
   "cell_type": "markdown",
   "metadata": {},
   "source": [
    "SHEET 7 DAY 2"
   ]
  },
  {
   "cell_type": "code",
   "execution_count": 44,
   "metadata": {},
   "outputs": [
    {
     "data": {
      "text/plain": [
       "20601690.0"
      ]
     },
     "execution_count": 44,
     "metadata": {},
     "output_type": "execute_result"
    }
   ],
   "source": [
    "df5a=df5[df5.Data_main.str.contains('Voice-Charging-FirstInterrogation-Successful')]\n",
    "df5c_copy=df5a[(df5a['day']==2) & (df5a['month']==3)]\n",
    "df5c_copy=df5c_copy.rename(columns={'Total':'Voice-F'})\n",
    "df5c_copy\n",
    "\n",
    "df5c=df5[df5.Data_main.str.contains('Voice-Charging-IntermediateInterrogation-Successful')]\n",
    "df5c_cop=df5c[(df5c['day']==2) &  (df5c['month']==3)]\n",
    "df5c_cop=df5c_cop.rename(columns={'Total':'Voice-I'})\n",
    "\n",
    "df5d=df5[df5.Data_main.str.contains('Voice-Charging-FinalReport-Successful')]\n",
    "df5c_o=df5d[(df5d['day']==2)& (df5d['month']==3)]\n",
    "df5c_o=df5c_o.rename(columns={'Total':'Voice-FR'})\n",
    "\n",
    "##MERGING THE TABLES TO GET THE COMMON DATA\n",
    "\n",
    "df5_copy=pd.merge(left=df5c_cop, right=df5c_copy, how='right', left_on='Time', right_on='Time')\n",
    "df5_copy=pd.merge(left=df5_copy, right=df5c_o, how='left', left_on='Time', right_on='Time')\n",
    "\n",
    "##DELETING NON REQUIRED COLUMNS\n",
    "\n",
    "df5_copy.drop(['Data_main_x','Data_main_y','Tot_x','month','year','Data_main'],axis=1,inplace=True)\n",
    "df5_copy.drop(['Tot_y','day_x','month_x','year_x','Tot','day'],axis=1,inplace=True)\n",
    "df5_copy['Count']=df5_copy['Voice-F']+df5_copy['Voice-I']+df5_copy['Voice-FR']\n",
    "#df1_ai=sum(df1a['Voice-FR'])+sum(df1a['Voice-I'])+sum(df1a['Voice-FR'])\n",
    "#df1_ai\n",
    "df5_copy['Count'].sum()"
   ]
  },
  {
   "cell_type": "markdown",
   "metadata": {},
   "source": [
    "SHEET 6 DAY 2"
   ]
  },
  {
   "cell_type": "code",
   "execution_count": 45,
   "metadata": {},
   "outputs": [
    {
     "data": {
      "text/plain": [
       "0.0"
      ]
     },
     "execution_count": 45,
     "metadata": {},
     "output_type": "execute_result"
    }
   ],
   "source": [
    "0.0"
   ]
  },
  {
   "cell_type": "code",
   "execution_count": 46,
   "metadata": {},
   "outputs": [
    {
     "data": {
      "text/plain": [
       "58993645.0"
      ]
     },
     "execution_count": 46,
     "metadata": {},
     "output_type": "execute_result"
    }
   ],
   "source": [
    "df6c_=df5_copy['Count'].sum()+df3_copy['Count'].sum()+df1g['Count'].sum()\n",
    "df6c_"
   ]
  },
  {
   "cell_type": "markdown",
   "metadata": {},
   "source": [
    "SMS CHARGES OF DAY 3"
   ]
  },
  {
   "cell_type": "code",
   "execution_count": 47,
   "metadata": {},
   "outputs": [
    {
     "data": {
      "text/plain": [
       "1244869.0"
      ]
     },
     "execution_count": 47,
     "metadata": {},
     "output_type": "execute_result"
    }
   ],
   "source": [
    "df1e_copy=df1[df1.Data_main.str.contains('Messaging-Charging-Originating-Sms')]\n",
    "df1e_c=df1e_copy[(df1e_copy['day']==3) & (df1e_copy['month']==3)]\n",
    "df1e_c=df1e_c.rename(columns={'Total':'SMS'})\n",
    "df1e_c['SMS'].sum()\n",
    "df3a_copy=df3[df3['Data_main']=='Messaging-Charging-Originating-Sms']\n",
    "df3b_c=df3a_copy[(df3a_copy['day']==3) & (df3a_copy['month']==3)]\n",
    "df3b_c=df3b_c.rename(columns={'Total':'SMS'})\n",
    "df3b_c['SMS'].sum()\n",
    "df4a_copy=df4[df4['Data_main']=='Messaging-Charging-Originating-Sms']\n",
    "df4b_c=df4a_copy[(df4a_copy['day']==3) & (df4a_copy['month']==3)]\n",
    "df4b_c=df4b_c.rename(columns={'Total':'SMS'})\n",
    "df4b_c['SMS'].sum()\n",
    "df5a_copy=df5[df5['Data_main']=='Messaging-Charging-Originating-Sms']\n",
    "df5b_c=df5a_copy[(df5a_copy['day']==3) & (df5a_copy['month']==3)]\n",
    "df5b_c=df5b_c.rename(columns={'Total':'SMS'})\n",
    "df5b_co['SMS'].sum()\n",
    "df6c=pd.DataFrame()\n",
    "df6c=df1e_co['SMS'].sum()+df3b_c['SMS'].sum()+df4b_c['SMS'].sum()+df5b_c['SMS'].sum()\n",
    "df6c"
   ]
  },
  {
   "cell_type": "markdown",
   "metadata": {},
   "source": [
    "VOICE OPERATION DAY 3"
   ]
  },
  {
   "cell_type": "markdown",
   "metadata": {},
   "source": [
    "SHEET 4 df1"
   ]
  },
  {
   "cell_type": "code",
   "execution_count": 48,
   "metadata": {},
   "outputs": [],
   "source": [
    "df1h=df1[df1.Data_main.str.contains('Voice-Charging-FirstInterrogation-Successful')]\n",
    "df1i_copy=df1h[(df1h['day']==3) & (df1h['month']==3)]\n",
    "df1i_copy=df1i_copy.rename(columns={'Total':'Voice-F'})\n",
    "df1c=df1[df1.Data_main.str.contains('Voice-Charging-IntermediateInterrogation-Successful')]\n",
    "df1i_cop=df1c[(df1c['day']==3) & (df1c['month']==3)]\n",
    "df1i_cop=df1i_cop.rename(columns={'Total':'Voice-I'})\n",
    "df1d=df1[df1.Data_main.str.contains('Voice-Charging-FinalReport-Successful')]\n",
    "df1i_co=df1d[(df1d['day']==3) & (df1d['month']==3)]\n",
    "df1i_co=df1i_co.rename(columns={'Total':'Voice-FR'})\n"
   ]
  },
  {
   "cell_type": "markdown",
   "metadata": {},
   "source": [
    "MERGING THE TABLES TO GET THE COMMON DATA\n",
    "\n"
   ]
  },
  {
   "cell_type": "code",
   "execution_count": 49,
   "metadata": {},
   "outputs": [],
   "source": [
    "df1j=pd.merge(left=df1i_copy, right=df1i_cop, how='right', left_on='Time', right_on='Time')\n",
    "df1j=pd.merge(left=df1j, right=df1i_co, how='left', left_on='Time', right_on='Time')\n",
    "\n"
   ]
  },
  {
   "cell_type": "markdown",
   "metadata": {},
   "source": [
    "DELETING NON REQUIRED COLUMNS\n",
    "\n"
   ]
  },
  {
   "cell_type": "code",
   "execution_count": 50,
   "metadata": {},
   "outputs": [],
   "source": [
    "df1j.drop(['Data_main_x','Data_main_y','Tot_x','month_x','year_y','Data_main'],axis=1,inplace=True)\n",
    "df1j.drop(['Tot_y','day_x','month_y','year_x','Tot','day_y'],axis=1,inplace=True)\n"
   ]
  },
  {
   "cell_type": "markdown",
   "metadata": {},
   "source": [
    "GETTING THE COUNT\n",
    "\n"
   ]
  },
  {
   "cell_type": "code",
   "execution_count": 51,
   "metadata": {},
   "outputs": [],
   "source": [
    "\n",
    "df1j['Count']=df1j['Voice-F']+df1j['Voice-I']+df1j['Voice-FR']"
   ]
  },
  {
   "cell_type": "code",
   "execution_count": 52,
   "metadata": {},
   "outputs": [
    {
     "data": {
      "text/plain": [
       "17357101"
      ]
     },
     "execution_count": 52,
     "metadata": {},
     "output_type": "execute_result"
    }
   ],
   "source": [
    "df1j['Count'].sum()"
   ]
  },
  {
   "cell_type": "markdown",
   "metadata": {},
   "source": [
    "sheet 5 df3"
   ]
  },
  {
   "cell_type": "code",
   "execution_count": 53,
   "metadata": {},
   "outputs": [
    {
     "data": {
      "text/plain": [
       "19976195"
      ]
     },
     "execution_count": 53,
     "metadata": {},
     "output_type": "execute_result"
    }
   ],
   "source": [
    "df3a=df3[df3.Data_main.str.contains('Voice-Charging-FirstInterrogation-Successful')]\n",
    "df3e_copy=df3a[(df3a['day']==3) & (df3a['month']==3)]\n",
    "df3e_copy=df3e_copy.rename(columns={'Total':'Voice-F'})\n",
    "df3e_copy\n",
    "\n",
    "df3c=df3[df3.Data_main.str.contains('Voice-Charging-IntermediateInterrogation-Successful')]\n",
    "df3e_cop=df3c[(df3c['day']==3) &  (df3c['month']==3)]\n",
    "df3e_cop=df3e_cop.rename(columns={'Total':'Voice-I'})\n",
    "df3e_cop\n",
    "\n",
    "df3d=df3[df3.Data_main.str.contains('Voice-Charging-FinalReport-Successful')]\n",
    "df3e_o=df3d[(df3d['day']==3)& (df3d['month']==3)]\n",
    "df3e_o=df3e_o.rename(columns={'Total':'Voice-FR'})\n",
    "df3e_o\n",
    "\n",
    "##MERGING THE TABLES TO GET THE COMMON DATA\n",
    "\n",
    "df3_cop=pd.merge(left=df3e_cop, right=df3e_copy, how='right', left_on='Time', right_on='Time')\n",
    "df3_cop=pd.merge(left=df3_cop, right=df3e_o, how='left', left_on='Time', right_on='Time')\n",
    "\n",
    "##DELETING NON REQUIRED COLUMNS\n",
    "\n",
    "df3_cop.drop(['Data_main_x','Data_main_y','Tot_x','month','year','Data_main'],axis=1,inplace=True)\n",
    "df3_cop.drop(['Tot_y','day_x','month_x','year_x','Tot','day'],axis=1,inplace=True)\n",
    "df3_cop['Count']=df3_cop['Voice-F']+df3_cop['Voice-I']+df3_cop['Voice-FR']\n",
    "df3_cop['Count'].sum()"
   ]
  },
  {
   "cell_type": "markdown",
   "metadata": {},
   "source": [
    "sheet 6 df4"
   ]
  },
  {
   "cell_type": "code",
   "execution_count": 54,
   "metadata": {},
   "outputs": [
    {
     "data": {
      "text/plain": [
       "0.0"
      ]
     },
     "execution_count": 54,
     "metadata": {},
     "output_type": "execute_result"
    }
   ],
   "source": [
    "df4a=df4[df4.Data_main.str.contains('Voice-Charging-FirstInterrogation-Successful')]\n",
    "df4a_copy=df4a[(df4a['day']==3) & (df4a['month']==3)]\n",
    "df4a_copy=df4a_copy.rename(columns={'Total':'Voice-F'})\n",
    "df4a_copy['Voice-F'].sum()\n",
    "\n",
    "df4c=df4[df4.Data_main.str.contains('Voice-Charging-IntermediateInterrogation-Successful')]\n",
    "df4a_cop=df4c[(df4c['day']==3) &  (df4c['month']==3)]\n",
    "df4a_cop=df4a_cop.rename(columns={'Total':'Voice-I'})\n",
    "df4a_cop['Voice-I'].sum()\n",
    "\n",
    "df4d=df4[df4.Data_main.str.contains('Voice-Charging-FinalReport-Successful')]\n",
    "df4a_o=df4d[(df4d['day']==3)& (df4d['month']==3)]\n",
    "df4a_o=df4a_o.rename(columns={'Total':'Voice-FR'})\n",
    "df4a_o['Voice-FR'].sum()\n",
    "df4a_c=pd.DataFrame()\n",
    "df4a_c=df4a_copy['Voice-F'].sum()+df4a_cop['Voice-I'].sum()+df4a_o['Voice-FR'].sum()\n",
    "df4a_c"
   ]
  },
  {
   "cell_type": "markdown",
   "metadata": {},
   "source": [
    "sheet 7 df5"
   ]
  },
  {
   "cell_type": "code",
   "execution_count": 55,
   "metadata": {},
   "outputs": [
    {
     "data": {
      "text/plain": [
       "19979954.0"
      ]
     },
     "execution_count": 55,
     "metadata": {},
     "output_type": "execute_result"
    }
   ],
   "source": [
    "df5a=df5[df5.Data_main.str.contains('Voice-Charging-FirstInterrogation-Successful')]\n",
    "df5d_copy=df5a[(df5a['day']==3) & (df5a['month']==3)]\n",
    "df5d_copy=df5d_copy.rename(columns={'Total':'Voice-F'})\n",
    "df5d_copy\n",
    "\n",
    "df5c=df5[df5.Data_main.str.contains('Voice-Charging-IntermediateInterrogation-Successful')]\n",
    "df5d_cop=df5c[(df5c['day']==3) &  (df5c['month']==3)]\n",
    "df5d_cop=df5d_cop.rename(columns={'Total':'Voice-I'})\n",
    "\n",
    "df5d=df5[df5.Data_main.str.contains('Voice-Charging-FinalReport-Successful')]\n",
    "df5d_o=df5d[(df5d['day']==3)& (df5d['month']==3)]\n",
    "df5d_o=df5d_o.rename(columns={'Total':'Voice-FR'})\n",
    "\n",
    "##MERGING THE TABLES TO GET THE COMMON DATA\n",
    "df5_cop=pd.merge(left=df5d_cop, right=df5d_copy, how='right', left_on='Time', right_on='Time')\n",
    "df5_cop=pd.merge(left=df5_cop, right=df5d_o, how='left', left_on='Time', right_on='Time')\n",
    "\n",
    "##DELETING NON REQUIRED COLUMNS\n",
    "df5_cop.drop(['Data_main_x','Data_main_y','Tot_x','month_x','year_y','Data_main'],axis=1,inplace=True)\n",
    "df5_cop.drop(['Tot_y','day_x','month_y','year_x','Tot','day_y'],axis=1,inplace=True)\n",
    "df5_cop['Count']=df5_cop['Voice-F']+df5_cop['Voice-I']+df5_cop['Voice-FR']\n",
    "\n",
    "df5_cop['Count'].sum()"
   ]
  },
  {
   "cell_type": "code",
   "execution_count": 56,
   "metadata": {},
   "outputs": [
    {
     "data": {
      "text/plain": [
       "57313250.0"
      ]
     },
     "execution_count": 56,
     "metadata": {},
     "output_type": "execute_result"
    }
   ],
   "source": [
    "df6d=df5_cop['Count'].sum()+df3_cop['Count'].sum()+df1j['Count'].sum()\n",
    "df6d"
   ]
  },
  {
   "cell_type": "markdown",
   "metadata": {},
   "source": [
    "SMS CHARGING OF DAY 4"
   ]
  },
  {
   "cell_type": "code",
   "execution_count": 57,
   "metadata": {},
   "outputs": [
    {
     "data": {
      "text/plain": [
       "1391814.0"
      ]
     },
     "execution_count": 57,
     "metadata": {},
     "output_type": "execute_result"
    }
   ],
   "source": [
    "df1e_copy=df1[df1['Data_main']=='Messaging-Charging-Originating-Sms']\n",
    "df1k_copy=df1e_copy[(df1e_copy['day']==4) & (df1e_copy['month']==3)]\n",
    "df1k_copy=df1k_copy.rename(columns={'Total':'SMS'})\n",
    "df1k_copy['SMS'].sum()\n",
    "df3a_copy=df3[df3['Data_main']=='Messaging-Charging-Originating-Sms']\n",
    "df3bi_copy=df3a_copy[(df3a_copy['day']==4) & (df3a_copy['month']==3)]\n",
    "df3bi_copy=df3bi_copy.rename(columns={'Total':'SMS'})\n",
    "df3bi_copy['SMS'].sum()\n",
    "df4a_copy=df4[df4['Data_main']=='Messaging-Charging-Originating-Sms']\n",
    "df4bi_copy=df4a_copy[(df4a_copy['day']==4) & (df4a_copy['month']==3)]\n",
    "df4bi_copy=df4bi_copy.rename(columns={'Total':'SMS'})\n",
    "df4bi_copy['SMS'].sum()\n",
    "df5a_copy=df5[df5['Data_main']=='Messaging-Charging-Originating-Sms']\n",
    "df5bi_copy=df5a_copy[(df5a_copy['day']==4) & (df5a_copy['month']==3)]\n",
    "df5bi_copy=df5bi_copy.rename(columns={'Total':'SMS'})\n",
    "df5bi_copy['SMS'].sum()\n",
    "df6copy=pd.DataFrame()\n",
    "df6copy=df1k_copy['SMS'].sum()+df3bi_copy['SMS'].sum()+df4bi_copy['SMS'].sum()+df5bi_copy['SMS'].sum()\n",
    "df6copy"
   ]
  },
  {
   "cell_type": "markdown",
   "metadata": {},
   "source": [
    "VOICE CHARGING DAY 4"
   ]
  },
  {
   "cell_type": "markdown",
   "metadata": {},
   "source": [
    "SHEET 4 df1"
   ]
  },
  {
   "cell_type": "code",
   "execution_count": 58,
   "metadata": {},
   "outputs": [],
   "source": [
    "df1h=df1[df1.Data_main.str.contains('Voice-Charging-FirstInterrogation-Successful')]\n",
    "df1l_copy=df1h[(df1h['day']==4) & (df1h['month']==3)]\n",
    "df1l_copy=df1i_copy.rename(columns={'Total':'Voice-F'})\n",
    "df1c=df1[df1.Data_main.str.contains('Voice-Charging-IntermediateInterrogation-Successful')]\n",
    "df1l_cop=df1c[(df1c['day']==4) & (df1c['month']==3)]\n",
    "df1l_cop=df1l_cop.rename(columns={'Total':'Voice-I'})\n",
    "df1d=df1[df1.Data_main.str.contains('Voice-Charging-FinalReport-Successful')]\n",
    "df1l_co=df1d[(df1d['day']==4) & (df1d['month']==3)]\n",
    "df1l_co=df1l_co.rename(columns={'Total':'Voice-FR'})"
   ]
  },
  {
   "cell_type": "markdown",
   "metadata": {},
   "source": [
    "MERGING THE TABLES TO GET THE COMMON DATA\n",
    "\n",
    "\n"
   ]
  },
  {
   "cell_type": "code",
   "execution_count": 59,
   "metadata": {},
   "outputs": [],
   "source": [
    "df1m=pd.merge(left=df1l_copy, right=df1l_cop, how='right', left_on='Time', right_on='Time')\n",
    "df1m=pd.merge(left=df1m, right=df1l_co, how='left', left_on='Time', right_on='Time')\n"
   ]
  },
  {
   "cell_type": "markdown",
   "metadata": {},
   "source": [
    "\n",
    "DELETING NON REQUIRED COLUMNS\n"
   ]
  },
  {
   "cell_type": "code",
   "execution_count": 60,
   "metadata": {},
   "outputs": [],
   "source": [
    "\n",
    "df1m.drop(['Data_main_x','Data_main_y','Tot_x','month_x','year_y','Data_main'],axis=1,inplace=True)\n",
    "df1m.drop(['Tot_y','day_x','month_y','year_x','Tot','day_y'],axis=1,inplace=True)\n"
   ]
  },
  {
   "cell_type": "markdown",
   "metadata": {},
   "source": [
    "\n",
    "GETTING THE COUNT\n"
   ]
  },
  {
   "cell_type": "code",
   "execution_count": 61,
   "metadata": {},
   "outputs": [],
   "source": [
    "df1m['Count']=df1m['Voice-F']+df1m['Voice-I']+df1m['Voice-FR']"
   ]
  },
  {
   "cell_type": "code",
   "execution_count": 62,
   "metadata": {},
   "outputs": [
    {
     "data": {
      "text/plain": [
       "17315767"
      ]
     },
     "execution_count": 62,
     "metadata": {},
     "output_type": "execute_result"
    }
   ],
   "source": [
    "df1m['Count'].sum()"
   ]
  },
  {
   "cell_type": "markdown",
   "metadata": {},
   "source": [
    "sheet 5 df3"
   ]
  },
  {
   "cell_type": "code",
   "execution_count": 63,
   "metadata": {},
   "outputs": [
    {
     "data": {
      "text/plain": [
       "19829423"
      ]
     },
     "execution_count": 63,
     "metadata": {},
     "output_type": "execute_result"
    }
   ],
   "source": [
    "df3a=df3[df3.Data_main.str.contains('Voice-Charging-FirstInterrogation-Successful')]\n",
    "df3f_copy=df3a[(df3a['day']==4) & (df3a['month']==3)]\n",
    "df3f_copy=df3f_copy.rename(columns={'Total':'Voice-F'})\n",
    "df3f_copy\n",
    "\n",
    "df3c=df3[df3.Data_main.str.contains('Voice-Charging-IntermediateInterrogation-Successful')]\n",
    "df3f_cop=df3c[(df3c['day']==4) &  (df3c['month']==3)]\n",
    "df3f_cop=df3f_cop.rename(columns={'Total':'Voice-I'})\n",
    "df3f_cop\n",
    "\n",
    "df3d=df3[df3.Data_main.str.contains('Voice-Charging-FinalReport-Successful')]\n",
    "df3f_o=df3d[(df3d['day']==4)& (df3d['month']==3)]\n",
    "df3f_o=df3f_o.rename(columns={'Total':'Voice-FR'})\n",
    "df3f_o\n",
    "\n",
    "##MERGING THE TABLES TO GET THE COMMON DATA\n",
    "\n",
    "df3_co=pd.merge(left=df3f_cop, right=df3f_copy, how='right', left_on='Time', right_on='Time')\n",
    "df3_co=pd.merge(left=df3_co, right=df3f_o, how='left', left_on='Time', right_on='Time')\n",
    "\n",
    "##DELETING NON REQUIRED COLUMNS\n",
    "\n",
    "df3_co.drop(['Data_main_x','Data_main_y','Tot_x','month','year','Data_main'],axis=1,inplace=True)\n",
    "df3_co.drop(['Tot_y','day_x','month_x','year_x','Tot','day'],axis=1,inplace=True)\n",
    "df3_co['Count']=df3_co['Voice-F']+df3_co['Voice-I']+df3_co['Voice-FR']\n",
    "df3_co['Count'].sum()"
   ]
  },
  {
   "cell_type": "markdown",
   "metadata": {},
   "source": [
    "sheet 6 df4"
   ]
  },
  {
   "cell_type": "code",
   "execution_count": 64,
   "metadata": {},
   "outputs": [
    {
     "data": {
      "text/plain": [
       "0.0"
      ]
     },
     "execution_count": 64,
     "metadata": {},
     "output_type": "execute_result"
    }
   ],
   "source": [
    "df4a=df4[df4.Data_main.str.contains('Voice-Charging-FirstInterrogation-Successful')]\n",
    "df4a_copy=df4a[(df4a['day']==4) & (df4a['month']==3)]\n",
    "df4a_copy=df4a_copy.rename(columns={'Total':'Voice-F'})\n",
    "df4a_copy['Voice-F'].sum()\n",
    "\n",
    "df4c=df4[df4.Data_main.str.contains('Voice-Charging-IntermediateInterrogation-Successful')]\n",
    "df4a_cop=df4c[(df4c['day']==4) &  (df4c['month']==3)]\n",
    "df4a_cop=df4a_cop.rename(columns={'Total':'Voice-I'})\n",
    "df4a_cop['Voice-I'].sum()\n",
    "\n",
    "df4d=df4[df4.Data_main.str.contains('Voice-Charging-FinalReport-Successful')]\n",
    "df4a_o=df4d[(df4d['day']==4)& (df4d['month']==3)]\n",
    "df4a_o=df4a_o.rename(columns={'Total':'Voice-FR'})\n",
    "df4a_o['Voice-FR'].sum()\n",
    "df4a_c=pd.DataFrame()\n",
    "df4a_c=df4a_copy['Voice-F'].sum()+df4a_cop['Voice-I'].sum()+df4a_o['Voice-FR'].sum()\n",
    "df4a_c"
   ]
  },
  {
   "cell_type": "markdown",
   "metadata": {},
   "source": [
    "sheet 7 df5"
   ]
  },
  {
   "cell_type": "code",
   "execution_count": 65,
   "metadata": {},
   "outputs": [
    {
     "data": {
      "text/plain": [
       "19824464.0"
      ]
     },
     "execution_count": 65,
     "metadata": {},
     "output_type": "execute_result"
    }
   ],
   "source": [
    "df5c=df5[df5.Data_main.str.contains('Voice-Charging-FirstInterrogation-Successful')]\n",
    "df5f_copy=df5c[(df5c['day']==4) &  (df5c['month']==3)]\n",
    "df5f_copy=df5f_copy.rename(columns={'Total':'Voice-F'})\n",
    "\n",
    "\n",
    "df5c=df5[df5.Data_main.str.contains('Voice-Charging-IntermediateInterrogation-Successful')]\n",
    "df5f_cop=df5c[(df5c['day']==4) &  (df5c['month']==3)]\n",
    "df5f_cop=df5f_cop.rename(columns={'Total':'Voice-I'})\n",
    "\n",
    "df5d=df5[df5.Data_main.str.contains('Voice-Charging-FinalReport-Successful')]\n",
    "df5f_o=df5d[(df5d['day']==4)& (df5d['month']==3)]\n",
    "df5f_o=df5f_o.rename(columns={'Total':'Voice-FR'})\n",
    "\n",
    "##MERGING THE TABLES TO GET THE COMMON DATA\n",
    "df5_co=pd.merge(left=df5f_cop, right=df5f_copy, how='right', left_on='Time', right_on='Time')\n",
    "df5_co=pd.merge(left=df5_co, right=df5f_o, how='left', left_on='Time', right_on='Time')\n",
    "\n",
    "##DELETING NON REQUIRED COLUMNS\n",
    "df5_co.drop(['Data_main_x','Data_main_y','Tot_x','month_x','year_y','Data_main'],axis=1,inplace=True)\n",
    "df5_co.drop(['Tot_y','day_x','month_y','year_x','Tot','day_y'],axis=1,inplace=True)\n",
    "df5_co['Count']=df5_co['Voice-F']+df5_co['Voice-I']+df5_co['Voice-FR']\n",
    "\n",
    "df5_co['Count'].sum()"
   ]
  },
  {
   "cell_type": "code",
   "execution_count": 66,
   "metadata": {},
   "outputs": [
    {
     "data": {
      "text/plain": [
       "56969654.0"
      ]
     },
     "execution_count": 66,
     "metadata": {},
     "output_type": "execute_result"
    }
   ],
   "source": [
    "df6cop_=df5_co['Count'].sum()+df3_co['Count'].sum()+df1m['Count'].sum()\n",
    "df6cop_"
   ]
  },
  {
   "cell_type": "markdown",
   "metadata": {},
   "source": [
    "SMS CHARGING OF DAY 5"
   ]
  },
  {
   "cell_type": "code",
   "execution_count": 67,
   "metadata": {},
   "outputs": [
    {
     "data": {
      "text/plain": [
       "1340188.0"
      ]
     },
     "execution_count": 67,
     "metadata": {},
     "output_type": "execute_result"
    }
   ],
   "source": [
    "df1e_copy=df1[df1.Data_main.str.contains('Messaging-Charging-Originating-Sms')]\n",
    "df1k_cop=df1e_copy[(df1e_copy['day']==5) & (df1e_copy['month']==3)]\n",
    "df1k_cop=df1k_cop.rename(columns={'Total':'SMS'})\n",
    "df1k_cop['SMS'].sum()\n",
    "df3a_copy=df3[df3['Data_main']=='Messaging-Charging-Originating-Sms']\n",
    "df3bi_cop=df3a_copy[(df3a_copy['day']==5) & (df3a_copy['month']==3)]\n",
    "df3bi_cop=df3bi_cop.rename(columns={'Total':'SMS'})\n",
    "df3bi_cop['SMS'].sum()\n",
    "df4a_copy=df4[df4['Data_main']=='Messaging-Charging-Originating-Sms']\n",
    "df4bi_cop=df4a_copy[(df4a_copy['day']==5) & (df4a_copy['month']==3)]\n",
    "df4bi_cop=df4bi_cop.rename(columns={'Total':'SMS'})\n",
    "df4bi_cop['SMS'].sum()\n",
    "df5a_copy=df5[df5['Data_main']=='Messaging-Charging-Originating-Sms']\n",
    "df5bi_cop=df5a_copy[(df5a_copy['day']==5) & (df5a_copy['month']==3)]\n",
    "df5bi_cop=df5bi_cop.rename(columns={'Total':'SMS'})\n",
    "df5bi_cop['SMS'].sum()\n",
    "df6cop=pd.DataFrame()\n",
    "df6cop=df1k_cop['SMS'].sum()+df3bi_cop['SMS'].sum()+df4bi_cop['SMS'].sum()+df5bi_cop['SMS'].sum()\n",
    "df6cop"
   ]
  },
  {
   "cell_type": "markdown",
   "metadata": {},
   "source": [
    "VOICE CHARGING DAY 5"
   ]
  },
  {
   "cell_type": "code",
   "execution_count": 68,
   "metadata": {},
   "outputs": [],
   "source": [
    "df1h=df1[df1.Data_main.str.contains('Voice-Charging-FirstInterrogation-Successful')]\n",
    "df1n_copy=df1h[(df1h['day']==5) & (df1h['month']==3)]\n",
    "df1n_copy=df1n_copy.rename(columns={'Total':'Voice-F'})\n",
    "df1c=df1[df1.Data_main.str.contains('Voice-Charging-IntermediateInterrogation-Successful')]\n",
    "df1n_cop=df1c[(df1c['day']==5) & (df1c['month']==3)]\n",
    "df1n_cop=df1n_cop.rename(columns={'Total':'Voice-I'})\n",
    "df1d=df1[df1.Data_main.str.contains('Voice-Charging-FinalReport-Successful')]\n",
    "df1n_co=df1d[(df1d['day']==5) & (df1d['month']==3)]\n",
    "df1n_co=df1n_co.rename(columns={'Total':'Voice-FR'})\n"
   ]
  },
  {
   "cell_type": "markdown",
   "metadata": {},
   "source": [
    "MERGING THE TABLES TO GET THE COMMON DATA AND DELETING THE USELESS COLUMNS \n",
    "\n"
   ]
  },
  {
   "cell_type": "code",
   "execution_count": 69,
   "metadata": {},
   "outputs": [],
   "source": [
    "df1o=pd.merge(left=df1n_copy, right=df1n_cop, how='right', left_on='Time', right_on='Time')\n",
    "df1o=pd.merge(left=df1o, right=df1n_co, how='left', left_on='Time', right_on='Time')\n",
    "df1o.drop(['Data_main_x','Data_main_y','Tot_x','month_x','year_y','Data_main'],axis=1,inplace=True)\n",
    "df1o.drop(['Tot_y','day_x','month_y','year_x','Tot','day_y'],axis=1,inplace=True)"
   ]
  },
  {
   "cell_type": "markdown",
   "metadata": {},
   "source": [
    "\n",
    "GETTING THE COUNT"
   ]
  },
  {
   "cell_type": "code",
   "execution_count": 70,
   "metadata": {},
   "outputs": [
    {
     "data": {
      "text/plain": [
       "17620843"
      ]
     },
     "execution_count": 70,
     "metadata": {},
     "output_type": "execute_result"
    }
   ],
   "source": [
    "\n",
    "df1o['Count']=df1o['Voice-F']+df1o['Voice-I']+df1o['Voice-FR']\n",
    "df1o['Count'].sum()\n"
   ]
  },
  {
   "cell_type": "markdown",
   "metadata": {},
   "source": [
    "sheet 5 df3"
   ]
  },
  {
   "cell_type": "code",
   "execution_count": 71,
   "metadata": {},
   "outputs": [
    {
     "data": {
      "text/plain": [
       "20207550"
      ]
     },
     "execution_count": 71,
     "metadata": {},
     "output_type": "execute_result"
    }
   ],
   "source": [
    "df3a=df3[df3.Data_main.str.contains('Voice-Charging-FirstInterrogation-Successful')]\n",
    "df3g_copy=df3a[(df3a['day']==5) & (df3a['month']==3)]\n",
    "df3g_copy=df3g_copy.rename(columns={'Total':'Voice-F'})\n",
    "df3g_copy\n",
    "\n",
    "df3c=df3[df3.Data_main.str.contains('Voice-Charging-IntermediateInterrogation-Successful')]\n",
    "df3g_cop=df3c[(df3c['day']==5) &  (df3c['month']==3)]\n",
    "df3g_cop=df3g_cop.rename(columns={'Total':'Voice-I'})\n",
    "df3g_cop\n",
    "\n",
    "df3d=df3[df3.Data_main.str.contains('Voice-Charging-FinalReport-Successful')]\n",
    "df3g_o=df3d[(df3d['day']==5)& (df3d['month']==3)]\n",
    "df3g_o=df3g_o.rename(columns={'Total':'Voice-FR'})\n",
    "df3g_o\n",
    "\n",
    "##MERGING THE TABLES TO GET THE COMMON DATA\n",
    "\n",
    "df3_c=pd.merge(left=df3g_cop, right=df3g_copy, how='right', left_on='Time', right_on='Time')\n",
    "df3_c=pd.merge(left=df3_c, right=df3g_o, how='left', left_on='Time', right_on='Time')\n",
    "\n",
    "##DELETING NON REQUIRED COLUMNS\n",
    "\n",
    "df3_c.drop(['Data_main_x','Data_main_y','Tot_x','month','year','Data_main'],axis=1,inplace=True)\n",
    "df3_c.drop(['Tot_y','day_x','month_x','year_x','Tot','day'],axis=1,inplace=True)\n",
    "df3_c['Count']=df3_c['Voice-F']+df3_c['Voice-I']+df3_c['Voice-FR']\n",
    "df3_c['Count'].sum()"
   ]
  },
  {
   "cell_type": "markdown",
   "metadata": {},
   "source": [
    "SHEET 6 df4"
   ]
  },
  {
   "cell_type": "code",
   "execution_count": 72,
   "metadata": {},
   "outputs": [
    {
     "data": {
      "text/plain": [
       "0.0"
      ]
     },
     "execution_count": 72,
     "metadata": {},
     "output_type": "execute_result"
    }
   ],
   "source": [
    "df4a=df4[df4.Data_main.str.contains('Voice-Charging-FirstInterrogation-Successful')]\n",
    "df4a_copy=df4a[(df4a['day']==5) & (df4a['month']==3)]\n",
    "df4a_copy=df4a_copy.rename(columns={'Total':'Voice-F'})\n",
    "df4a_copy['Voice-F'].sum()\n",
    "\n",
    "df4c=df4[df4.Data_main.str.contains('Voice-Charging-IntermediateInterrogation-Successful')]\n",
    "df4a_cop=df4c[(df4c['day']==5) &  (df4c['month']==3)]\n",
    "df4a_cop=df4a_cop.rename(columns={'Total':'Voice-I'})\n",
    "df4a_cop['Voice-I'].sum()\n",
    "\n",
    "df4d=df4[df4.Data_main.str.contains('Voice-Charging-FinalReport-Successful')]\n",
    "df4a_o=df4d[(df4d['day']==5)& (df4d['month']==3)]\n",
    "df4a_o=df4a_o.rename(columns={'Total':'Voice-FR'})\n",
    "df4a_o['Voice-FR'].sum()\n",
    "df4a_c=pd.DataFrame()\n",
    "df4a_c=df4a_copy['Voice-F'].sum()+df4a_cop['Voice-I'].sum()+df4a_o['Voice-FR'].sum()\n",
    "df4a_c"
   ]
  },
  {
   "cell_type": "markdown",
   "metadata": {},
   "source": [
    "sheet 7 df5"
   ]
  },
  {
   "cell_type": "code",
   "execution_count": 73,
   "metadata": {},
   "outputs": [
    {
     "data": {
      "text/plain": [
       "19979954.0"
      ]
     },
     "execution_count": 73,
     "metadata": {},
     "output_type": "execute_result"
    }
   ],
   "source": [
    "df5c_=df5[df5.Data_main.str.contains('Voice-Charging-FirstInterrogation-Successful')]\n",
    "df5f_copy=df5c[(df5c['day']==5) &  (df5c['month']==3)]\n",
    "df5f_copy=df5f_copy.rename(columns={'Total':'Voice-F'})\n",
    "\n",
    "\n",
    "df5c=df5[df5.Data_main.str.contains('Voice-Charging-IntermediateInterrogation-Successful')]\n",
    "df5f_cop=df5c[(df5c['day']==5) &  (df5c['month']==3)]\n",
    "df5f_cop=df5f_cop.rename(columns={'Total':'Voice-I'})\n",
    "\n",
    "df5d=df5[df5.Data_main.str.contains('Voice-Charging-FinalReport-Successful')]\n",
    "df5f_o=df5d[(df5d['day']==5)& (df5d['month']==3)]\n",
    "df5f_o=df5f_o.rename(columns={'Total':'Voice-FR'})\n",
    "\n",
    "##MERGING THE TABLES TO GET THE COMMON DATA\n",
    "df5_c=pd.merge(left=df5d_cop, right=df5d_copy, how='right', left_on='Time', right_on='Time')\n",
    "df5_c=pd.merge(left=df5_c, right=df5d_o, how='left', left_on='Time', right_on='Time')\n",
    "\n",
    "##DELETING NON REQUIRED COLUMNS\n",
    "df5_c.drop(['Data_main_x','Data_main_y','Tot_x','month_x','year_y','Data_main'],axis=1,inplace=True)\n",
    "df5_c.drop(['Tot_y','day_x','month_y','year_x','Tot','day_y'],axis=1,inplace=True)\n",
    "df5_c['Count']=df5_c['Voice-F']+df5_c['Voice-I']+df5_c['Voice-FR']\n",
    "\n",
    "df5_c['Count'].sum()"
   ]
  },
  {
   "cell_type": "code",
   "execution_count": 74,
   "metadata": {},
   "outputs": [
    {
     "data": {
      "text/plain": [
       "57808347.0"
      ]
     },
     "execution_count": 74,
     "metadata": {},
     "output_type": "execute_result"
    }
   ],
   "source": [
    "df6dcopy=df5_c['Count'].sum()+df3_c['Count'].sum()+df1o['Count'].sum()\n",
    "df6dcopy"
   ]
  },
  {
   "cell_type": "markdown",
   "metadata": {},
   "source": [
    "SMS CHARGES FOR DAY 6"
   ]
  },
  {
   "cell_type": "code",
   "execution_count": 75,
   "metadata": {},
   "outputs": [
    {
     "data": {
      "text/plain": [
       "1260185.0"
      ]
     },
     "execution_count": 75,
     "metadata": {},
     "output_type": "execute_result"
    }
   ],
   "source": [
    "df1e_copy=df1[df1.Data_main.str.contains('Messaging-Charging-Originating-Sms')]\n",
    "df1k_co=df1e_copy[(df1e_copy['day']==6) & (df1e_copy['month']==3)]\n",
    "df1k_co=df1k_co.rename(columns={'Total':'SMS'})\n",
    "df1k_co['SMS'].sum()\n",
    "df3a_copy=df3[df3['Data_main']=='Messaging-Charging-Originating-Sms']\n",
    "df3bi_co=df3a_copy[(df3a_copy['day']==6) & (df3a_copy['month']==3)]\n",
    "df3bi_co=df3bi_co.rename(columns={'Total':'SMS'})\n",
    "df3bi_co['SMS'].sum()\n",
    "df4a_copy=df4[df4['Data_main']=='Messaging-Charging-Originating-Sms']\n",
    "df4bi_co=df4a_copy[(df4a_copy['day']==6) & (df4a_copy['month']==3)]\n",
    "df4bi_co=df4bi_co.rename(columns={'Total':'SMS'})\n",
    "df4bi_co['SMS'].sum()\n",
    "df5a_copy=df5[df5['Data_main']=='Messaging-Charging-Originating-Sms']\n",
    "df5bi_co=df5a_copy[(df5a_copy['day']==6) & (df5a_copy['month']==3)]\n",
    "df5bi_co=df5bi_co.rename(columns={'Total':'SMS'})\n",
    "df5bi_co['SMS'].sum()\n",
    "df6co=pd.DataFrame()\n",
    "df6co=df1k_co['SMS'].sum()+df3bi_co['SMS'].sum()+df4bi_co['SMS'].sum()+df5bi_co['SMS'].sum()\n",
    "df6co"
   ]
  },
  {
   "cell_type": "markdown",
   "metadata": {},
   "source": [
    "VOICE CHARGING OF DAY 6"
   ]
  },
  {
   "cell_type": "code",
   "execution_count": 76,
   "metadata": {},
   "outputs": [],
   "source": [
    "df1h=df1[df1.Data_main.str.contains('Voice-Charging-FirstInterrogation-Successful')]\n",
    "df1p_copy=df1h[(df1h['day']==6) & (df1h['month']==3)]\n",
    "df1p_copy=df1p_copy.rename(columns={'Total':'Voice-F'})\n",
    "df1c=df1[df1.Data_main.str.contains('Voice-Charging-IntermediateInterrogation-Successful')]\n",
    "df1p_cop=df1c[(df1c['day']==6) & (df1c['month']==3)]\n",
    "df1p_cop=df1p_cop.rename(columns={'Total':'Voice-I'})\n",
    "df1d=df1[df1.Data_main.str.contains('Voice-Charging-FinalReport-Successful')]\n",
    "df1p_co=df1d[(df1d['day']==6) & (df1d['month']==3)]\n",
    "df1p_co=df1p_co.rename(columns={'Total':'Voice-FR'})\n"
   ]
  },
  {
   "cell_type": "markdown",
   "metadata": {},
   "source": [
    "MERGING THE TABLES TO GET THE COMMON DATA AND DELETING THE USELESS COLUMNS\n",
    "\n"
   ]
  },
  {
   "cell_type": "code",
   "execution_count": 77,
   "metadata": {},
   "outputs": [],
   "source": [
    "df1q=pd.merge(left=df1p_copy, right=df1p_cop, how='right', left_on='Time', right_on='Time')\n",
    "df1q=pd.merge(left=df1q, right=df1p_co, how='left', left_on='Time', right_on='Time')\n",
    "df1q.drop(['Data_main_x','Data_main_y','Tot_x','month_x','year_y','Data_main'],axis=1,inplace=True)\n",
    "df1q.drop(['Tot_y','day_x','month_y','year_x','Tot','day_y'],axis=1,inplace=True)\n"
   ]
  },
  {
   "cell_type": "markdown",
   "metadata": {},
   "source": [
    "GETTING THE COUNT\n"
   ]
  },
  {
   "cell_type": "code",
   "execution_count": 78,
   "metadata": {},
   "outputs": [
    {
     "data": {
      "text/plain": [
       "17406713"
      ]
     },
     "execution_count": 78,
     "metadata": {},
     "output_type": "execute_result"
    }
   ],
   "source": [
    "\n",
    "df1q['Count']=df1q['Voice-F']+df1q['Voice-I']+df1q['Voice-FR']\n",
    "df1q['Count'].sum()"
   ]
  },
  {
   "cell_type": "markdown",
   "metadata": {},
   "source": [
    "SHEET 5 df3"
   ]
  },
  {
   "cell_type": "code",
   "execution_count": 79,
   "metadata": {},
   "outputs": [
    {
     "data": {
      "text/plain": [
       "19447929"
      ]
     },
     "execution_count": 79,
     "metadata": {},
     "output_type": "execute_result"
    }
   ],
   "source": [
    "df3a=df3[df3.Data_main.str.contains('Voice-Charging-FirstInterrogation-Successful')]\n",
    "df3h_copy=df3a[(df3a['day']==6) & (df3a['month']==3)]\n",
    "df3h_copy=df3h_copy.rename(columns={'Total':'Voice-F'})\n",
    "df3h_copy\n",
    "\n",
    "df3c=df3[df3.Data_main.str.contains('Voice-Charging-IntermediateInterrogation-Successful')]\n",
    "df3h_cop=df3c[(df3c['day']==6) &  (df3c['month']==3)]\n",
    "df3h_cop=df3h_cop.rename(columns={'Total':'Voice-I'})\n",
    "df3h_cop\n",
    "\n",
    "df3d=df3[df3.Data_main.str.contains('Voice-Charging-FinalReport-Successful')]\n",
    "df3h_o=df3d[(df3d['day']==6)& (df3d['month']==3)]\n",
    "df3h_o=df3h_o.rename(columns={'Total':'Voice-FR'})\n",
    "df3h_o\n",
    "\n",
    "##MERGING THE TABLES TO GET THE COMMON DATA\n",
    "\n",
    "df3copy=pd.merge(left=df3h_cop, right=df3h_copy, how='right', left_on='Time', right_on='Time')\n",
    "df3copy=pd.merge(left=df3copy, right=df3h_o, how='left', left_on='Time', right_on='Time')\n",
    "\n",
    "##DELETING NON REQUIRED COLUMNS\n",
    "\n",
    "df3copy.drop(['Data_main_x','Data_main_y','Tot_x','month','year','Data_main'],axis=1,inplace=True)\n",
    "df3copy.drop(['Tot_y','day_x','month_x','year_x','Tot','day'],axis=1,inplace=True)\n",
    "df3copy['Count']=df3copy['Voice-F']+df3copy['Voice-I']+df3copy['Voice-FR']\n",
    "df3copy['Count'].sum()"
   ]
  },
  {
   "cell_type": "markdown",
   "metadata": {},
   "source": [
    "SHEET 6 df4"
   ]
  },
  {
   "cell_type": "code",
   "execution_count": 80,
   "metadata": {},
   "outputs": [
    {
     "data": {
      "text/plain": [
       "0.0"
      ]
     },
     "execution_count": 80,
     "metadata": {},
     "output_type": "execute_result"
    }
   ],
   "source": [
    "df4a=df4[df4.Data_main.str.contains('Voice-Charging-FirstInterrogation-Successful')]\n",
    "df4a_copy=df4a[(df4a['day']==6) & (df4a['month']==3)]\n",
    "df4a_copy=df4a_copy.rename(columns={'Total':'Voice-F'})\n",
    "df4a_copy['Voice-F'].sum()\n",
    "\n",
    "df4c=df4[df4.Data_main.str.contains('Voice-Charging-IntermediateInterrogation-Successful')]\n",
    "df4a_cop=df4c[(df4c['day']==6) &  (df4c['month']==3)]\n",
    "df4a_cop=df4a_cop.rename(columns={'Total':'Voice-I'})\n",
    "df4a_cop['Voice-I'].sum()\n",
    "\n",
    "df4d=df4[df4.Data_main.str.contains('Voice-Charging-FinalReport-Successful')]\n",
    "df4a_o=df4d[(df4d['day']==6)& (df4d['month']==3)]\n",
    "df4a_o=df4a_o.rename(columns={'Total':'Voice-FR'})\n",
    "df4a_o['Voice-FR'].sum()\n",
    "df4a_c=pd.DataFrame()\n",
    "df4a_c=df4a_copy['Voice-F'].sum()+df4a_cop['Voice-I'].sum()+df4a_o['Voice-FR'].sum()\n",
    "df4a_c"
   ]
  },
  {
   "cell_type": "markdown",
   "metadata": {},
   "source": [
    "SHEET 7 df5"
   ]
  },
  {
   "cell_type": "code",
   "execution_count": 81,
   "metadata": {},
   "outputs": [
    {
     "data": {
      "text/plain": [
       "19438855.0"
      ]
     },
     "execution_count": 81,
     "metadata": {},
     "output_type": "execute_result"
    }
   ],
   "source": [
    "df5c_=df5[df5.Data_main.str.contains('Voice-Charging-FirstInterrogation-Successful')]\n",
    "df5h_copy=df5c_[(df5c_['day']==6) &  (df5c_['month']==3)]\n",
    "df5h_copy=df5h_copy.rename(columns={'Total':'Voice-F'})\n",
    "\n",
    "\n",
    "df5c=df5[df5.Data_main.str.contains('Voice-Charging-IntermediateInterrogation-Successful')]\n",
    "df5h_cop=df5c[(df5c['day']==6) &  (df5c['month']==3)]\n",
    "df5h_cop=df5h_cop.rename(columns={'Total':'Voice-I'})\n",
    "\n",
    "df5d=df5[df5.Data_main.str.contains('Voice-Charging-FinalReport-Successful')]\n",
    "df5h_o=df5d[(df5d['day']==6)& (df5d['month']==3)]\n",
    "df5h_o=df5h_o.rename(columns={'Total':'Voice-FR'})\n",
    "\n",
    "##MERGING THE TABLES TO GET THE COMMON DATA\n",
    "df5cop=pd.merge(left=df5h_cop, right=df5h_copy, how='right', left_on='Time', right_on='Time')\n",
    "df5cop=pd.merge(left=df5cop, right=df5h_o, how='left', left_on='Time', right_on='Time')\n",
    "\n",
    "##DELETING NON REQUIRED COLUMNS\n",
    "df5cop.drop(['Data_main_x','Data_main_y','Tot_x','month_x','year_y','Data_main'],axis=1,inplace=True)\n",
    "df5cop.drop(['Tot_y','day_x','month_y','year_x','Tot','day_y'],axis=1,inplace=True)\n",
    "df5cop['Count']=df5cop['Voice-F']+df5cop['Voice-I']+df5cop['Voice-FR']\n",
    "\n",
    "df5cop['Count'].sum()"
   ]
  },
  {
   "cell_type": "code",
   "execution_count": 82,
   "metadata": {},
   "outputs": [
    {
     "data": {
      "text/plain": [
       "56293497.0"
      ]
     },
     "execution_count": 82,
     "metadata": {},
     "output_type": "execute_result"
    }
   ],
   "source": [
    "df6dcop=df5cop['Count'].sum()+df3copy['Count'].sum()+df1q['Count'].sum()\n",
    "df6dcop"
   ]
  },
  {
   "cell_type": "markdown",
   "metadata": {},
   "source": [
    "SMS CHARGING OF DAY 7"
   ]
  },
  {
   "cell_type": "code",
   "execution_count": 83,
   "metadata": {},
   "outputs": [
    {
     "data": {
      "text/plain": [
       "1278826.0"
      ]
     },
     "execution_count": 83,
     "metadata": {},
     "output_type": "execute_result"
    }
   ],
   "source": [
    "df1e_copy=df1[df1.Data_main.str.contains('Messaging-Charging-Originating-Sms')]\n",
    "df1k_c=df1e_copy[(df1e_copy['day']==7) & (df1e_copy['month']==3)]\n",
    "df1k_c=df1k_c.rename(columns={'Total':'SMS'})\n",
    "df1k_c['SMS'].sum()\n",
    "df3a_copy=df3[df3['Data_main']=='Messaging-Charging-Originating-Sms']\n",
    "df3bi_c=df3a_copy[(df3a_copy['day']==7) & (df3a_copy['month']==3)]\n",
    "df3bi_c=df3bi_c.rename(columns={'Total':'SMS'})\n",
    "df3bi_c['SMS'].sum()\n",
    "df4a_copy=df4[df4['Data_main']=='Messaging-Charging-Originating-Sms']\n",
    "df4bi_c=df4a_copy[(df4a_copy['day']==7) & (df4a_copy['month']==3)]\n",
    "df4bi_c=df4bi_c.rename(columns={'Total':'SMS'})\n",
    "df4bi_c['SMS'].sum()\n",
    "df5a_copy=df5[df5['Data_main']=='Messaging-Charging-Originating-Sms']\n",
    "df5bi_c=df5a_copy[(df5a_copy['day']==7) & (df5a_copy['month']==3)]\n",
    "df5bi_c=df5bi_c.rename(columns={'Total':'SMS'})\n",
    "df5bi_c['SMS'].sum()\n",
    "df6c__=pd.DataFrame()\n",
    "df6c__=df1k_c['SMS'].sum()+df3bi_c['SMS'].sum()+df4bi_c['SMS'].sum()+df5bi_c['SMS'].sum()\n",
    "df6c__"
   ]
  },
  {
   "cell_type": "markdown",
   "metadata": {},
   "source": [
    "VOICE CHARGES OF DAY 7"
   ]
  },
  {
   "cell_type": "code",
   "execution_count": 84,
   "metadata": {},
   "outputs": [],
   "source": [
    "df1h=df1[df1.Data_main.str.contains('Voice-Charging-FirstInterrogation-Successful')]\n",
    "df1r_copy=df1h[(df1h['day']==7) & (df1h['month']==3)]\n",
    "df1r_copy=df1r_copy.rename(columns={'Total':'Voice-F'})\n",
    "df1c=df1[df1.Data_main.str.contains('Voice-Charging-IntermediateInterrogation-Successful')]\n",
    "df1r_cop=df1c[(df1c['day']==7) & (df1c['month']==3)]\n",
    "df1r_cop=df1r_cop.rename(columns={'Total':'Voice-I'})\n",
    "df1d=df1[df1.Data_main.str.contains('Voice-Charging-FinalReport-Successful')]\n",
    "df1r_co=df1d[(df1d['day']==7) & (df1d['month']==3)]\n",
    "df1r_co=df1r_co.rename(columns={'Total':'Voice-FR'})"
   ]
  },
  {
   "cell_type": "markdown",
   "metadata": {},
   "source": [
    "MERGING THE TABLES TO GET THE COMMON DATA AND DELETING THE USELESS COLUMNS\n"
   ]
  },
  {
   "cell_type": "code",
   "execution_count": 85,
   "metadata": {},
   "outputs": [],
   "source": [
    "\n",
    "df1s=pd.merge(left=df1r_copy, right=df1r_cop, how='right', left_on='Time', right_on='Time')\n",
    "df1s=pd.merge(left=df1s, right=df1r_co, how='left', left_on='Time', right_on='Time')\n",
    "df1s.drop(['Data_main_x','Data_main_y','Tot_x','month_x','year_y','Data_main'],axis=1,inplace=True)\n",
    "df1s.drop(['Tot_y','day_x','month_y','year_x','Tot','day_y'],axis=1,inplace=True)\n"
   ]
  },
  {
   "cell_type": "markdown",
   "metadata": {},
   "source": [
    "\n",
    "GETTING THE COUNT\n"
   ]
  },
  {
   "cell_type": "code",
   "execution_count": 86,
   "metadata": {},
   "outputs": [
    {
     "data": {
      "text/plain": [
       "17684488"
      ]
     },
     "execution_count": 86,
     "metadata": {},
     "output_type": "execute_result"
    }
   ],
   "source": [
    "\n",
    "df1s['Count']=df1s['Voice-F']+df1s['Voice-I']+df1s['Voice-FR']\n",
    "df1s['Count'].sum()"
   ]
  },
  {
   "cell_type": "markdown",
   "metadata": {},
   "source": [
    "SHEET 5 df3"
   ]
  },
  {
   "cell_type": "code",
   "execution_count": 87,
   "metadata": {},
   "outputs": [
    {
     "data": {
      "text/plain": [
       "20161772"
      ]
     },
     "execution_count": 87,
     "metadata": {},
     "output_type": "execute_result"
    }
   ],
   "source": [
    "df3a=df3[df3.Data_main.str.contains('Voice-Charging-FirstInterrogation-Successful')]\n",
    "df3i_copy=df3a[(df3a['day']==7) & (df3a['month']==3)]\n",
    "df3i_copy=df3i_copy.rename(columns={'Total':'Voice-F'})\n",
    "df3i_copy\n",
    "\n",
    "df3c=df3[df3.Data_main.str.contains('Voice-Charging-IntermediateInterrogation-Successful')]\n",
    "df3i_cop=df3c[(df3c['day']==7) &  (df3c['month']==3)]\n",
    "df3i_cop=df3i_cop.rename(columns={'Total':'Voice-I'})\n",
    "df3i_cop\n",
    "\n",
    "df3d=df3[df3.Data_main.str.contains('Voice-Charging-FinalReport-Successful')]\n",
    "df3i_o=df3d[(df3d['day']==7)& (df3d['month']==3)]\n",
    "df3i_o=df3i_o.rename(columns={'Total':'Voice-FR'})\n",
    "df3i_o\n",
    "\n",
    "##MERGING THE TABLES TO GET THE COMMON DATA\n",
    "\n",
    "df3cop=pd.merge(left=df3i_cop, right=df3i_copy, how='right', left_on='Time', right_on='Time')\n",
    "df3cop=pd.merge(left=df3cop, right=df3i_o, how='left', left_on='Time', right_on='Time')\n",
    "\n",
    "##DELETING NON REQUIRED COLUMNS\n",
    "\n",
    "df3cop.drop(['Data_main_x','Data_main_y','Tot_x','month','year','Data_main'],axis=1,inplace=True)\n",
    "df3cop.drop(['Tot_y','day_x','month_x','year_x','Tot','day'],axis=1,inplace=True)\n",
    "df3cop['Count']=df3cop['Voice-F']+df3cop['Voice-I']+df3cop['Voice-FR']\n",
    "df3cop['Count'].sum()"
   ]
  },
  {
   "cell_type": "markdown",
   "metadata": {},
   "source": [
    "sheet 7 df5"
   ]
  },
  {
   "cell_type": "code",
   "execution_count": 88,
   "metadata": {},
   "outputs": [
    {
     "data": {
      "text/plain": [
       "20160584.0"
      ]
     },
     "execution_count": 88,
     "metadata": {},
     "output_type": "execute_result"
    }
   ],
   "source": [
    "df5c_=df5[df5.Data_main.str.contains('Voice-Charging-FirstInterrogation-Successful')]\n",
    "df5i_copy=df5c_[(df5c_['day']==7) &  (df5c_['month']==3)]\n",
    "df5i_copy=df5i_copy.rename(columns={'Total':'Voice-F'})\n",
    "\n",
    "\n",
    "df5c=df5[df5.Data_main.str.contains('Voice-Charging-IntermediateInterrogation-Successful')]\n",
    "df5i_cop=df5c[(df5c['day']==7) &  (df5c['month']==3)]\n",
    "df5i_cop=df5i_cop.rename(columns={'Total':'Voice-I'})\n",
    "\n",
    "df5d=df5[df5.Data_main.str.contains('Voice-Charging-FinalReport-Successful')]\n",
    "df5i_o=df5d[(df5d['day']==7)& (df5d['month']==3)]\n",
    "df5i_o=df5i_o.rename(columns={'Total':'Voice-FR'})\n",
    "\n",
    "##MERGING THE TABLES TO GET THE COMMON DATA\n",
    "df5co=pd.merge(left=df5i_cop, right=df5i_copy, how='right', left_on='Time', right_on='Time')\n",
    "df5co=pd.merge(left=df5co, right=df5i_o, how='left', left_on='Time', right_on='Time')\n",
    "\n",
    "##DELETING NON REQUIRED COLUMNS\n",
    "df5co.drop(['Data_main_x','Data_main_y','Tot_x','month_x','year_y','Data_main'],axis=1,inplace=True)\n",
    "df5co.drop(['Tot_y','day_x','month_y','year_x','Tot','day_y'],axis=1,inplace=True)\n",
    "df5co['Count']=df5co['Voice-F']+df5co['Voice-I']+df5co['Voice-FR']\n",
    "\n",
    "df5co['Count'].sum()"
   ]
  },
  {
   "cell_type": "code",
   "execution_count": 89,
   "metadata": {},
   "outputs": [
    {
     "data": {
      "text/plain": [
       "58006844.0"
      ]
     },
     "execution_count": 89,
     "metadata": {},
     "output_type": "execute_result"
    }
   ],
   "source": [
    "df6dco=df3cop['Count'].sum()+df5co['Count'].sum()+df1s['Count'].sum()\n",
    "df6dco"
   ]
  },
  {
   "cell_type": "markdown",
   "metadata": {},
   "source": [
    "SMS CHARGING FOR DAY 8"
   ]
  },
  {
   "cell_type": "code",
   "execution_count": 90,
   "metadata": {},
   "outputs": [
    {
     "data": {
      "text/plain": [
       "1253220.0"
      ]
     },
     "execution_count": 90,
     "metadata": {},
     "output_type": "execute_result"
    }
   ],
   "source": [
    "df1e_copy=df1[df1.Data_main.str.contains('Messaging-Charging-Originating-Sms')]\n",
    "df1T_copy=df1e_copy[(df1e_copy['day']==8) & (df1e_copy['month']==3)]\n",
    "df1T_copy=df1T_copy.rename(columns={'Total':'SMS'})\n",
    "df1T_copy['SMS'].sum()\n",
    "df3a_copy=df3[df3['Data_main']=='Messaging-Charging-Originating-Sms']\n",
    "df3bi_=df3a_copy[(df3a_copy['day']==8) & (df3a_copy['month']==3)]\n",
    "df3bi_=df3bi_.rename(columns={'Total':'SMS'})\n",
    "df3bi_['SMS'].sum()\n",
    "df4a_copy=df4[df4['Data_main']=='Messaging-Charging-Originating-Sms']\n",
    "df4bi_=df4a_copy[(df4a_copy['day']==8) & (df4a_copy['month']==3)]\n",
    "df4bi_=df4bi_.rename(columns={'Total':'SMS'})\n",
    "df4bi_['SMS'].sum()\n",
    "df5a_copy=df5[df5['Data_main']=='Messaging-Charging-Originating-Sms']\n",
    "df5bi_=df5a_copy[(df5a_copy['day']==8) & (df5a_copy['month']==3)]\n",
    "df5bi_=df5bi_.rename(columns={'Total':'SMS'})\n",
    "df5bi_['SMS'].sum()\n",
    "df6ccopy=pd.DataFrame()\n",
    "df6ccopy=df1T_copy['SMS'].sum()+df3bi_['SMS'].sum()+df4bi_['SMS'].sum()+df5bi_['SMS'].sum()\n",
    "df6ccopy"
   ]
  },
  {
   "cell_type": "markdown",
   "metadata": {},
   "source": [
    "VOICE CHARGING FOR DAY 8"
   ]
  },
  {
   "cell_type": "code",
   "execution_count": 91,
   "metadata": {},
   "outputs": [],
   "source": [
    "df1h=df1[df1.Data_main.str.contains('Voice-Charging-FirstInterrogation-Successful')]\n",
    "df1u_copy=df1h[(df1h['day']==8) & (df1h['month']==3)]\n",
    "df1u_copy=df1u_copy.rename(columns={'Total':'Voice-F'})\n",
    "df1c=df1[df1.Data_main.str.contains('Voice-Charging-IntermediateInterrogation-Successful')]\n",
    "df1u_cop=df1c[(df1c['day']==8) & (df1c['month']==3)]\n",
    "df1u_cop=df1u_cop.rename(columns={'Total':'Voice-I'})\n",
    "df1d=df1[df1.Data_main.str.contains('Voice-Charging-FinalReport-Successful')]\n",
    "df1u_co=df1d[(df1d['day']==8) & (df1d['month']==3)]\n",
    "df1u_co=df1u_co.rename(columns={'Total':'Voice-FR'})"
   ]
  },
  {
   "cell_type": "markdown",
   "metadata": {},
   "source": [
    "MERGING THE TABLES TO GET THE COMMON DATA AND DELETING THE USELESS COLUMNS\n",
    "\n"
   ]
  },
  {
   "cell_type": "code",
   "execution_count": 92,
   "metadata": {},
   "outputs": [],
   "source": [
    "\n",
    "df1w=pd.merge(left=df1u_copy, right=df1u_cop, how='right', left_on='Time', right_on='Time')\n",
    "df1w=pd.merge(left=df1w, right=df1u_co, how='left', left_on='Time', right_on='Time')\n",
    "df1w.drop(['Data_main_x','Data_main_y','Tot_x','month_x','year_y','Data_main'],axis=1,inplace=True)\n",
    "df1w.drop(['Tot_y','day_x','month_y','year_x','Tot','day_y'],axis=1,inplace=True)\n",
    "\n"
   ]
  },
  {
   "cell_type": "markdown",
   "metadata": {},
   "source": [
    "GETTING THE COUNT\n"
   ]
  },
  {
   "cell_type": "code",
   "execution_count": 93,
   "metadata": {},
   "outputs": [
    {
     "data": {
      "text/plain": [
       "17261918.0"
      ]
     },
     "execution_count": 93,
     "metadata": {},
     "output_type": "execute_result"
    }
   ],
   "source": [
    "\n",
    "df1w['Count']=df1w['Voice-F']+df1w['Voice-I']+df1w['Voice-FR']\n",
    "df1w['Count'].sum()"
   ]
  },
  {
   "cell_type": "markdown",
   "metadata": {},
   "source": [
    "SHEET 5 df3"
   ]
  },
  {
   "cell_type": "code",
   "execution_count": 94,
   "metadata": {},
   "outputs": [
    {
     "data": {
      "text/plain": [
       "19770607"
      ]
     },
     "execution_count": 94,
     "metadata": {},
     "output_type": "execute_result"
    }
   ],
   "source": [
    "df3a=df3[df3.Data_main.str.contains('Voice-Charging-FirstInterrogation-Successful')]\n",
    "df3j_copy=df3a[(df3a['day']==8) & (df3a['month']==3)]\n",
    "df3j_copy=df3j_copy.rename(columns={'Total':'Voice-F'})\n",
    "df3j_copy\n",
    "\n",
    "df3c=df3[df3.Data_main.str.contains('Voice-Charging-IntermediateInterrogation-Successful')]\n",
    "df3j_cop=df3c[(df3c['day']==8) &  (df3c['month']==3)]\n",
    "df3j_cop=df3j_cop.rename(columns={'Total':'Voice-I'})\n",
    "df3j_cop\n",
    "\n",
    "df3d=df3[df3.Data_main.str.contains('Voice-Charging-FinalReport-Successful')]\n",
    "df3j_o=df3d[(df3d['day']==8)& (df3d['month']==3)]\n",
    "df3j_o=df3j_o.rename(columns={'Total':'Voice-FR'})\n",
    "df3j_o\n",
    "\n",
    "##MERGING THE TABLES TO GET THE COMMON DATA\n",
    "\n",
    "df3co=pd.merge(left=df3j_cop, right=df3j_copy, how='right', left_on='Time', right_on='Time')\n",
    "df3co=pd.merge(left=df3co, right=df3j_o, how='left', left_on='Time', right_on='Time')\n",
    "\n",
    "##DELETING NON REQUIRED COLUMNS\n",
    "\n",
    "df3co.drop(['Data_main_x','Data_main_y','Tot_x','month','year','Data_main'],axis=1,inplace=True)\n",
    "df3co.drop(['Tot_y','day_x','month_x','year_x','Tot','day'],axis=1,inplace=True)\n",
    "df3co['Count']=df3co['Voice-F']+df3co['Voice-I']+df3co['Voice-FR']\n",
    "df3co['Count'].sum()"
   ]
  },
  {
   "cell_type": "markdown",
   "metadata": {},
   "source": [
    "sheet 7 df5"
   ]
  },
  {
   "cell_type": "code",
   "execution_count": 95,
   "metadata": {},
   "outputs": [
    {
     "data": {
      "text/plain": [
       "19760956.0"
      ]
     },
     "execution_count": 95,
     "metadata": {},
     "output_type": "execute_result"
    }
   ],
   "source": [
    "df5c_=df5[df5.Data_main.str.contains('Voice-Charging-FirstInterrogation-Successful')]\n",
    "df5j_copy=df5c_[(df5c_['day']==8) &  (df5c_['month']==3)]\n",
    "df5j_copy=df5j_copy.rename(columns={'Total':'Voice-F'})\n",
    "\n",
    "\n",
    "df5c=df5[df5.Data_main.str.contains('Voice-Charging-IntermediateInterrogation-Successful')]\n",
    "df5j_cop=df5c[(df5c['day']==8) &  (df5c['month']==3)]\n",
    "df5j_cop=df5j_cop.rename(columns={'Total':'Voice-I'})\n",
    "\n",
    "df5d=df5[df5.Data_main.str.contains('Voice-Charging-FinalReport-Successful')]\n",
    "df5j_o=df5d[(df5d['day']==8)& (df5d['month']==3)]\n",
    "df5j_o=df5j_o.rename(columns={'Total':'Voice-FR'})\n",
    "\n",
    "##MERGING THE TABLES TO GET THE COMMON DATA\n",
    "df5c=pd.merge(left=df5j_cop, right=df5j_copy, how='right', left_on='Time', right_on='Time')\n",
    "df5c=pd.merge(left=df5c, right=df5j_o, how='left', left_on='Time', right_on='Time')\n",
    "\n",
    "##DELETING NON REQUIRED COLUMNS\n",
    "df5c.drop(['Data_main_x','Data_main_y','Tot_x','month_x','year_y','Data_main'],axis=1,inplace=True)\n",
    "df5c.drop(['Tot_y','day_x','month_y','year_x','Tot','day_y'],axis=1,inplace=True)\n",
    "df5c['Count']=df5c['Voice-F']+df5c['Voice-I']+df5c['Voice-FR']\n",
    "\n",
    "df5c['Count'].sum()"
   ]
  },
  {
   "cell_type": "code",
   "execution_count": 96,
   "metadata": {},
   "outputs": [
    {
     "data": {
      "text/plain": [
       "56793481.0"
      ]
     },
     "execution_count": 96,
     "metadata": {},
     "output_type": "execute_result"
    }
   ],
   "source": [
    "df6dc=df3co['Count'].sum()+df5c['Count'].sum()+df1w['Count'].sum()\n",
    "df6dc"
   ]
  },
  {
   "cell_type": "markdown",
   "metadata": {},
   "source": [
    "SMS CHARGES DAY 9"
   ]
  },
  {
   "cell_type": "code",
   "execution_count": 97,
   "metadata": {},
   "outputs": [
    {
     "data": {
      "text/plain": [
       "401705.0"
      ]
     },
     "execution_count": 97,
     "metadata": {},
     "output_type": "execute_result"
    }
   ],
   "source": [
    "\n",
    "df1e_copy=df1[df1.Data_main.str.contains('Messaging-Charging-Originating-Sms')]\n",
    "df1T_cop=df1e_copy[(df1e_copy['day']==9) & (df1e_copy['month']==3)]\n",
    "df1T_cop=df1T_cop.rename(columns={'Total':'SMS'})\n",
    "df1T_cop['SMS'].sum()\n",
    "\n",
    "df3ei_copy=df3[df3.Data_main.str.contains('Messaging-Charging-Originating-Sms')]\n",
    "df3T_cop=df3ei_copy[(df3ei_copy['day']==9) & (df3ei_copy['month']==3)]\n",
    "df3T_cop=df3T_cop.rename(columns={'Total':'SMS'})\n",
    "df3T_cop['SMS'].sum()\n",
    "\n",
    "df4e_copy=df4[df4.Data_main.str.contains('Messaging-Charging-Originating-Sms')]\n",
    "df4T_cop=df4e_copy[(df4e_copy['day']==9) & (df4e_copy['month']==3)]\n",
    "df4T_cop=df4T_cop.rename(columns={'Total':'SMS'})\n",
    "df4T_cop['SMS'].sum()\n",
    "\n",
    "df5e_copy=df5[df5.Data_main.str.contains('Messaging-Charging-Originating-Sms')]\n",
    "df5T_cop=df5e_copy[(df5e_copy['day']==9) & (df5e_copy['month']==3)]\n",
    "df5T_cop=df5T_cop.rename(columns={'Total':'SMS'})\n",
    "df5T_cop['SMS'].sum()"
   ]
  },
  {
   "cell_type": "code",
   "execution_count": 98,
   "metadata": {},
   "outputs": [
    {
     "data": {
      "text/plain": [
       "802441.0"
      ]
     },
     "execution_count": 98,
     "metadata": {},
     "output_type": "execute_result"
    }
   ],
   "source": [
    "df6ccop=df1T_cop['SMS'].sum()+df3T_cop['SMS'].sum()+df4T_cop['SMS'].sum()+df5T_cop['SMS'].sum()\n",
    "df6ccop"
   ]
  },
  {
   "cell_type": "markdown",
   "metadata": {},
   "source": [
    "VOICE CHARGES OF DAY 9\n",
    "\n"
   ]
  },
  {
   "cell_type": "code",
   "execution_count": 99,
   "metadata": {},
   "outputs": [],
   "source": [
    "df1h=df1[df1.Data_main.str.contains('Voice-Charging-FirstInterrogation-Successful')]\n",
    "df1x_copy=df1h[(df1h['day']==9) & (df1h['month']==3)]\n",
    "df1x_copy=df1x_copy.rename(columns={'Total':'Voice-F'})\n",
    "df1c=df1[df1.Data_main.str.contains('Voice-Charging-IntermediateInterrogation-Successful')]\n",
    "df1x_cop=df1c[(df1c['day']==9) & (df1c['month']==3)]\n",
    "df1x_cop=df1x_cop.rename(columns={'Total':'Voice-I'})\n",
    "df1d=df1[df1.Data_main.str.contains('Voice-Charging-FinalReport-Successful')]\n",
    "df1x_co=df1d[(df1d['day']==9) & (df1d['month']==3)]\n",
    "df1x_co=df1x_co.rename(columns={'Total':'Voice-FR'})\n"
   ]
  },
  {
   "cell_type": "markdown",
   "metadata": {},
   "source": [
    "MERGING THE TABLES TO GET THE COMMON DATA AND DELETING THE USELESS COLUMNS\n"
   ]
  },
  {
   "cell_type": "code",
   "execution_count": 100,
   "metadata": {},
   "outputs": [],
   "source": [
    "\n",
    "df1y=pd.merge(left=df1x_copy, right=df1x_cop, how='right', left_on='Time', right_on='Time')\n",
    "df1y=pd.merge(left=df1y, right=df1x_co, how='left', left_on='Time', right_on='Time')\n",
    "df1y.drop(['Data_main_x','Data_main_y','Tot_x','month_x','year_y','Data_main'],axis=1,inplace=True)\n",
    "df1y.drop(['Tot_y','day_x','month_y','year_x','Tot','day_y'],axis=1,inplace=True)\n"
   ]
  },
  {
   "cell_type": "markdown",
   "metadata": {},
   "source": [
    "\n",
    "GETTING THE COUNT\n"
   ]
  },
  {
   "cell_type": "code",
   "execution_count": 101,
   "metadata": {},
   "outputs": [
    {
     "data": {
      "text/plain": [
       "649.0"
      ]
     },
     "execution_count": 101,
     "metadata": {},
     "output_type": "execute_result"
    }
   ],
   "source": [
    "df1y['Voice-F']=df1y['Voice-F'].fillna(0)\n",
    "df1y['Count']=df1y['Voice-F']+df1y['Voice-I']+df1y['Voice-FR']\n",
    "df1y['Count'].sum()\n"
   ]
  },
  {
   "cell_type": "markdown",
   "metadata": {},
   "source": [
    "sheet 5 df3"
   ]
  },
  {
   "cell_type": "code",
   "execution_count": 102,
   "metadata": {},
   "outputs": [
    {
     "data": {
      "text/plain": [
       "18922297"
      ]
     },
     "execution_count": 102,
     "metadata": {},
     "output_type": "execute_result"
    }
   ],
   "source": [
    "df3a=df3[df3.Data_main.str.contains('Voice-Charging-FirstInterrogation-Successful')]\n",
    "df3k_copy=df3a[(df3a['day']==9) & (df3a['month']==3)]\n",
    "df3k_copy=df3k_copy.rename(columns={'Total':'Voice-F'})\n",
    "df3k_copy\n",
    "\n",
    "df3c=df3[df3.Data_main.str.contains('Voice-Charging-IntermediateInterrogation-Successful')]\n",
    "df3k_cop=df3c[(df3c['day']==9) &  (df3c['month']==3)]\n",
    "df3k_cop=df3k_cop.rename(columns={'Total':'Voice-I'})\n",
    "df3k_cop\n",
    "\n",
    "df3d=df3[df3.Data_main.str.contains('Voice-Charging-FinalReport-Successful')]\n",
    "df3k_o=df3d[(df3d['day']==9)& (df3d['month']==3)]\n",
    "df3k_o=df3k_o.rename(columns={'Total':'Voice-FR'})\n",
    "df3k_o\n",
    "\n",
    "##MERGING THE TABLES TO GET THE COMMON DATA\n",
    "\n",
    "df3ccopy=pd.merge(left=df3k_cop, right=df3k_copy, how='right', left_on='Time', right_on='Time')\n",
    "df3ccopy=pd.merge(left=df3ccopy, right=df3k_o, how='left', left_on='Time', right_on='Time')\n",
    "df3ccopy\n",
    "##DELETING NON REQUIRED COLUMNS\n",
    "df3ccopy.drop(['Data_main_x','Data_main_y','Tot_x','month','year','Data_main'],axis=1,inplace=True)\n",
    "df3ccopy.drop(['Tot_y','day_x','month_x','year_x','Tot','day'],axis=1,inplace=True)\n",
    "df3ccopy['Count']=df3ccopy['Voice-F']+df3ccopy['Voice-I']+df3ccopy['Voice-FR']\n",
    "df3ccopy['Count'].sum()"
   ]
  },
  {
   "cell_type": "code",
   "execution_count": 103,
   "metadata": {},
   "outputs": [
    {
     "data": {
      "text/plain": [
       "18917025.0"
      ]
     },
     "execution_count": 103,
     "metadata": {},
     "output_type": "execute_result"
    }
   ],
   "source": [
    "df5c_=df5[df5.Data_main.str.contains('Voice-Charging-FirstInterrogation-Successful')]\n",
    "df5k_copy=df5c_[(df5c_['day']==9) &  (df5c_['month']==3)]\n",
    "df5k_copy=df5k_copy.rename(columns={'Total':'Voice-F'})\n",
    "\n",
    "\n",
    "df5c=df5[df5.Data_main.str.contains('Voice-Charging-IntermediateInterrogation-Successful')]\n",
    "df5k_cop=df5c[(df5c['day']==9) &  (df5c['month']==3)]\n",
    "df5k_cop=df5k_cop.rename(columns={'Total':'Voice-I'})\n",
    "\n",
    "df5d=df5[df5.Data_main.str.contains('Voice-Charging-FinalReport-Successful')]\n",
    "df5k_o=df5d[(df5d['day']==9)& (df5d['month']==3)]\n",
    "df5k_o=df5k_o.rename(columns={'Total':'Voice-FR'})\n",
    "\n",
    "##MERGING THE TABLES TO GET THE COMMON DATA\n",
    "df5ccopy=pd.merge(left=df5k_cop, right=df5k_copy, how='right', left_on='Time', right_on='Time')\n",
    "df5ccopy=pd.merge(left=df5ccopy, right=df5k_o, how='left', left_on='Time', right_on='Time')\n",
    "\n",
    "##DELETING NON REQUIRED COLUMNS\n",
    "df5ccopy.drop(['Data_main_x','Data_main_y','Tot_x','month_x','year_y','Data_main'],axis=1,inplace=True)\n",
    "df5ccopy.drop(['Tot_y','day_x','month_y','year_x','Tot','day_y'],axis=1,inplace=True)\n",
    "df5ccopy['Count']=df5ccopy['Voice-F']+df5ccopy['Voice-I']+df5ccopy['Voice-FR']\n",
    "\n",
    "df5ccopy['Count'].sum()"
   ]
  },
  {
   "cell_type": "code",
   "execution_count": 104,
   "metadata": {},
   "outputs": [
    {
     "data": {
      "text/plain": [
       "37839971.0"
      ]
     },
     "execution_count": 104,
     "metadata": {},
     "output_type": "execute_result"
    }
   ],
   "source": [
    "df6decopy=df3ccopy['Count'].sum()+df5ccopy['Count'].sum()+df1y['Count'].sum()\n",
    "df6decopy"
   ]
  },
  {
   "cell_type": "markdown",
   "metadata": {},
   "source": [
    "SMS CHARGING FOR DAY 10"
   ]
  },
  {
   "cell_type": "code",
   "execution_count": 105,
   "metadata": {},
   "outputs": [
    {
     "data": {
      "text/plain": [
       "414196.0"
      ]
     },
     "execution_count": 105,
     "metadata": {},
     "output_type": "execute_result"
    }
   ],
   "source": [
    "df1e_copy=df1[df1.Data_main.str.contains('Messaging-Charging-Originating-Sms')]\n",
    "df1T_co=df1e_copy[(df1e_copy['day']==10) & (df1e_copy['month']==3)]\n",
    "df1T_co=df1T_co.rename(columns={'Total':'SMS'})\n",
    "df1T_co['SMS'].sum()\n",
    "df3ei_copy=df3[df3.Data_main.str.contains('Messaging-Charging-Originating-Sms')]\n",
    "df3T_co=df3ei_copy[(df3ei_copy['day']==10) & (df3ei_copy['month']==3)]\n",
    "df3T_co=df3T_co.rename(columns={'Total':'SMS'})\n",
    "df3T_co['SMS'].sum()\n",
    "\n",
    "df4e_copy=df4[df4.Data_main.str.contains('Messaging-Charging-Originating-Sms')]\n",
    "df4T_co=df4e_copy[(df4e_copy['day']==10) & (df4e_copy['month']==3)]\n",
    "df4T_co=df4T_co.rename(columns={'Total':'SMS'})\n",
    "df4T_co['SMS'].sum()\n",
    "\n",
    "df5e_copy=df5[df5.Data_main.str.contains('Messaging-Charging-Originating-Sms')]\n",
    "df5T_co=df5e_copy[(df5e_copy['day']==10) & (df5e_copy['month']==3)]\n",
    "df5T_co=df5T_co.rename(columns={'Total':'SMS'})\n",
    "df5T_co['SMS'].sum()"
   ]
  },
  {
   "cell_type": "code",
   "execution_count": 106,
   "metadata": {},
   "outputs": [
    {
     "data": {
      "text/plain": [
       "828918.0"
      ]
     },
     "execution_count": 106,
     "metadata": {},
     "output_type": "execute_result"
    }
   ],
   "source": [
    "df6cco=df1T_co['SMS'].sum()+df3T_co['SMS'].sum()+df4T_co['SMS'].sum()+df5T_co['SMS'].sum()\n",
    "df6cco"
   ]
  },
  {
   "cell_type": "markdown",
   "metadata": {},
   "source": [
    "VOICE CHARGES OF DAY 10\n"
   ]
  },
  {
   "cell_type": "code",
   "execution_count": 107,
   "metadata": {},
   "outputs": [],
   "source": [
    "df1h=df1[df1.Data_main.str.contains('Voice-Charging-FirstInterrogation-Successful')]\n",
    "df1z_copy=df1h[(df1h['day']==10) & (df1h['month']==3)]\n",
    "df1z_copy=df1z_copy.rename(columns={'Total':'Voice-F'})\n",
    "df1c=df1[df1.Data_main.str.contains('Voice-Charging-IntermediateInterrogation-Successful')]\n",
    "df1z_cop=df1c[(df1c['day']==10) &  (df1c['month']==3)]\n",
    "df1z_cop=df1z_cop.rename(columns={'Total':'Voice-I'})\n",
    "df1d=df1[df1.Data_main.str.contains('Voice-Charging-FinalReport-Successful')]\n",
    "df1z_o=df1d[(df1d['day']==10)& (df1d['month']==3)]\n",
    "df1z_o=df1z_o.rename(columns={'Total':'Voice-FR'})\n"
   ]
  },
  {
   "cell_type": "markdown",
   "metadata": {},
   "source": [
    "MERGING THE TABLES TO GET THE COMMON DATA AND DELETING THE USELESS COLUMNS\n",
    "\n"
   ]
  },
  {
   "cell_type": "code",
   "execution_count": 108,
   "metadata": {},
   "outputs": [
    {
     "data": {
      "text/html": [
       "<div>\n",
       "<style scoped>\n",
       "    .dataframe tbody tr th:only-of-type {\n",
       "        vertical-align: middle;\n",
       "    }\n",
       "\n",
       "    .dataframe tbody tr th {\n",
       "        vertical-align: top;\n",
       "    }\n",
       "\n",
       "    .dataframe thead th {\n",
       "        text-align: right;\n",
       "    }\n",
       "</style>\n",
       "<table border=\"1\" class=\"dataframe\">\n",
       "  <thead>\n",
       "    <tr style=\"text-align: right;\">\n",
       "      <th></th>\n",
       "      <th>Voice-F</th>\n",
       "      <th>Voice-I</th>\n",
       "      <th>Time</th>\n",
       "      <th>Voice-FR</th>\n",
       "      <th>day</th>\n",
       "      <th>month</th>\n",
       "      <th>year</th>\n",
       "    </tr>\n",
       "  </thead>\n",
       "  <tbody>\n",
       "  </tbody>\n",
       "</table>\n",
       "</div>"
      ],
      "text/plain": [
       "Empty DataFrame\n",
       "Columns: [Voice-F, Voice-I, Time, Voice-FR, day, month, year]\n",
       "Index: []"
      ]
     },
     "execution_count": 108,
     "metadata": {},
     "output_type": "execute_result"
    }
   ],
   "source": [
    "\n",
    "df1A=pd.merge(left=df1z_copy, right=df1z_cop, how='right', left_on='Time', right_on='Time')\n",
    "df1A=pd.merge(left=df1A, right=df1z_o, how='left', left_on='Time', right_on='Time')\n",
    "df1A.drop(['Data_main_x','Data_main_y','Tot_x','month_x','year_y','Data_main'],axis=1,inplace=True)\n",
    "df1A.drop(['Tot_y','day_x','month_y','year_x','Tot','day_y'],axis=1,inplace=True)\n",
    "df1A"
   ]
  },
  {
   "cell_type": "markdown",
   "metadata": {},
   "source": [
    "\n",
    "GETTING THE COUNT\n",
    "\n"
   ]
  },
  {
   "cell_type": "code",
   "execution_count": 109,
   "metadata": {},
   "outputs": [
    {
     "data": {
      "text/plain": [
       "0"
      ]
     },
     "execution_count": 109,
     "metadata": {},
     "output_type": "execute_result"
    }
   ],
   "source": [
    "#df1y['Voice-F']=df1y['Voice-F'].fillna(0)\n",
    "df1A['Count']=df1A['Voice-F']+df1A['Voice-I']+df1A['Voice-FR']\n",
    "df1A['Count'].sum()"
   ]
  },
  {
   "cell_type": "markdown",
   "metadata": {},
   "source": [
    "sheet 5 df3"
   ]
  },
  {
   "cell_type": "code",
   "execution_count": 110,
   "metadata": {},
   "outputs": [
    {
     "data": {
      "text/plain": [
       "19697349"
      ]
     },
     "execution_count": 110,
     "metadata": {},
     "output_type": "execute_result"
    }
   ],
   "source": [
    "df3a=df3[df3.Data_main.str.contains('Voice-Charging-FirstInterrogation-Successful')]\n",
    "df3l_copy=df3a[(df3a['day']==10) & (df3a['month']==3)]\n",
    "df3l_copy=df3l_copy.rename(columns={'Total':'Voice-F'})\n",
    "df3l_copy\n",
    "\n",
    "df3c=df3[df3.Data_main.str.contains('Voice-Charging-IntermediateInterrogation-Successful')]\n",
    "df3l_cop=df3c[(df3c['day']==10) &  (df3c['month']==3)]\n",
    "df3l_cop=df3l_cop.rename(columns={'Total':'Voice-I'})\n",
    "df3l_cop\n",
    "\n",
    "df3d=df3[df3.Data_main.str.contains('Voice-Charging-FinalReport-Successful')]\n",
    "df3l_o=df3d[(df3d['day']==10)& (df3d['month']==3)]\n",
    "df3l_o=df3l_o.rename(columns={'Total':'Voice-FR'})\n",
    "df3l_o\n",
    "\n",
    "##MERGING THE TABLES TO GET THE COMMON DATA\n",
    "\n",
    "df3ccop=pd.merge(left=df3l_cop, right=df3l_copy, how='right', left_on='Time', right_on='Time')\n",
    "df3ccop=pd.merge(left=df3ccop, right=df3l_o, how='left', left_on='Time', right_on='Time')\n",
    "df3ccop\n",
    "##DELETING NON REQUIRED COLUMNS\n",
    "df3ccop.drop(['Data_main_x','Data_main_y','Tot_x','month','year','Data_main'],axis=1,inplace=True)\n",
    "df3ccop.drop(['Tot_y','day_x','month_x','year_x','Tot','day'],axis=1,inplace=True)\n",
    "df3ccop['Count']=df3ccop['Voice-F']+df3ccop['Voice-I']+df3ccop['Voice-FR']\n",
    "df3ccop['Count'].sum()"
   ]
  },
  {
   "cell_type": "markdown",
   "metadata": {},
   "source": [
    "sheet 6 df4"
   ]
  },
  {
   "cell_type": "code",
   "execution_count": 111,
   "metadata": {},
   "outputs": [
    {
     "data": {
      "text/plain": [
       "0.0"
      ]
     },
     "execution_count": 111,
     "metadata": {},
     "output_type": "execute_result"
    }
   ],
   "source": [
    "df4a=df4[df4.Data_main.str.contains('Voice-Charging-FirstInterrogation-Successful')]\n",
    "df4c_copy=df4a[(df4a['day']==10) & (df4a['month']==3)]\n",
    "df4c_copy=df4c_copy.rename(columns={'Total':'Voice-F'})\n",
    "df4c_copy['Voice-F'].sum()\n",
    "\n",
    "df4c=df4[df4.Data_main.str.contains('Voice-Charging-IntermediateInterrogation-Successful')]\n",
    "df4c_cop=df4c[(df4c['day']==10) &  (df4c['month']==3)]\n",
    "df4c_cop=df4c_cop.rename(columns={'Total':'Voice-I'})\n",
    "df4c_cop['Voice-I'].sum()\n",
    "\n",
    "df4d=df4[df4.Data_main.str.contains('Voice-Charging-FinalReport-Successful')]\n",
    "df4c_o=df4d[(df4d['day']==10)& (df4d['month']==3)]\n",
    "df4c_o=df4c_o.rename(columns={'Total':'Voice-FR'})\n",
    "df4c_o['Voice-FR'].sum()\n",
    "\n",
    "##MERGING THE TABLES TO GET THE COMMON DATA\n",
    "df4ab_cop=pd.merge(left=df4c_cop, right=df4c_copy, how='right', left_on='Time', right_on='Time')\n",
    "df4ab_cop=pd.merge(left=df4ab_cop, right=df4c_o, how='left', left_on='Time', right_on='Time')\n",
    "\n",
    "##DELETING NON REQUIRED COLUMNS\n",
    "df4ab_cop.drop(['Data_main_x','Data_main_y','Tot_x','month_x','year_y','Data_main'],axis=1,inplace=True)\n",
    "df4ab_cop.drop(['Tot_y','day_x','month_y','year_x','Tot','day_y'],axis=1,inplace=True)\n",
    "df4ab_cop['Count']=df4ab_cop['Voice-F']+df4ab_cop['Voice-I']+df4ab_cop['Voice-FR']\n",
    "\n",
    "df4ab_cop['Count'].sum()\n"
   ]
  },
  {
   "cell_type": "markdown",
   "metadata": {},
   "source": [
    "sheet 7 df5"
   ]
  },
  {
   "cell_type": "code",
   "execution_count": 112,
   "metadata": {},
   "outputs": [
    {
     "data": {
      "text/plain": [
       "19685458.0"
      ]
     },
     "execution_count": 112,
     "metadata": {},
     "output_type": "execute_result"
    }
   ],
   "source": [
    "df5c_=df5[df5.Data_main.str.contains('Voice-Charging-FirstInterrogation-Successful')]\n",
    "df5l_copy=df5c_[(df5c_['day']==10) &  (df5c_['month']==3)]\n",
    "df5l_copy=df5l_copy.rename(columns={'Total':'Voice-F'})\n",
    "\n",
    "\n",
    "df5c=df5[df5.Data_main.str.contains('Voice-Charging-IntermediateInterrogation-Successful')]\n",
    "df5l_cop=df5c[(df5c['day']==10) &  (df5c['month']==3)]\n",
    "df5l_cop=df5l_cop.rename(columns={'Total':'Voice-I'})\n",
    "\n",
    "df5d=df5[df5.Data_main.str.contains('Voice-Charging-FinalReport-Successful')]\n",
    "df5l_o=df5d[(df5d['day']==10)& (df5d['month']==3)]\n",
    "df5l_o=df5l_o.rename(columns={'Total':'Voice-FR'})\n",
    "\n",
    "##MERGING THE TABLES TO GET THE COMMON DATA\n",
    "df5ccop=pd.merge(left=df5l_cop, right=df5l_copy, how='right', left_on='Time', right_on='Time')\n",
    "df5ccop=pd.merge(left=df5ccop, right=df5l_o, how='left', left_on='Time', right_on='Time')\n",
    "\n",
    "##DELETING NON REQUIRED COLUMNS\n",
    "df5ccop.drop(['Data_main_x','Data_main_y','Tot_x','month_x','year_y','Data_main'],axis=1,inplace=True)\n",
    "df5ccop.drop(['Tot_y','day_x','month_y','year_x','Tot','day_y'],axis=1,inplace=True)\n",
    "df5ccop['Count']=df5ccop['Voice-F']+df5ccop['Voice-I']+df5ccop['Voice-FR']\n",
    "\n",
    "df5ccop['Count'].sum()"
   ]
  },
  {
   "cell_type": "code",
   "execution_count": 113,
   "metadata": {},
   "outputs": [
    {
     "data": {
      "text/plain": [
       "39382807.0"
      ]
     },
     "execution_count": 113,
     "metadata": {},
     "output_type": "execute_result"
    }
   ],
   "source": [
    "df6decop=df3ccop['Count'].sum()+df5ccop['Count'].sum()+df1A['Count'].sum()+df4ab_cop['Count'].sum()\n",
    "df6decop"
   ]
  },
  {
   "cell_type": "markdown",
   "metadata": {},
   "source": [
    "SMS OPERATION DAY 11"
   ]
  },
  {
   "cell_type": "code",
   "execution_count": 114,
   "metadata": {},
   "outputs": [
    {
     "data": {
      "text/plain": [
       "417056.0"
      ]
     },
     "execution_count": 114,
     "metadata": {},
     "output_type": "execute_result"
    }
   ],
   "source": [
    "df1e_copy=df1[df1.Data_main.str.contains('Messaging-Charging-Originating-Sms')]\n",
    "df1T_co=df1e_copy[(df1e_copy['day']==11) & (df1e_copy['month']==3)]\n",
    "df1T_co=df1T_co.rename(columns={'Total':'SMS'})\n",
    "df1T_co['SMS'].sum()\n",
    "df3ei_copy=df3[df3.Data_main.str.contains('Messaging-Charging-Originating-Sms')]\n",
    "df3T_c=df3ei_copy[(df3ei_copy['day']==11) & (df3ei_copy['month']==3)]\n",
    "df3T_c=df3T_c.rename(columns={'Total':'SMS'})\n",
    "df3T_c['SMS'].sum()\n",
    "\n",
    "df4e_copy=df4[df4.Data_main.str.contains('Messaging-Charging-Originating-Sms')]\n",
    "df4T_c=df4e_copy[(df4e_copy['day']==11) & (df4e_copy['month']==3)]\n",
    "df4T_c=df4T_c.rename(columns={'Total':'SMS'})\n",
    "df4T_c['SMS'].sum()\n",
    "\n",
    "df5e_copy=df5[df5.Data_main.str.contains('Messaging-Charging-Originating-Sms')]\n",
    "df5T_c=df5e_copy[(df5e_copy['day']==11) & (df5e_copy['month']==3)]\n",
    "df5T_c=df5T_c.rename(columns={'Total':'SMS'})\n",
    "df5T_c['SMS'].sum()"
   ]
  },
  {
   "cell_type": "code",
   "execution_count": 115,
   "metadata": {},
   "outputs": [
    {
     "data": {
      "text/plain": [
       "2085161.0"
      ]
     },
     "execution_count": 115,
     "metadata": {},
     "output_type": "execute_result"
    }
   ],
   "source": [
    "df6cco_=df1T_co['SMS'].sum()+df3T_c['SMS'].sum()+df4T_c['SMS'].sum()+df5T_c['SMS'].sum()\n",
    "df6cco_"
   ]
  },
  {
   "cell_type": "markdown",
   "metadata": {},
   "source": [
    "OPERATION VOICE DAY 11"
   ]
  },
  {
   "cell_type": "code",
   "execution_count": 116,
   "metadata": {},
   "outputs": [],
   "source": [
    "df1h=df1[df1.Data_main.str.contains('Voice-Charging-FirstInterrogation-Successful')]\n",
    "df1z_copy=df1h[(df1h['day']==11) & (df1h['month']==3)]\n",
    "df1z_copy=df1z_copy.rename(columns={'Total':'Voice-F'})\n",
    "df1c=df1[df1.Data_main.str.contains('Voice-Charging-IntermediateInterrogation-Successful')]\n",
    "df1z_cop=df1c[(df1c['day']==11) &  (df1c['month']==3)]\n",
    "df1z_cop=df1z_cop.rename(columns={'Total':'Voice-I'})\n",
    "df1d=df1[df1.Data_main.str.contains('Voice-Charging-FinalReport-Successful')]\n",
    "df1z_o=df1d[(df1d['day']==11)& (df1d['month']==3)]\n",
    "df1z_o=df1z_o.rename(columns={'Total':'Voice-FR'})"
   ]
  },
  {
   "cell_type": "markdown",
   "metadata": {},
   "source": [
    "MERGING THE TABLES TO GET THE COMMON DATA AND DELETING THE USELESS COLUMNS\n",
    "\n"
   ]
  },
  {
   "cell_type": "code",
   "execution_count": 117,
   "metadata": {},
   "outputs": [],
   "source": [
    "\n",
    "df1A=pd.merge(left=df1z_copy, right=df1z_cop, how='right', left_on='Time', right_on='Time')\n",
    "df1A=pd.merge(left=df1A, right=df1z_o, how='left', left_on='Time', right_on='Time')\n",
    "df1A.drop(['Data_main_x','Data_main_y','Tot_x','month_x','year_y','Data_main'],axis=1,inplace=True)\n",
    "df1A.drop(['Tot_y','day_x','month_y','year_x','Tot','day_y'],axis=1,inplace=True)\n",
    "\n"
   ]
  },
  {
   "cell_type": "markdown",
   "metadata": {},
   "source": [
    "GETTING THE COUNT\n"
   ]
  },
  {
   "cell_type": "code",
   "execution_count": 118,
   "metadata": {},
   "outputs": [
    {
     "data": {
      "text/plain": [
       "0"
      ]
     },
     "execution_count": 118,
     "metadata": {},
     "output_type": "execute_result"
    }
   ],
   "source": [
    "\n",
    "\n",
    "df1y['Voice-F']=df1y['Voice-F'].fillna(0)\n",
    "df1A['Count']=df1A['Voice-F']+df1A['Voice-I']+df1A['Voice-FR']\n",
    "df1A['Count'].sum()"
   ]
  },
  {
   "cell_type": "markdown",
   "metadata": {},
   "source": [
    "sheet 5 df3"
   ]
  },
  {
   "cell_type": "code",
   "execution_count": 119,
   "metadata": {},
   "outputs": [
    {
     "data": {
      "text/plain": [
       "19937117"
      ]
     },
     "execution_count": 119,
     "metadata": {},
     "output_type": "execute_result"
    }
   ],
   "source": [
    "df3a=df3[df3.Data_main.str.contains('Voice-Charging-FirstInterrogation-Successful')]\n",
    "df3m_copy=df3a[(df3a['day']==11) & (df3a['month']==3)]\n",
    "df3m_copy=df3m_copy.rename(columns={'Total':'Voice-F'})\n",
    "df3m_copy\n",
    "\n",
    "df3c=df3[df3.Data_main.str.contains('Voice-Charging-IntermediateInterrogation-Successful')]\n",
    "df3m_cop=df3c[(df3c['day']==11) &  (df3c['month']==3)]\n",
    "df3m_cop=df3m_cop.rename(columns={'Total':'Voice-I'})\n",
    "df3m_cop\n",
    "\n",
    "df3d=df3[df3.Data_main.str.contains('Voice-Charging-FinalReport-Successful')]\n",
    "df3m_o=df3d[(df3d['day']==11)& (df3d['month']==3)]\n",
    "df3m_o=df3m_o.rename(columns={'Total':'Voice-FR'})\n",
    "df3m_o\n",
    "\n",
    "##MERGING THE TABLES TO GET THE COMMON DATA\n",
    "\n",
    "df3cco=pd.merge(left=df3m_cop, right=df3m_copy, how='right', left_on='Time', right_on='Time')\n",
    "df3cco=pd.merge(left=df3cco, right=df3m_o, how='left', left_on='Time', right_on='Time')\n",
    "df3cco\n",
    "##DELETING NON REQUIRED COLUMNS\n",
    "df3cco.drop(['Data_main_x','Data_main_y','Tot_x','month','year','Data_main'],axis=1,inplace=True)\n",
    "df3cco.drop(['Tot_y','day_x','month_x','year_x','Tot','day'],axis=1,inplace=True)\n",
    "df3cco['Count']=df3cco['Voice-F']+df3cco['Voice-I']+df3cco['Voice-FR']\n",
    "df3cco['Count'].sum()"
   ]
  },
  {
   "cell_type": "markdown",
   "metadata": {},
   "source": [
    "sheet 6 df4"
   ]
  },
  {
   "cell_type": "code",
   "execution_count": 120,
   "metadata": {},
   "outputs": [
    {
     "data": {
      "text/plain": [
       "55030735.0"
      ]
     },
     "execution_count": 120,
     "metadata": {},
     "output_type": "execute_result"
    }
   ],
   "source": [
    "df4a=df4[df4.Data_main.str.contains('Voice-Charging-FirstInterrogation-Successful')]\n",
    "df4b_copy=df4a[(df4a['day']==11) & (df4a['month']==3)]\n",
    "df4b_copy=df4b_copy.rename(columns={'Total':'Voice-F'})\n",
    "df4b_copy['Voice-F'].sum()\n",
    "\n",
    "df4c=df4[df4.Data_main.str.contains('Voice-Charging-IntermediateInterrogation-Successful')]\n",
    "df4b_cop=df4c[(df4c['day']==11) &  (df4c['month']==3)]\n",
    "df4b_cop=df4b_cop.rename(columns={'Total':'Voice-I'})\n",
    "df4b_cop['Voice-I'].sum()\n",
    "\n",
    "df4d=df4[df4.Data_main.str.contains('Voice-Charging-FinalReport-Successful')]\n",
    "df4b_o=df4d[(df4d['day']==11)& (df4d['month']==3)]\n",
    "df4b_o=df4b_o.rename(columns={'Total':'Voice-FR'})\n",
    "df4b_o['Voice-FR'].sum()\n",
    "\n",
    "##MERGING THE TABLES TO GET THE COMMON DATA\n",
    "df4ab_copy=pd.merge(left=df4b_cop, right=df4b_copy, how='right', left_on='Time', right_on='Time')\n",
    "df4ab_copy=pd.merge(left=df4ab_copy, right=df4b_o, how='left', left_on='Time', right_on='Time')\n",
    "\n",
    "##DELETING NON REQUIRED COLUMNS\n",
    "df4ab_copy.drop(['Data_main_x','Data_main_y','Tot_x','month_x','year_y','Data_main'],axis=1,inplace=True)\n",
    "df4ab_copy.drop(['Tot_y','day_x','month_y','year_x','Tot','day_y'],axis=1,inplace=True)\n",
    "df4ab_copy['Count']=df4ab_copy['Voice-F']+df4ab_copy['Voice-I']+df4ab_copy['Voice-FR']\n",
    "\n",
    "df4ab_copy['Count'].sum()\n"
   ]
  },
  {
   "cell_type": "markdown",
   "metadata": {},
   "source": [
    "sheet 7 df5"
   ]
  },
  {
   "cell_type": "code",
   "execution_count": 121,
   "metadata": {},
   "outputs": [
    {
     "data": {
      "text/plain": [
       "19933589.0"
      ]
     },
     "execution_count": 121,
     "metadata": {},
     "output_type": "execute_result"
    }
   ],
   "source": [
    "df5c_=df5[df5.Data_main.str.contains('Voice-Charging-FirstInterrogation-Successful')]\n",
    "df5m_copy=df5c_[(df5c_['day']==11) &  (df5c_['month']==3)]\n",
    "df5m_copy=df5m_copy.rename(columns={'Total':'Voice-F'})\n",
    "\n",
    "\n",
    "df5c=df5[df5.Data_main.str.contains('Voice-Charging-IntermediateInterrogation-Successful')]\n",
    "df5m_cop=df5c[(df5c['day']==11) &  (df5c['month']==3)]\n",
    "df5m_cop=df5m_cop.rename(columns={'Total':'Voice-I'})\n",
    "\n",
    "df5d=df5[df5.Data_main.str.contains('Voice-Charging-FinalReport-Successful')]\n",
    "df5m_o=df5d[(df5d['day']==11)& (df5d['month']==3)]\n",
    "df5m_o=df5m_o.rename(columns={'Total':'Voice-FR'})\n",
    "\n",
    "##MERGING THE TABLES TO GET THE COMMON DATA\n",
    "df5cco=pd.merge(left=df5m_cop, right=df5m_copy, how='right', left_on='Time', right_on='Time')\n",
    "df5cco=pd.merge(left=df5cco, right=df5m_o, how='left', left_on='Time', right_on='Time')\n",
    "\n",
    "##DELETING NON REQUIRED COLUMNS\n",
    "df5cco.drop(['Data_main_x','Data_main_y','Tot_x','month_x','year_y','Data_main'],axis=1,inplace=True)\n",
    "df5cco.drop(['Tot_y','day_x','month_y','year_x','Tot','day_y'],axis=1,inplace=True)\n",
    "df5cco['Count']=df5cco['Voice-F']+df5cco['Voice-I']+df5cco['Voice-FR']\n",
    "\n",
    "df5cco['Count'].sum()"
   ]
  },
  {
   "cell_type": "code",
   "execution_count": 122,
   "metadata": {},
   "outputs": [
    {
     "data": {
      "text/plain": [
       "94901441.0"
      ]
     },
     "execution_count": 122,
     "metadata": {},
     "output_type": "execute_result"
    }
   ],
   "source": [
    "df6deco=df3cco['Count'].sum()+df5cco['Count'].sum()+df1A['Count'].sum()+df4ab_copy['Count'].sum()\n",
    "df6deco"
   ]
  },
  {
   "cell_type": "markdown",
   "metadata": {},
   "source": [
    "SMS OPERATION DAY 12"
   ]
  },
  {
   "cell_type": "code",
   "execution_count": 123,
   "metadata": {},
   "outputs": [
    {
     "data": {
      "text/plain": [
       "404363.0"
      ]
     },
     "execution_count": 123,
     "metadata": {},
     "output_type": "execute_result"
    }
   ],
   "source": [
    "df1e_copy=df1[df1.Data_main.str.contains('Messaging-Charging-Originating-Sms')]\n",
    "df1T_co=df1e_copy[(df1e_copy['day']==12) & (df1e_copy['month']==3)]\n",
    "df1T_co=df1T_co.rename(columns={'Total':'SMS'})\n",
    "df1T_co['SMS'].sum()\n",
    "df3ei_copy=df3[df3.Data_main.str.contains('Messaging-Charging-Originating-Sms')]\n",
    "df3T_=df3ei_copy[(df3ei_copy['day']==12) & (df3ei_copy['month']==3)]\n",
    "df3T_=df3T_.rename(columns={'Total':'SMS'})\n",
    "df3T_['SMS'].sum()\n",
    "\n",
    "df4e_copy=df4[df4.Data_main.str.contains('Messaging-Charging-Originating-Sms')]\n",
    "df4T_=df4e_copy[(df4e_copy['day']==12) & (df4e_copy['month']==3)]\n",
    "df4T_=df4T_.rename(columns={'Total':'SMS'})\n",
    "df4T_['SMS'].sum()\n",
    "\n",
    "df5e_copy=df5[df5.Data_main.str.contains('Messaging-Charging-Originating-Sms')]\n",
    "df5T_=df5e_copy[(df5e_copy['day']==12) & (df5e_copy['month']==3)]\n",
    "df5T_=df5T_.rename(columns={'Total':'SMS'})\n",
    "df5T_['SMS'].sum()"
   ]
  },
  {
   "cell_type": "code",
   "execution_count": 124,
   "metadata": {},
   "outputs": [
    {
     "data": {
      "text/plain": [
       "2036272.0"
      ]
     },
     "execution_count": 124,
     "metadata": {},
     "output_type": "execute_result"
    }
   ],
   "source": [
    "df6cc=df1T_co['SMS'].sum()+df3T_['SMS'].sum()+df4T_['SMS'].sum()+df5T_['SMS'].sum()\n",
    "df6cc"
   ]
  },
  {
   "cell_type": "markdown",
   "metadata": {},
   "source": [
    "OPERATION VOICE DAY 12"
   ]
  },
  {
   "cell_type": "code",
   "execution_count": 125,
   "metadata": {},
   "outputs": [],
   "source": [
    "df1h=df1[df1.Data_main.str.contains('Voice-Charging-FirstInterrogation-Successful')]\n",
    "df1z_copy=df1h[(df1h['day']==12) & (df1h['month']==3)]\n",
    "df1z_copy=df1z_copy.rename(columns={'Total':'Voice-F'})\n",
    "df1z_copy['Voice-F'].sum()\n",
    "\n",
    "df1c=df1[df1.Data_main.str.contains('Voice-Charging-IntermediateInterrogation-Successful')]\n",
    "df1z_cop=df1c[(df1c['day']==12) &  (df1c['month']==3)]\n",
    "df1z_cop=df1z_cop.rename(columns={'Total':'Voice-I'})\n",
    "df1z_cop['Voice-I'].sum()\n",
    "\n",
    "df1d=df1[df1.Data_main.str.contains('Voice-Charging-FinalReport-Successful')]\n",
    "df1z_o=df1d[(df1d['day']==12)& (df1d['month']==3)]\n",
    "df1z_o=df1z_o.rename(columns={'Total':'Voice-FR'})\n",
    "df1A['Count']=df1z_copy['Voice-F'].sum()+df1z_cop['Voice-I'].sum()+df1z_o['Voice-FR'].sum()"
   ]
  },
  {
   "cell_type": "markdown",
   "metadata": {},
   "source": [
    "sheet 5 df3"
   ]
  },
  {
   "cell_type": "code",
   "execution_count": 126,
   "metadata": {},
   "outputs": [
    {
     "data": {
      "text/plain": [
       "20363880"
      ]
     },
     "execution_count": 126,
     "metadata": {},
     "output_type": "execute_result"
    }
   ],
   "source": [
    "df3a=df3[df3.Data_main.str.contains('Voice-Charging-FirstInterrogation-Successful')]\n",
    "df3n_copy=df3a[(df3a['day']==12) & (df3a['month']==3)]\n",
    "df3n_copy=df3n_copy.rename(columns={'Total':'Voice-F'})\n",
    "df3n_copy\n",
    "\n",
    "df3c=df3[df3.Data_main.str.contains('Voice-Charging-IntermediateInterrogation-Successful')]\n",
    "df3n_cop=df3c[(df3c['day']==12) &  (df3c['month']==3)]\n",
    "df3n_cop=df3n_cop.rename(columns={'Total':'Voice-I'})\n",
    "df3n_cop\n",
    "\n",
    "df3d=df3[df3.Data_main.str.contains('Voice-Charging-FinalReport-Successful')]\n",
    "df3n_o=df3d[(df3d['day']==12)& (df3d['month']==3)]\n",
    "df3n_o=df3n_o.rename(columns={'Total':'Voice-FR'})\n",
    "df3n_o\n",
    "\n",
    "##MERGING THE TABLES TO GET THE COMMON DATA\n",
    "\n",
    "df3cc=pd.merge(left=df3n_cop, right=df3n_copy, how='right', left_on='Time', right_on='Time')\n",
    "df3cc=pd.merge(left=df3cc, right=df3n_o, how='left', left_on='Time', right_on='Time')\n",
    "df3cc\n",
    "##DELETING NON REQUIRED COLUMNS\n",
    "df3cc.drop(['Data_main_x','Data_main_y','Tot_x','month','year','Data_main'],axis=1,inplace=True)\n",
    "df3cc.drop(['Tot_y','day_x','month_x','year_x','Tot','day'],axis=1,inplace=True)\n",
    "df3cc['Count']=df3cc['Voice-F']+df3cc['Voice-I']+df3cc['Voice-FR']\n",
    "df3cc['Count'].sum()"
   ]
  },
  {
   "cell_type": "markdown",
   "metadata": {},
   "source": [
    "sheet 6 df4"
   ]
  },
  {
   "cell_type": "code",
   "execution_count": 127,
   "metadata": {},
   "outputs": [
    {
     "data": {
      "text/plain": [
       "56499734.0"
      ]
     },
     "execution_count": 127,
     "metadata": {},
     "output_type": "execute_result"
    }
   ],
   "source": [
    "df4a=df4[df4.Data_main.str.contains('Voice-Charging-FirstInterrogation-Successful')]\n",
    "df4d_copy=df4a[(df4a['day']==12) & (df4a['month']==3)]\n",
    "df4d_copy=df4d_copy.rename(columns={'Total':'Voice-F'})\n",
    "df4d_copy['Voice-F'].sum()\n",
    "\n",
    "df4c=df4[df4.Data_main.str.contains('Voice-Charging-IntermediateInterrogation-Successful')]\n",
    "df4d_cop=df4c[(df4c['day']==12) &  (df4c['month']==3)]\n",
    "df4d_cop=df4d_cop.rename(columns={'Total':'Voice-I'})\n",
    "df4d_cop['Voice-I'].sum()\n",
    "\n",
    "df4d=df4[df4.Data_main.str.contains('Voice-Charging-FinalReport-Successful')]\n",
    "df4d_o=df4d[(df4d['day']==12)& (df4d['month']==3)]\n",
    "df4d_o=df4d_o.rename(columns={'Total':'Voice-FR'})\n",
    "df4d_o['Voice-FR'].sum()\n",
    "\n",
    "##MERGING THE TABLES TO GET THE COMMON DATA\n",
    "df4ab_co=pd.merge(left=df4d_cop, right=df4d_copy, how='right', left_on='Time', right_on='Time')\n",
    "df4ab_co=pd.merge(left=df4ab_co, right=df4d_o, how='left', left_on='Time', right_on='Time')\n",
    "\n",
    "##DELETING NON REQUIRED COLUMNS\n",
    "df4ab_co.drop(['Data_main_x','Data_main_y','Tot_x','month_x','year_y','Data_main'],axis=1,inplace=True)\n",
    "df4ab_co.drop(['Tot_y','day_x','month_y','year_x','Tot','day_y'],axis=1,inplace=True)\n",
    "df4ab_co['Count']=df4ab_co['Voice-F']+df4ab_co['Voice-I']+df4ab_co['Voice-FR']\n",
    "\n",
    "df4ab_co['Count'].sum()\n"
   ]
  },
  {
   "cell_type": "markdown",
   "metadata": {},
   "source": [
    "sheet 7 df5"
   ]
  },
  {
   "cell_type": "code",
   "execution_count": 128,
   "metadata": {},
   "outputs": [
    {
     "data": {
      "text/plain": [
       "20363905.0"
      ]
     },
     "execution_count": 128,
     "metadata": {},
     "output_type": "execute_result"
    }
   ],
   "source": [
    "df5c_=df5[df5.Data_main.str.contains('Voice-Charging-FirstInterrogation-Successful')]\n",
    "df5n_copy=df5c_[(df5c_['day']==12) &  (df5c_['month']==3)]\n",
    "df5n_copy=df5n_copy.rename(columns={'Total':'Voice-F'})\n",
    "df5n_copy['Voice-F'].sum()\n",
    "\n",
    "\n",
    "df5c=df5[df5.Data_main.str.contains('Voice-Charging-IntermediateInterrogation-Successful')]\n",
    "df5n_cop=df5c[(df5c['day']==12) &  (df5c['month']==3)]\n",
    "df5n_cop=df5n_cop.rename(columns={'Total':'Voice-I'})\n",
    "\n",
    "df5d=df5[df5.Data_main.str.contains('Voice-Charging-FinalReport-Successful')]\n",
    "df5n_o=df5d[(df5d['day']==12)& (df5d['month']==3)]\n",
    "df5n_o=df5n_o.rename(columns={'Total':'Voice-FR'})\n",
    "\n",
    "##MERGING THE TABLES TO GET THE COMMON DATA\n",
    "df5cc=pd.merge(left=df5n_cop, right=df5n_copy, how='right', left_on='Time', right_on='Time')\n",
    "df5cc=pd.merge(left=df5cc, right=df5n_o, how='left', left_on='Time', right_on='Time')\n",
    "\n",
    "##DELETING NON REQUIRED COLUMNS\n",
    "df5cc.drop(['Data_main_x','Data_main_y','Tot_x','month_x','year_y','Data_main'],axis=1,inplace=True)\n",
    "df5cc.drop(['Tot_y','day_x','month_y','year_x','Tot','day_y'],axis=1,inplace=True)\n",
    "df5cc['Count']=df5cc['Voice-F']+df5cc['Voice-I']+df5cc['Voice-FR']\n",
    "\n",
    "df5cc['Count'].sum()"
   ]
  },
  {
   "cell_type": "code",
   "execution_count": 129,
   "metadata": {},
   "outputs": [
    {
     "data": {
      "text/plain": [
       "97227519.0"
      ]
     },
     "execution_count": 129,
     "metadata": {},
     "output_type": "execute_result"
    }
   ],
   "source": [
    "df6dec=df3cc['Count'].sum()+df5cc['Count'].sum()+df1A['Count'].sum()+df4ab_co['Count'].sum()\n",
    "df6dec"
   ]
  },
  {
   "cell_type": "markdown",
   "metadata": {},
   "source": [
    "SMS OPERATION DAY 13"
   ]
  },
  {
   "cell_type": "code",
   "execution_count": 130,
   "metadata": {},
   "outputs": [
    {
     "data": {
      "text/plain": [
       "374678.0"
      ]
     },
     "execution_count": 130,
     "metadata": {},
     "output_type": "execute_result"
    }
   ],
   "source": [
    "df1e_copy=df1[df1.Data_main.str.contains('Messaging-Charging-Originating-Sms')]\n",
    "df1T_cop=df1e_copy[(df1e_copy['day']==13) & (df1e_copy['month']==3)]\n",
    "df1T_cop=df1T_cop.rename(columns={'Total':'SMS'})\n",
    "df1T_cop['SMS'].sum()\n",
    "df3ei_copy=df3[df3.Data_main.str.contains('Messaging-Charging-Originating-Sms')]\n",
    "df3U_copy=df3ei_copy[(df3ei_copy['day']==13) & (df3ei_copy['month']==3)]\n",
    "df3U_copy=df3U_copy.rename(columns={'Total':'SMS'})\n",
    "df3U_copy['SMS'].sum()\n",
    "\n",
    "df4e_copy=df4[df4.Data_main.str.contains('Messaging-Charging-Originating-Sms')]\n",
    "df4U_copy=df4e_copy[(df4e_copy['day']==13) & (df4e_copy['month']==3)]\n",
    "df4U_copy=df4U_copy.rename(columns={'Total':'SMS'})\n",
    "df4U_copy['SMS'].sum()\n",
    "\n",
    "df5e_copy=df5[df5.Data_main.str.contains('Messaging-Charging-Originating-Sms')]\n",
    "df5U_copy=df5e_copy[(df5e_copy['day']==13) & (df5e_copy['month']==3)]\n",
    "df5U_copy=df5U_copy.rename(columns={'Total':'SMS'})\n",
    "df5U_copy['SMS'].sum()"
   ]
  },
  {
   "cell_type": "code",
   "execution_count": 131,
   "metadata": {},
   "outputs": [
    {
     "data": {
      "text/plain": [
       "1890250.0"
      ]
     },
     "execution_count": 131,
     "metadata": {},
     "output_type": "execute_result"
    }
   ],
   "source": [
    "df6d_copy=df1T_cop['SMS'].sum()+df3U_copy['SMS'].sum()+df4U_copy['SMS'].sum()+df5U_copy['SMS'].sum()\n",
    "df6d_copy"
   ]
  },
  {
   "cell_type": "markdown",
   "metadata": {},
   "source": [
    "VOICE OPERATION DAY 13"
   ]
  },
  {
   "cell_type": "code",
   "execution_count": 132,
   "metadata": {},
   "outputs": [
    {
     "data": {
      "text/plain": [
       "21"
      ]
     },
     "execution_count": 132,
     "metadata": {},
     "output_type": "execute_result"
    }
   ],
   "source": [
    "df1h=df1[df1.Data_main.str.contains('Voice-Charging-FirstInterrogation-Successful')]\n",
    "df1B_copy=df1h[(df1h['day']==13) & (df1h['month']==3)]\n",
    "df1B_copy=df1B_copy.rename(columns={'Total':'Voice-F'})\n",
    "df1B_copy['Voice-F'].sum()\n",
    "\n",
    "df1c=df1[df1.Data_main.str.contains('Voice-Charging-IntermediateInterrogation-Successful')]\n",
    "df1B_cop=df1c[(df1c['day']==13) &  (df1c['month']==3)]\n",
    "df1B_cop=df1B_cop.rename(columns={'Total':'Voice-I'})\n",
    "df1B_cop['Voice-I'].sum()\n",
    "\n",
    "df1d=df1[df1.Data_main.str.contains('Voice-Charging-FinalReport-Successful')]\n",
    "df1B_o=df1d[(df1d['day']==13)& (df1d['month']==3)]\n",
    "df1B_o=df1B_o.rename(columns={'Total':'Voice-FR'})\n",
    "df1B_o['Voice-FR'].sum()\n",
    "df1B_c=pd.DataFrame()\n",
    "df1B_c=df1B_copy['Voice-F'].sum()+df1B_cop['Voice-I'].sum()+df1B_o['Voice-FR'].sum()\n",
    "df1B_c"
   ]
  },
  {
   "cell_type": "markdown",
   "metadata": {},
   "source": [
    "sheet 5 df3"
   ]
  },
  {
   "cell_type": "code",
   "execution_count": 133,
   "metadata": {},
   "outputs": [
    {
     "data": {
      "text/plain": [
       "19245390"
      ]
     },
     "execution_count": 133,
     "metadata": {},
     "output_type": "execute_result"
    }
   ],
   "source": [
    "df3a=df3[df3.Data_main.str.contains('Voice-Charging-FirstInterrogation-Successful')]\n",
    "df3o_copy=df3a[(df3a['day']==13) & (df3a['month']==3)]\n",
    "df3o_copy=df3o_copy.rename(columns={'Total':'Voice-F'})\n",
    "df3o_copy\n",
    "\n",
    "df3c=df3[df3.Data_main.str.contains('Voice-Charging-IntermediateInterrogation-Successful')]\n",
    "df3o_cop=df3c[(df3c['day']==13) &  (df3c['month']==3)]\n",
    "df3o_cop=df3o_cop.rename(columns={'Total':'Voice-I'})\n",
    "df3o_cop\n",
    "\n",
    "df3d=df3[df3.Data_main.str.contains('Voice-Charging-FinalReport-Successful')]\n",
    "df3o_o=df3d[(df3d['day']==13)& (df3d['month']==3)]\n",
    "df3o_o=df3o_o.rename(columns={'Total':'Voice-FR'})\n",
    "df3o_o\n",
    "\n",
    "##MERGING THE TABLES TO GET THE COMMON DATA\n",
    "\n",
    "df3Dcopy=pd.merge(left=df3o_cop, right=df3o_copy, how='right', left_on='Time', right_on='Time')\n",
    "df3Dcopy=pd.merge(left=df3Dcopy, right=df3o_o, how='left', left_on='Time', right_on='Time')\n",
    "df3Dcopy\n",
    "##DELETING NON REQUIRED COLUMNS\n",
    "df3Dcopy.drop(['Data_main_x','Data_main_y','Tot_x','month','year','Data_main'],axis=1,inplace=True)\n",
    "df3Dcopy.drop(['Tot_y','day_x','month_x','year_x','Tot','day'],axis=1,inplace=True)\n",
    "df3Dcopy['Count']=df3Dcopy['Voice-F']+df3Dcopy['Voice-I']+df3Dcopy['Voice-FR']\n",
    "df3Dcopy['Count'].sum()"
   ]
  },
  {
   "cell_type": "markdown",
   "metadata": {},
   "source": [
    "sheet 6 df4"
   ]
  },
  {
   "cell_type": "code",
   "execution_count": 134,
   "metadata": {},
   "outputs": [
    {
     "data": {
      "text/plain": [
       "53741716.0"
      ]
     },
     "execution_count": 134,
     "metadata": {},
     "output_type": "execute_result"
    }
   ],
   "source": [
    "df4a=df4[df4.Data_main.str.contains('Voice-Charging-FirstInterrogation-Successful')]\n",
    "df4f_copy=df4a[(df4a['day']==13) & (df4a['month']==3)]\n",
    "df4f_copy=df4f_copy.rename(columns={'Total':'Voice-F'})\n",
    "df4f_copy['Voice-F'].sum()\n",
    "\n",
    "df4c=df4[df4.Data_main.str.contains('Voice-Charging-IntermediateInterrogation-Successful')]\n",
    "df4f_cop=df4c[(df4c['day']==13) &  (df4c['month']==3)]\n",
    "df4f_cop=df4f_cop.rename(columns={'Total':'Voice-I'})\n",
    "df4f_cop['Voice-I'].sum()\n",
    "\n",
    "df4d=df4[df4.Data_main.str.contains('Voice-Charging-FinalReport-Successful')]\n",
    "df4f_o=df4d[(df4d['day']==13)& (df4d['month']==3)]\n",
    "df4f_o=df4f_o.rename(columns={'Total':'Voice-FR'})\n",
    "df4f_o['Voice-FR'].sum()\n",
    "\n",
    "##MERGING THE TABLES TO GET THE COMMON DATA\n",
    "df4ab_c=pd.merge(left=df4f_cop, right=df4f_copy, how='right', left_on='Time', right_on='Time')\n",
    "df4ab_c=pd.merge(left=df4ab_c, right=df4f_o, how='left', left_on='Time', right_on='Time')\n",
    "\n",
    "##DELETING NON REQUIRED COLUMNS\n",
    "df4ab_c.drop(['Data_main_x','Data_main_y','Tot_x','month_x','year_y','Data_main'],axis=1,inplace=True)\n",
    "df4ab_c.drop(['Tot_y','day_x','month_y','year_x','Tot','day_y'],axis=1,inplace=True)\n",
    "df4ab_c['Count']=df4ab_c['Voice-F']+df4ab_c['Voice-I']+df4ab_c['Voice-FR']\n",
    "\n",
    "df4ab_c['Count'].sum()\n"
   ]
  },
  {
   "cell_type": "markdown",
   "metadata": {},
   "source": [
    "sheet 7 df5"
   ]
  },
  {
   "cell_type": "code",
   "execution_count": 135,
   "metadata": {},
   "outputs": [
    {
     "data": {
      "text/plain": [
       "19239108.0"
      ]
     },
     "execution_count": 135,
     "metadata": {},
     "output_type": "execute_result"
    }
   ],
   "source": [
    "df5c_=df5[df5.Data_main.str.contains('Voice-Charging-FirstInterrogation-Successful')]\n",
    "df5o_copy=df5c_[(df5c_['day']==13) &  (df5c_['month']==3)]\n",
    "df5o_copy=df5o_copy.rename(columns={'Total':'Voice-F'})\n",
    "\n",
    "\n",
    "df5c=df5[df5.Data_main.str.contains('Voice-Charging-IntermediateInterrogation-Successful')]\n",
    "df5o_cop=df5c[(df5c['day']==13) &  (df5c['month']==3)]\n",
    "df5o_cop=df5o_cop.rename(columns={'Total':'Voice-I'})\n",
    "\n",
    "df5d=df5[df5.Data_main.str.contains('Voice-Charging-FinalReport-Successful')]\n",
    "df5o_o=df5d[(df5d['day']==13)& (df5d['month']==3)]\n",
    "df5o_o=df5o_o.rename(columns={'Total':'Voice-FR'})\n",
    "\n",
    "##MERGING THE TABLES TO GET THE COMMON DATA\n",
    "df5Dcopy=pd.merge(left=df5o_cop, right=df5o_copy, how='right', left_on='Time', right_on='Time')\n",
    "df5Dcopy=pd.merge(left=df5Dcopy, right=df5o_o, how='left', left_on='Time', right_on='Time')\n",
    "\n",
    "##DELETING NON REQUIRED COLUMNS\n",
    "df5Dcopy.drop(['Data_main_x','Data_main_y','Tot_x','month_x','year_y','Data_main'],axis=1,inplace=True)\n",
    "df5Dcopy.drop(['Tot_y','day_x','month_y','year_x','Tot','day_y'],axis=1,inplace=True)\n",
    "df5Dcopy['Count']=df5Dcopy['Voice-F']+df5Dcopy['Voice-I']+df5Dcopy['Voice-FR']\n",
    "\n",
    "df5Dcopy['Count'].sum()"
   ]
  },
  {
   "cell_type": "code",
   "execution_count": 136,
   "metadata": {},
   "outputs": [
    {
     "data": {
      "text/plain": [
       "92226235.0"
      ]
     },
     "execution_count": 136,
     "metadata": {},
     "output_type": "execute_result"
    }
   ],
   "source": [
    "df6de=df3Dcopy['Count'].sum()+df5Dcopy['Count'].sum()+df1B_c+df4ab_c['Count'].sum()\n",
    "df6de"
   ]
  },
  {
   "cell_type": "markdown",
   "metadata": {},
   "source": [
    "SMS OPERATION DAY 14"
   ]
  },
  {
   "cell_type": "code",
   "execution_count": 137,
   "metadata": {},
   "outputs": [
    {
     "data": {
      "text/plain": [
       "342468.0"
      ]
     },
     "execution_count": 137,
     "metadata": {},
     "output_type": "execute_result"
    }
   ],
   "source": [
    "df1e_copy=df1[df1.Data_main.str.contains('Messaging-Charging-Originating-Sms')]\n",
    "df1T_cop=df1e_copy[(df1e_copy['day']==14) & (df1e_copy['month']==3)]\n",
    "df1T_cop=df1T_cop.rename(columns={'Total':'SMS'})\n",
    "df1T_cop['SMS'].sum()\n",
    "df3ei_copy=df3[df3.Data_main.str.contains('Messaging-Charging-Originating-Sms')]\n",
    "df3U_cop=df3ei_copy[(df3ei_copy['day']==14) & (df3ei_copy['month']==3)]\n",
    "df3U_cop=df3U_cop.rename(columns={'Total':'SMS'})\n",
    "df3U_cop['SMS'].sum()\n",
    "\n",
    "df4e_copy=df4[df4.Data_main.str.contains('Messaging-Charging-Originating-Sms')]\n",
    "df4U_cop=df4e_copy[(df4e_copy['day']==14) & (df4e_copy['month']==3)]\n",
    "df4U_cop=df4U_cop.rename(columns={'Total':'SMS'})\n",
    "df4U_cop['SMS'].sum()\n",
    "\n",
    "df5e_copy=df5[df5.Data_main.str.contains('Messaging-Charging-Originating-Sms')]\n",
    "df5U_cop=df5e_copy[(df5e_copy['day']==14) & (df5e_copy['month']==3)]\n",
    "df5U_cop=df5U_cop.rename(columns={'Total':'SMS'})\n",
    "df5U_cop['SMS'].sum()"
   ]
  },
  {
   "cell_type": "code",
   "execution_count": 138,
   "metadata": {},
   "outputs": [
    {
     "data": {
      "text/plain": [
       "1713445.0"
      ]
     },
     "execution_count": 138,
     "metadata": {},
     "output_type": "execute_result"
    }
   ],
   "source": [
    "df6d_cop=df1T_cop['SMS'].sum()+df3U_cop['SMS'].sum()+df4U_cop['SMS'].sum()+df5U_cop['SMS'].sum()\n",
    "df6d_cop"
   ]
  },
  {
   "cell_type": "markdown",
   "metadata": {},
   "source": [
    "VOICE OPERATION DAY 14"
   ]
  },
  {
   "cell_type": "code",
   "execution_count": 139,
   "metadata": {},
   "outputs": [],
   "source": [
    "df1h=df1[df1.Data_main.str.contains('Voice-Charging-FirstInterrogation-Successful')]\n",
    "df1C_copy=df1h[(df1h['day']==14) & (df1h['month']==3)]\n",
    "df1C_copy=df1C_copy.rename(columns={'Total':'Voice-F'})\n",
    "df1C_copy['Voice-F'].sum()\n",
    "\n",
    "df1c=df1[df1.Data_main.str.contains('Voice-Charging-IntermediateInterrogation-Successful')]\n",
    "df1C_cop=df1c[(df1c['day']==14) &  (df1c['month']==3)]\n",
    "df1C_cop=df1C_cop.rename(columns={'Total':'Voice-I'})\n",
    "df1C_cop['Voice-I'].sum()\n",
    "\n",
    "df1d=df1[df1.Data_main.str.contains('Voice-Charging-FinalReport-Successful')]\n",
    "df1C_o=df1d[(df1d['day']==14)& (df1d['month']==3)]\n",
    "df1C_o=df1C_o.rename(columns={'Total':'Voice-FR'})\n",
    "df1C_o['Voice-FR'].sum()\n",
    "df1C_c=pd.DataFrame()\n",
    "df1C_c=df1C_copy['Voice-F'].sum()+df1C_cop['Voice-I'].sum()+df1C_o['Voice-FR'].sum()"
   ]
  },
  {
   "cell_type": "code",
   "execution_count": 140,
   "metadata": {},
   "outputs": [
    {
     "data": {
      "text/plain": [
       "4"
      ]
     },
     "execution_count": 140,
     "metadata": {},
     "output_type": "execute_result"
    }
   ],
   "source": [
    "df1C_c"
   ]
  },
  {
   "cell_type": "markdown",
   "metadata": {},
   "source": [
    "sheet 5 df3"
   ]
  },
  {
   "cell_type": "code",
   "execution_count": 141,
   "metadata": {},
   "outputs": [
    {
     "data": {
      "text/plain": [
       "20905716"
      ]
     },
     "execution_count": 141,
     "metadata": {},
     "output_type": "execute_result"
    }
   ],
   "source": [
    "df3a=df3[df3.Data_main.str.contains('Voice-Charging-FirstInterrogation-Successful')]\n",
    "df3p_copy=df3a[(df3a['day']==14) & (df3a['month']==3)]\n",
    "df3p_copy=df3p_copy.rename(columns={'Total':'Voice-F'})\n",
    "df3p_copy\n",
    "\n",
    "df3c=df3[df3.Data_main.str.contains('Voice-Charging-IntermediateInterrogation-Successful')]\n",
    "df3p_cop=df3c[(df3c['day']==14) &  (df3c['month']==3)]\n",
    "df3p_cop=df3p_cop.rename(columns={'Total':'Voice-I'})\n",
    "df3p_cop\n",
    "\n",
    "df3d=df3[df3.Data_main.str.contains('Voice-Charging-FinalReport-Successful')]\n",
    "df3p_o=df3d[(df3d['day']==14)& (df3d['month']==3)]\n",
    "df3p_o=df3p_o.rename(columns={'Total':'Voice-FR'})\n",
    "df3p_o\n",
    "\n",
    "##MERGING THE TABLES TO GET THE COMMON DATA\n",
    "\n",
    "df3Dcop=pd.merge(left=df3p_cop, right=df3p_copy, how='right', left_on='Time', right_on='Time')\n",
    "df3Dcop=pd.merge(left=df3Dcop, right=df3p_o, how='left', left_on='Time', right_on='Time')\n",
    "df3Dcop\n",
    "##DELETING NON REQUIRED COLUMNS\n",
    "df3Dcop.drop(['Data_main_x','Data_main_y','Tot_x','month','year','Data_main'],axis=1,inplace=True)\n",
    "df3Dcop.drop(['Tot_y','day_x','month_x','year_x','Tot','day'],axis=1,inplace=True)\n",
    "df3Dcop['Count']=df3Dcop['Voice-F']+df3Dcop['Voice-I']+df3Dcop['Voice-FR']\n",
    "df3Dcop['Count'].sum()"
   ]
  },
  {
   "cell_type": "markdown",
   "metadata": {},
   "source": [
    "sheet 6 df4"
   ]
  },
  {
   "cell_type": "code",
   "execution_count": 142,
   "metadata": {},
   "outputs": [
    {
     "data": {
      "text/plain": [
       "57829392.0"
      ]
     },
     "execution_count": 142,
     "metadata": {},
     "output_type": "execute_result"
    }
   ],
   "source": [
    "df4a=df4[df4.Data_main.str.contains('Voice-Charging-FirstInterrogation-Successful')]\n",
    "df4g_copy=df4a[(df4a['day']==14) & (df4a['month']==3)]\n",
    "df4g_copy=df4g_copy.rename(columns={'Total':'Voice-F'})\n",
    "df4g_copy['Voice-F'].sum()\n",
    "\n",
    "df4c=df4[df4.Data_main.str.contains('Voice-Charging-IntermediateInterrogation-Successful')]\n",
    "df4g_cop=df4c[(df4c['day']==14) &  (df4c['month']==3)]\n",
    "df4g_cop=df4g_cop.rename(columns={'Total':'Voice-I'})\n",
    "df4g_cop['Voice-I'].sum()\n",
    "\n",
    "df4d=df4[df4.Data_main.str.contains('Voice-Charging-FinalReport-Successful')]\n",
    "df4g_o=df4d[(df4d['day']==14)& (df4d['month']==3)]\n",
    "df4g_o=df4g_o.rename(columns={'Total':'Voice-FR'})\n",
    "df4g_o['Voice-FR'].sum()\n",
    "\n",
    "##MERGING THE TABLES TO GET THE COMMON DATA\n",
    "df4ab_=pd.merge(left=df4g_cop, right=df4g_copy, how='right', left_on='Time', right_on='Time')\n",
    "df4ab_=pd.merge(left=df4ab_, right=df4g_o, how='left', left_on='Time', right_on='Time')\n",
    "\n",
    "##DELETING NON REQUIRED COLUMNS\n",
    "df4ab_.drop(['Data_main_x','Data_main_y','Tot_x','month_x','year_y','Data_main'],axis=1,inplace=True)\n",
    "df4ab_.drop(['Tot_y','day_x','month_y','year_x','Tot','day_y'],axis=1,inplace=True)\n",
    "df4ab_['Count']=df4ab_['Voice-F']+df4ab_['Voice-I']+df4ab_['Voice-FR']\n",
    "\n",
    "df4ab_['Count'].sum()\n"
   ]
  },
  {
   "cell_type": "markdown",
   "metadata": {},
   "source": [
    "sheet 7 df5"
   ]
  },
  {
   "cell_type": "code",
   "execution_count": 143,
   "metadata": {},
   "outputs": [
    {
     "data": {
      "text/plain": [
       "20901466.0"
      ]
     },
     "execution_count": 143,
     "metadata": {},
     "output_type": "execute_result"
    }
   ],
   "source": [
    "df5c_=df5[df5.Data_main.str.contains('Voice-Charging-FirstInterrogation-Successful')]\n",
    "df5p_copy=df5c_[(df5c_['day']==14) &  (df5c_['month']==3)]\n",
    "df5p_copy=df5p_copy.rename(columns={'Total':'Voice-F'})\n",
    "\n",
    "\n",
    "df5c=df5[df5.Data_main.str.contains('Voice-Charging-IntermediateInterrogation-Successful')]\n",
    "df5p_cop=df5c[(df5c['day']==14) &  (df5c['month']==3)]\n",
    "df5p_cop=df5p_cop.rename(columns={'Total':'Voice-I'})\n",
    "\n",
    "df5d=df5[df5.Data_main.str.contains('Voice-Charging-FinalReport-Successful')]\n",
    "df5p_o=df5d[(df5d['day']==14)& (df5d['month']==3)]\n",
    "df5p_o=df5p_o.rename(columns={'Total':'Voice-FR'})\n",
    "\n",
    "##MERGING THE TABLES TO GET THE COMMON DATA\n",
    "df5Dcoy=pd.merge(left=df5p_cop, right=df5p_copy, how='right', left_on='Time', right_on='Time')\n",
    "df5Dcoy=pd.merge(left=df5Dcoy, right=df5p_o, how='left', left_on='Time', right_on='Time')\n",
    "\n",
    "##DELETING NON REQUIRED COLUMNS\n",
    "df5Dcoy.drop(['Data_main_x','Data_main_y','Tot_x','month_x','year_y','Data_main'],axis=1,inplace=True)\n",
    "df5Dcoy.drop(['Tot_y','day_x','month_y','year_x','Tot','day_y'],axis=1,inplace=True)\n",
    "df5Dcoy['Count']=df5Dcoy['Voice-F']+df5Dcoy['Voice-I']+df5Dcoy['Voice-FR']\n",
    "\n",
    "df5Dcoy['Count'].sum()"
   ]
  },
  {
   "cell_type": "code",
   "execution_count": 144,
   "metadata": {},
   "outputs": [
    {
     "data": {
      "text/plain": [
       "99636578.0"
      ]
     },
     "execution_count": 144,
     "metadata": {},
     "output_type": "execute_result"
    }
   ],
   "source": [
    "df6dfcopy=df3Dcop['Count'].sum()+df5Dcoy['Count'].sum()+df1C_c+df4ab_['Count'].sum()\n",
    "df6dfcopy"
   ]
  },
  {
   "cell_type": "markdown",
   "metadata": {},
   "source": [
    "SMS OPERATION DAY 15"
   ]
  },
  {
   "cell_type": "code",
   "execution_count": 145,
   "metadata": {},
   "outputs": [
    {
     "data": {
      "text/plain": [
       "388508.0"
      ]
     },
     "execution_count": 145,
     "metadata": {},
     "output_type": "execute_result"
    }
   ],
   "source": [
    "df1e_copy=df1[df1.Data_main.str.contains('Messaging-Charging-Originating-Sms')]\n",
    "df1T_c=df1e_copy[(df1e_copy['day']==15) & (df1e_copy['month']==3)]\n",
    "df1T_c=df1T_c.rename(columns={'Total':'SMS'})\n",
    "df1T_c['SMS'].sum()\n",
    "df3ei_copy=df3[df3.Data_main.str.contains('Messaging-Charging-Originating-Sms')]\n",
    "df3U_co=df3ei_copy[(df3ei_copy['day']==15) & (df3ei_copy['month']==3)]\n",
    "df3U_co=df3U_co.rename(columns={'Total':'SMS'})\n",
    "df3U_co['SMS'].sum()\n",
    "\n",
    "df4e_copy=df4[df4.Data_main.str.contains('Messaging-Charging-Originating-Sms')]\n",
    "df4U_co=df4e_copy[(df4e_copy['day']==15) & (df4e_copy['month']==3)]\n",
    "df4U_co=df4U_co.rename(columns={'Total':'SMS'})\n",
    "df4U_co['SMS'].sum()\n",
    "\n",
    "df5e_copy=df5[df5.Data_main.str.contains('Messaging-Charging-Originating-Sms')]\n",
    "df5U_co=df5e_copy[(df5e_copy['day']==15) & (df5e_copy['month']==3)]\n",
    "df5U_co=df5U_co.rename(columns={'Total':'SMS'})\n",
    "df5U_co['SMS'].sum()"
   ]
  },
  {
   "cell_type": "code",
   "execution_count": 146,
   "metadata": {},
   "outputs": [
    {
     "data": {
      "text/plain": [
       "1950291.0"
      ]
     },
     "execution_count": 146,
     "metadata": {},
     "output_type": "execute_result"
    }
   ],
   "source": [
    "df6d_co=df1T_c['SMS'].sum()+df3U_co['SMS'].sum()+df4U_co['SMS'].sum()+df5U_co['SMS'].sum()\n",
    "df6d_co"
   ]
  },
  {
   "cell_type": "markdown",
   "metadata": {},
   "source": [
    "OPERATION VOICE DAY 15"
   ]
  },
  {
   "cell_type": "code",
   "execution_count": 147,
   "metadata": {},
   "outputs": [],
   "source": [
    "df1h=df1[df1.Data_main.str.contains('Voice-Charging-FirstInterrogation-Successful')]\n",
    "df1D_copy=df1h[(df1h['day']==15) & (df1h['month']==3)]\n",
    "df1D_copy=df1D_copy.rename(columns={'Total':'Voice-F'})\n",
    "df1D_copy['Voice-F'].sum()\n",
    "\n",
    "df1c=df1[df1.Data_main.str.contains('Voice-Charging-IntermediateInterrogation-Successful')]\n",
    "df1D_cop=df1c[(df1c['day']==15) &  (df1c['month']==3)]\n",
    "df1D_cop=df1D_cop.rename(columns={'Total':'Voice-I'})\n",
    "df1D_cop['Voice-I'].sum()\n",
    "\n",
    "df1d=df1[df1.Data_main.str.contains('Voice-Charging-FinalReport-Successful')]\n",
    "df1D_o=df1d[(df1d['day']==15)& (df1d['month']==3)]\n",
    "df1D_o=df1D_o.rename(columns={'Total':'Voice-FR'})\n",
    "df1D_o['Voice-FR'].sum()\n",
    "df1D_c=pd.DataFrame()\n",
    "df1D_c=df1D_copy['Voice-F'].sum()+df1D_cop['Voice-I'].sum()+df1D_o['Voice-FR'].sum()"
   ]
  },
  {
   "cell_type": "markdown",
   "metadata": {},
   "source": [
    "SHEET 5 df3"
   ]
  },
  {
   "cell_type": "code",
   "execution_count": 148,
   "metadata": {},
   "outputs": [
    {
     "data": {
      "text/plain": [
       "21023237"
      ]
     },
     "execution_count": 148,
     "metadata": {},
     "output_type": "execute_result"
    }
   ],
   "source": [
    "df3a=df3[df3.Data_main.str.contains('Voice-Charging-FirstInterrogation-Successful')]\n",
    "df3q_copy=df3a[(df3a['day']==15) & (df3a['month']==3)]\n",
    "df3q_copy=df3q_copy.rename(columns={'Total':'Voice-F'})\n",
    "df3q_copy\n",
    "\n",
    "df3c=df3[df3.Data_main.str.contains('Voice-Charging-IntermediateInterrogation-Successful')]\n",
    "df3q_cop=df3c[(df3c['day']==15) &  (df3c['month']==3)]\n",
    "df3q_cop=df3q_cop.rename(columns={'Total':'Voice-I'})\n",
    "df3q_cop\n",
    "\n",
    "df3d=df3[df3.Data_main.str.contains('Voice-Charging-FinalReport-Successful')]\n",
    "df3q_o=df3d[(df3d['day']==15)& (df3d['month']==3)]\n",
    "df3q_o=df3q_o.rename(columns={'Total':'Voice-FR'})\n",
    "df3q_o\n",
    "\n",
    "##MERGING THE TABLES TO GET THE COMMON DATA\n",
    "\n",
    "df3Dco=pd.merge(left=df3q_cop, right=df3q_copy, how='right', left_on='Time', right_on='Time')\n",
    "df3Dco=pd.merge(left=df3Dco, right=df3q_o, how='left', left_on='Time', right_on='Time')\n",
    "df3Dco\n",
    "##DELETING NON REQUIRED COLUMNS\n",
    "df3Dco.drop(['Data_main_x','Data_main_y','Tot_x','month','year','Data_main'],axis=1,inplace=True)\n",
    "df3Dco.drop(['Tot_y','day_x','month_x','year_x','Tot','day'],axis=1,inplace=True)\n",
    "df3Dco['Count']=df3Dco['Voice-F']+df3Dco['Voice-I']+df3Dco['Voice-FR']\n",
    "df3Dco['Count'].sum()"
   ]
  },
  {
   "cell_type": "markdown",
   "metadata": {},
   "source": [
    "sheet 6 df4"
   ]
  },
  {
   "cell_type": "code",
   "execution_count": 149,
   "metadata": {},
   "outputs": [
    {
     "data": {
      "text/plain": [
       "58059839.0"
      ]
     },
     "execution_count": 149,
     "metadata": {},
     "output_type": "execute_result"
    }
   ],
   "source": [
    "df4a=df4[df4.Data_main.str.contains('Voice-Charging-FirstInterrogation-Successful')]\n",
    "df4h_copy=df4a[(df4a['day']==15) & (df4a['month']==3)]\n",
    "df4h_copy=df4g_copy.rename(columns={'Total':'Voice-F'})\n",
    "df4h_copy['Voice-F'].sum()\n",
    "\n",
    "df4c=df4[df4.Data_main.str.contains('Voice-Charging-IntermediateInterrogation-Successful')]\n",
    "df4h_cop=df4c[(df4c['day']==15) &  (df4c['month']==3)]\n",
    "df4h_cop=df4h_cop.rename(columns={'Total':'Voice-I'})\n",
    "df4h_cop['Voice-I'].sum()\n",
    "\n",
    "df4d=df4[df4.Data_main.str.contains('Voice-Charging-FinalReport-Successful')]\n",
    "df4h_o=df4d[(df4d['day']==15)& (df4d['month']==3)]\n",
    "df4h_o=df4h_o.rename(columns={'Total':'Voice-FR'})\n",
    "df4h_o['Voice-FR'].sum()\n",
    "\n",
    "##MERGING THE TABLES TO GET THE COMMON DATA\n",
    "df4ac_copy=pd.merge(left=df4h_cop, right=df4h_copy, how='right', left_on='Time', right_on='Time')\n",
    "df4ac_copy=pd.merge(left=df4ac_copy, right=df4h_o, how='left', left_on='Time', right_on='Time')\n",
    "\n",
    "##DELETING NON REQUIRED COLUMNS\n",
    "df4ac_copy.drop(['Data_main_x','Data_main_y','Tot_x','month_x','year_y','Data_main'],axis=1,inplace=True)\n",
    "df4ac_copy.drop(['Tot_y','day_x','month_y','year_x','Tot','day_y'],axis=1,inplace=True)\n",
    "df4ac_copy['Count']=df4ac_copy['Voice-F']+df4ac_copy['Voice-I']+df4ac_copy['Voice-FR']\n",
    "\n",
    "df4ac_copy['Count'].sum()\n"
   ]
  },
  {
   "cell_type": "markdown",
   "metadata": {},
   "source": [
    "sheet 7 df5"
   ]
  },
  {
   "cell_type": "code",
   "execution_count": 150,
   "metadata": {},
   "outputs": [
    {
     "data": {
      "text/plain": [
       "21027680.0"
      ]
     },
     "execution_count": 150,
     "metadata": {},
     "output_type": "execute_result"
    }
   ],
   "source": [
    "df5c_=df5[df5.Data_main.str.contains('Voice-Charging-FirstInterrogation-Successful')]\n",
    "df5q_copy=df5c_[(df5c_['day']==15) &  (df5c_['month']==3)]\n",
    "df5q_copy=df5q_copy.rename(columns={'Total':'Voice-F'})\n",
    "\n",
    "\n",
    "df5c=df5[df5.Data_main.str.contains('Voice-Charging-IntermediateInterrogation-Successful')]\n",
    "df5q_cop=df5c[(df5c['day']==15) &  (df5c['month']==3)]\n",
    "df5q_cop=df5q_cop.rename(columns={'Total':'Voice-I'})\n",
    "\n",
    "df5d=df5[df5.Data_main.str.contains('Voice-Charging-FinalReport-Successful')]\n",
    "df5q_o=df5d[(df5d['day']==15)& (df5d['month']==3)]\n",
    "df5q_o=df5q_o.rename(columns={'Total':'Voice-FR'})\n",
    "\n",
    "##MERGING THE TABLES TO GET THE COMMON DATA\n",
    "df5Dco=pd.merge(left=df5q_cop, right=df5q_copy, how='right', left_on='Time', right_on='Time')\n",
    "df5Dco=pd.merge(left=df5Dco, right=df5q_o, how='left', left_on='Time', right_on='Time')\n",
    "\n",
    "##DELETING NON REQUIRED COLUMNS\n",
    "df5Dco.drop(['Data_main_x','Data_main_y','Tot_x','month_x','year_y','Data_main'],axis=1,inplace=True)\n",
    "df5Dco.drop(['Tot_y','day_x','month_y','year_x','Tot','day_y'],axis=1,inplace=True)\n",
    "df5Dco['Count']=df5Dco['Voice-F']+df5Dco['Voice-I']+df5Dco['Voice-FR']\n",
    "\n",
    "df5Dco['Count'].sum()"
   ]
  },
  {
   "cell_type": "code",
   "execution_count": 151,
   "metadata": {},
   "outputs": [
    {
     "data": {
      "text/plain": [
       "100110784.0"
      ]
     },
     "execution_count": 151,
     "metadata": {},
     "output_type": "execute_result"
    }
   ],
   "source": [
    "df6dfcop=df3Dco['Count'].sum()+df5Dco['Count'].sum()+df1D_c+df4ac_copy['Count'].sum()\n",
    "df6dfcop"
   ]
  },
  {
   "cell_type": "markdown",
   "metadata": {},
   "source": [
    "SMS OPERATION DAY 16"
   ]
  },
  {
   "cell_type": "code",
   "execution_count": 152,
   "metadata": {},
   "outputs": [
    {
     "data": {
      "text/plain": [
       "386597.0"
      ]
     },
     "execution_count": 152,
     "metadata": {},
     "output_type": "execute_result"
    }
   ],
   "source": [
    "df1e_copy=df1[df1.Data_main.str.contains('Messaging-Charging-Originating-Sms')]\n",
    "df1t_copy=df1e_copy[(df1e_copy['day']==16) & (df1e_copy['month']==3)]\n",
    "df1t_copy=df1t_copy.rename(columns={'Total':'SMS'})\n",
    "df1t_copy['SMS'].sum()\n",
    "df3ei_copy=df3[df3.Data_main.str.contains('Messaging-Charging-Originating-Sms')]\n",
    "df3U_c=df3ei_copy[(df3ei_copy['day']==16) & (df3ei_copy['month']==3)]\n",
    "df3U_c=df3U_c.rename(columns={'Total':'SMS'})\n",
    "df3U_c['SMS'].sum()\n",
    "\n",
    "df4e_copy=df4[df4.Data_main.str.contains('Messaging-Charging-Originating-Sms')]\n",
    "df4U_c=df4e_copy[(df4e_copy['day']==16) & (df4e_copy['month']==3)]\n",
    "df4U_c=df4U_c.rename(columns={'Total':'SMS'})\n",
    "df4U_c['SMS'].sum()\n",
    "\n",
    "df5e_copy=df5[df5.Data_main.str.contains('Messaging-Charging-Originating-Sms')]\n",
    "df5U_c=df5e_copy[(df5e_copy['day']==16) & (df5e_copy['month']==3)]\n",
    "df5U_c=df5U_c.rename(columns={'Total':'SMS'})\n",
    "df5U_c['SMS'].sum()"
   ]
  },
  {
   "cell_type": "code",
   "execution_count": 153,
   "metadata": {},
   "outputs": [
    {
     "data": {
      "text/plain": [
       "1941683.0"
      ]
     },
     "execution_count": 153,
     "metadata": {},
     "output_type": "execute_result"
    }
   ],
   "source": [
    "df6dicopy=df1t_copy['SMS'].sum()+df3U_c['SMS'].sum()+df4U_c['SMS'].sum()+df5U_c['SMS'].sum()\n",
    "df6dicopy"
   ]
  },
  {
   "cell_type": "markdown",
   "metadata": {},
   "source": [
    "Voice operation DAY 16"
   ]
  },
  {
   "cell_type": "code",
   "execution_count": 154,
   "metadata": {},
   "outputs": [],
   "source": [
    "df1h=df1[df1.Data_main.str.contains('Voice-Charging-FirstInterrogation-Successful')]\n",
    "df1E_copy=df1h[(df1h['day']==16) & (df1h['month']==3)]\n",
    "df1E_copy=df1E_copy.rename(columns={'Total':'Voice-F'})\n",
    "df1E_copy['Voice-F'].sum()\n",
    "\n",
    "df1c=df1[df1.Data_main.str.contains('Voice-Charging-IntermediateInterrogation-Successful')]\n",
    "df1E_cop=df1c[(df1c['day']==16) &  (df1c['month']==3)]\n",
    "df1E_cop=df1E_cop.rename(columns={'Total':'Voice-I'})\n",
    "df1E_cop['Voice-I'].sum()\n",
    "\n",
    "df1d=df1[df1.Data_main.str.contains('Voice-Charging-FinalReport-Successful')]\n",
    "df1E_o=df1d[(df1d['day']==16)& (df1d['month']==3)]\n",
    "df1E_o=df1E_o.rename(columns={'Total':'Voice-FR'})\n",
    "df1E_o['Voice-FR'].sum()\n",
    "df1E_c=pd.DataFrame()\n",
    "df1E_c=df1E_copy['Voice-F'].sum()+df1E_cop['Voice-I'].sum()+df1E_o['Voice-FR'].sum()"
   ]
  },
  {
   "cell_type": "markdown",
   "metadata": {},
   "source": [
    "sheet 5 df3"
   ]
  },
  {
   "cell_type": "code",
   "execution_count": 155,
   "metadata": {},
   "outputs": [
    {
     "data": {
      "text/plain": [
       "21580085"
      ]
     },
     "execution_count": 155,
     "metadata": {},
     "output_type": "execute_result"
    }
   ],
   "source": [
    "df3a=df3[df3.Data_main.str.contains('Voice-Charging-FirstInterrogation-Successful')]\n",
    "df3r_copy=df3a[(df3a['day']==16) & (df3a['month']==3)]\n",
    "df3r_copy=df3r_copy.rename(columns={'Total':'Voice-F'})\n",
    "df3r_copy\n",
    "\n",
    "df3c=df3[df3.Data_main.str.contains('Voice-Charging-IntermediateInterrogation-Successful')]\n",
    "df3r_cop=df3c[(df3c['day']==16) &  (df3c['month']==3)]\n",
    "df3r_cop=df3r_cop.rename(columns={'Total':'Voice-I'})\n",
    "df3r_cop\n",
    "\n",
    "df3d=df3[df3.Data_main.str.contains('Voice-Charging-FinalReport-Successful')]\n",
    "df3r_o=df3d[(df3d['day']==16)& (df3d['month']==3)]\n",
    "df3r_o=df3r_o.rename(columns={'Total':'Voice-FR'})\n",
    "df3r_o\n",
    "\n",
    "##MERGING THE TABLES TO GET THE COMMON DATA\n",
    "\n",
    "df3Dc=pd.merge(left=df3r_cop, right=df3r_copy, how='right', left_on='Time', right_on='Time')\n",
    "df3Dc=pd.merge(left=df3Dc, right=df3r_o, how='left', left_on='Time', right_on='Time')\n",
    "df3Dc\n",
    "##DELETING NON REQUIRED COLUMNS\n",
    "df3Dc.drop(['Data_main_x','Data_main_y','Tot_x','month','year','Data_main'],axis=1,inplace=True)\n",
    "df3Dc.drop(['Tot_y','day_x','month_x','year_x','Tot','day'],axis=1,inplace=True)\n",
    "df3Dc['Count']=df3Dc['Voice-F']+df3Dc['Voice-I']+df3Dc['Voice-FR']\n",
    "df3Dc['Count'].sum()"
   ]
  },
  {
   "cell_type": "markdown",
   "metadata": {},
   "source": [
    "sheet 6 df4"
   ]
  },
  {
   "cell_type": "code",
   "execution_count": 156,
   "metadata": {},
   "outputs": [
    {
     "data": {
      "text/plain": [
       "59753466.0"
      ]
     },
     "execution_count": 156,
     "metadata": {},
     "output_type": "execute_result"
    }
   ],
   "source": [
    "df4a=df4[df4.Data_main.str.contains('Voice-Charging-FirstInterrogation-Successful')]\n",
    "df4i_copy=df4a[(df4a['day']==16) & (df4a['month']==3)]\n",
    "df4i_copy=df4i_copy.rename(columns={'Total':'Voice-F'})\n",
    "df4i_copy['Voice-F'].sum()\n",
    "\n",
    "df4c=df4[df4.Data_main.str.contains('Voice-Charging-IntermediateInterrogation-Successful')]\n",
    "df4i_cop=df4c[(df4c['day']==16) &  (df4c['month']==3)]\n",
    "df4i_cop=df4i_cop.rename(columns={'Total':'Voice-I'})\n",
    "df4i_cop['Voice-I'].sum()\n",
    "\n",
    "df4d=df4[df4.Data_main.str.contains('Voice-Charging-FinalReport-Successful')]\n",
    "df4i_o=df4d[(df4d['day']==16)& (df4d['month']==3)]\n",
    "df4i_o=df4i_o.rename(columns={'Total':'Voice-FR'})\n",
    "df4i_o['Voice-FR'].sum()\n",
    "\n",
    "##MERGING THE TABLES TO GET THE COMMON DATA\n",
    "df4ac_cop=pd.merge(left=df4i_cop, right=df4i_copy, how='right', left_on='Time', right_on='Time')\n",
    "df4ac_cop=pd.merge(left=df4ac_cop, right=df4i_o, how='left', left_on='Time', right_on='Time')\n",
    "\n",
    "##DELETING NON REQUIRED COLUMNS\n",
    "df4ac_cop.drop(['Data_main_x','Data_main_y','Tot_x','month_x','year_y','Data_main'],axis=1,inplace=True)\n",
    "df4ac_cop.drop(['Tot_y','day_x','month_y','year_x','Tot','day_y'],axis=1,inplace=True)\n",
    "df4ac_cop['Count']=df4ac_cop['Voice-F']+df4ac_cop['Voice-I']+df4ac_cop['Voice-FR']\n",
    "\n",
    "df4ac_cop['Count'].sum()"
   ]
  },
  {
   "cell_type": "markdown",
   "metadata": {},
   "source": [
    "sheet 7 df5"
   ]
  },
  {
   "cell_type": "code",
   "execution_count": 157,
   "metadata": {},
   "outputs": [
    {
     "data": {
      "text/plain": [
       "21571078.0"
      ]
     },
     "execution_count": 157,
     "metadata": {},
     "output_type": "execute_result"
    }
   ],
   "source": [
    "df5c_=df5[df5.Data_main.str.contains('Voice-Charging-FirstInterrogation-Successful')]\n",
    "df5r_copy=df5c_[(df5c_['day']==16) &  (df5c_['month']==3)]\n",
    "df5r_copy=df5r_copy.rename(columns={'Total':'Voice-F'})\n",
    "\n",
    "\n",
    "df5c=df5[df5.Data_main.str.contains('Voice-Charging-IntermediateInterrogation-Successful')]\n",
    "df5r_cop=df5c[(df5c['day']==16) &  (df5c['month']==3)]\n",
    "df5r_cop=df5r_cop.rename(columns={'Total':'Voice-I'})\n",
    "\n",
    "df5d=df5[df5.Data_main.str.contains('Voice-Charging-FinalReport-Successful')]\n",
    "df5r_o=df5d[(df5d['day']==16)& (df5d['month']==3)]\n",
    "df5r_o=df5r_o.rename(columns={'Total':'Voice-FR'})\n",
    "\n",
    "##MERGING THE TABLES TO GET THE COMMON DATA\n",
    "df5Dc=pd.merge(left=df5r_cop, right=df5r_copy, how='right', left_on='Time', right_on='Time')\n",
    "df5Dc=pd.merge(left=df5Dc, right=df5r_o, how='left', left_on='Time', right_on='Time')\n",
    "\n",
    "##DELETING NON REQUIRED COLUMNS\n",
    "df5Dc.drop(['Data_main_x','Data_main_y','Tot_x','month_x','year_y','Data_main'],axis=1,inplace=True)\n",
    "df5Dc.drop(['Tot_y','day_x','month_y','year_x','Tot','day_y'],axis=1,inplace=True)\n",
    "df5Dc['Count']=df5Dc['Voice-F']+df5Dc['Voice-I']+df5Dc['Voice-FR']\n",
    "\n",
    "df5Dc['Count'].sum()"
   ]
  },
  {
   "cell_type": "code",
   "execution_count": 158,
   "metadata": {},
   "outputs": [
    {
     "data": {
      "text/plain": [
       "102988202.0"
      ]
     },
     "execution_count": 158,
     "metadata": {},
     "output_type": "execute_result"
    }
   ],
   "source": [
    "df6dfco=df3Dc['Count'].sum()+df5Dc['Count'].sum()+df1E_c+df4ac_cop['Count'].sum()\n",
    "df6dfco"
   ]
  },
  {
   "cell_type": "markdown",
   "metadata": {},
   "source": [
    "SMS CHARGING FOR DAY 17"
   ]
  },
  {
   "cell_type": "code",
   "execution_count": 159,
   "metadata": {},
   "outputs": [
    {
     "data": {
      "text/plain": [
       "385774.0"
      ]
     },
     "execution_count": 159,
     "metadata": {},
     "output_type": "execute_result"
    }
   ],
   "source": [
    "df1e_copy=df1[df1.Data_main.str.contains('Messaging-Charging-Originating-Sms')]\n",
    "df1t_cop=df1e_copy[(df1e_copy['day']==17) & (df1e_copy['month']==3)]\n",
    "df1t_cop=df1t_cop.rename(columns={'Total':'SMS'})\n",
    "df1t_cop['SMS'].sum()\n",
    "\n",
    "df3ei_copy=df3[df3.Data_main.str.contains('Messaging-Charging-Originating-Sms')]\n",
    "df3V_copy=df3ei_copy[(df3ei_copy['day']==17) & (df3ei_copy['month']==3)]\n",
    "df3V_copy=df3V_copy.rename(columns={'Total':'SMS'})\n",
    "df3V_copy['SMS'].sum()\n",
    "\n",
    "df4e_copy=df4[df4.Data_main.str.contains('Messaging-Charging-Originating-Sms')]\n",
    "df4V_copy=df4e_copy[(df4e_copy['day']==17) & (df4e_copy['month']==3)]\n",
    "df4V_copy=df4V_copy.rename(columns={'Total':'SMS'})\n",
    "df4V_copy['SMS'].sum()\n",
    "\n",
    "df5e_copy=df5[df5.Data_main.str.contains('Messaging-Charging-Originating-Sms')]\n",
    "df5V_copy=df5e_copy[(df5e_copy['day']==17) & (df5e_copy['month']==3)]\n",
    "df5V_copy=df5V_copy.rename(columns={'Total':'SMS'})\n",
    "df5V_copy['SMS'].sum()"
   ]
  },
  {
   "cell_type": "code",
   "execution_count": 160,
   "metadata": {},
   "outputs": [
    {
     "data": {
      "text/plain": [
       "1947012.0"
      ]
     },
     "execution_count": 160,
     "metadata": {},
     "output_type": "execute_result"
    }
   ],
   "source": [
    "df6dicop=df1t_cop['SMS'].sum()+df3V_copy['SMS'].sum()+df4V_copy['SMS'].sum()+df5V_copy['SMS'].sum()\n",
    "df6dicop"
   ]
  },
  {
   "cell_type": "markdown",
   "metadata": {},
   "source": [
    "Voice operation of day 17"
   ]
  },
  {
   "cell_type": "code",
   "execution_count": 161,
   "metadata": {},
   "outputs": [],
   "source": [
    "df1h=df1[df1.Data_main.str.contains('Voice-Charging-FirstInterrogation-Successful')]\n",
    "df1H_copy=df1h[(df1h['day']==17) & (df1h['month']==3)]\n",
    "df1H_copy=df1H_copy.rename(columns={'Total':'Voice-F'})\n",
    "df1H_copy['Voice-F'].sum()\n",
    "\n",
    "df1c=df1[df1.Data_main.str.contains('Voice-Charging-IntermediateInterrogation-Successful')]\n",
    "df1H_cop=df1c[(df1c['day']==17) &  (df1c['month']==3)]\n",
    "df1H_cop=df1H_cop.rename(columns={'Total':'Voice-I'})\n",
    "df1H_cop['Voice-I'].sum()\n",
    "\n",
    "df1d=df1[df1.Data_main.str.contains('Voice-Charging-FinalReport-Successful')]\n",
    "df1H_o=df1d[(df1d['day']==17)& (df1d['month']==3)]\n",
    "df1H_o=df1H_o.rename(columns={'Total':'Voice-FR'})\n",
    "df1H_o['Voice-FR'].sum()\n",
    "df1H_c=pd.DataFrame()\n",
    "df1H_c=df1H_copy['Voice-F'].sum()+df1H_cop['Voice-I'].sum()+df1H_o['Voice-FR'].sum()"
   ]
  },
  {
   "cell_type": "markdown",
   "metadata": {},
   "source": [
    "sheet 5 df3"
   ]
  },
  {
   "cell_type": "code",
   "execution_count": 162,
   "metadata": {},
   "outputs": [
    {
     "data": {
      "text/plain": [
       "20750138"
      ]
     },
     "execution_count": 162,
     "metadata": {},
     "output_type": "execute_result"
    }
   ],
   "source": [
    "df3a=df3[df3.Data_main.str.contains('Voice-Charging-FirstInterrogation-Successful')]\n",
    "df3s_copy=df3a[(df3a['day']==17) & (df3a['month']==3)]\n",
    "df3s_copy=df3s_copy.rename(columns={'Total':'Voice-F'})\n",
    "df3s_copy\n",
    "\n",
    "df3c=df3[df3.Data_main.str.contains('Voice-Charging-IntermediateInterrogation-Successful')]\n",
    "df3s_cop=df3c[(df3c['day']==17) &  (df3c['month']==3)]\n",
    "df3s_cop=df3s_cop.rename(columns={'Total':'Voice-I'})\n",
    "df3s_cop\n",
    "\n",
    "df3d=df3[df3.Data_main.str.contains('Voice-Charging-FinalReport-Successful')]\n",
    "df3s_o=df3d[(df3d['day']==17)& (df3d['month']==3)]\n",
    "df3s_o=df3s_o.rename(columns={'Total':'Voice-FR'})\n",
    "df3s_o\n",
    "\n",
    "##MERGING THE TABLES TO GET THE COMMON DATA\n",
    "\n",
    "df3Decopy=pd.merge(left=df3s_cop, right=df3s_copy, how='right', left_on='Time', right_on='Time')\n",
    "df3Decopy=pd.merge(left=df3Decopy, right=df3s_o, how='left', left_on='Time', right_on='Time')\n",
    "df3Decopy\n",
    "##DELETING NON REQUIRED COLUMNS\n",
    "df3Decopy.drop(['Data_main_x','Data_main_y','Tot_x','month','year','Data_main'],axis=1,inplace=True)\n",
    "df3Decopy.drop(['Tot_y','day_x','month_x','year_x','Tot','day'],axis=1,inplace=True)\n",
    "df3Decopy['Count']=df3Decopy['Voice-F']+df3Decopy['Voice-I']+df3Decopy['Voice-FR']\n",
    "df3Decopy['Count'].sum()"
   ]
  },
  {
   "cell_type": "markdown",
   "metadata": {},
   "source": [
    "sheet 6 df4"
   ]
  },
  {
   "cell_type": "code",
   "execution_count": 163,
   "metadata": {},
   "outputs": [
    {
     "data": {
      "text/plain": [
       "28791492.0"
      ]
     },
     "execution_count": 163,
     "metadata": {},
     "output_type": "execute_result"
    }
   ],
   "source": [
    "df4a=df4[df4.Data_main.str.contains('Voice-Charging-FirstInterrogation-Successful')]\n",
    "df4j_copy=df4a[(df4a['day']==17) & (df4a['month']==3)]\n",
    "df4j_copy=df4j_copy.rename(columns={'Total':'Voice-F'})\n",
    "df4j_copy['Voice-F'].sum()\n",
    "\n",
    "df4c=df4[df4.Data_main.str.contains('Voice-Charging-IntermediateInterrogation-Successful')]\n",
    "df4j_cop=df4c[(df4c['day']==17) &  (df4c['month']==3)]\n",
    "df4j_cop=df4j_cop.rename(columns={'Total':'Voice-I'})\n",
    "df4j_cop['Voice-I'].sum()\n",
    "\n",
    "df4d=df4[df4.Data_main.str.contains('Voice-Charging-FinalReport-Successful')]\n",
    "df4j_o=df4d[(df4d['day']==17)& (df4d['month']==3)]\n",
    "df4j_o=df4j_o.rename(columns={'Total':'Voice-FR'})\n",
    "df4j_o['Voice-FR'].sum()\n",
    "\n",
    "##MERGING THE TABLES TO GET THE COMMON DATA\n",
    "df4ac_co=pd.merge(left=df4j_cop, right=df4j_copy, how='right', left_on='Time', right_on='Time')\n",
    "df4ac_co=pd.merge(left=df4ac_co, right=df4j_o, how='left', left_on='Time', right_on='Time')\n",
    "\n",
    "##DELETING NON REQUIRED COLUMNS\n",
    "df4ac_co.drop(['Data_main_x','Data_main_y','Tot_x','month_x','year_y','Data_main'],axis=1,inplace=True)\n",
    "df4ac_co.drop(['Tot_y','day_x','month_y','year_x','Tot','day_y'],axis=1,inplace=True)\n",
    "df4ac_co['Count']=df4ac_co['Voice-F']+df4ac_co['Voice-I']+df4ac_co['Voice-FR']\n",
    "\n",
    "df4ac_co['Count'].sum()"
   ]
  },
  {
   "cell_type": "markdown",
   "metadata": {},
   "source": [
    "sheet 7 df5"
   ]
  },
  {
   "cell_type": "code",
   "execution_count": 164,
   "metadata": {},
   "outputs": [
    {
     "data": {
      "text/plain": [
       "20728724.0"
      ]
     },
     "execution_count": 164,
     "metadata": {},
     "output_type": "execute_result"
    }
   ],
   "source": [
    "df5c_=df5[df5.Data_main.str.contains('Voice-Charging-FirstInterrogation-Successful')]\n",
    "df5s_copy=df5c_[(df5c_['day']==17) &  (df5c_['month']==3)]\n",
    "df5s_copy=df5s_copy.rename(columns={'Total':'Voice-F'})\n",
    "\n",
    "\n",
    "df5c=df5[df5.Data_main.str.contains('Voice-Charging-IntermediateInterrogation-Successful')]\n",
    "df5s_cop=df5c[(df5c['day']==17) &  (df5c['month']==3)]\n",
    "df5s_cop=df5s_cop.rename(columns={'Total':'Voice-I'})\n",
    "\n",
    "df5d=df5[df5.Data_main.str.contains('Voice-Charging-FinalReport-Successful')]\n",
    "df5s_o=df5d[(df5d['day']==17)& (df5d['month']==3)]\n",
    "df5s_o=df5s_o.rename(columns={'Total':'Voice-FR'})\n",
    "\n",
    "##MERGING THE TABLES TO GET THE COMMON DATA\n",
    "df5Decopy=pd.merge(left=df5s_cop, right=df5s_copy, how='right', left_on='Time', right_on='Time')\n",
    "df5Decopy=pd.merge(left=df5Decopy, right=df5s_o, how='left', left_on='Time', right_on='Time')\n",
    "\n",
    "##DELETING NON REQUIRED COLUMNS\n",
    "df5Decopy.drop(['Data_main_x','Data_main_y','Tot_x','month_x','year_y','Data_main'],axis=1,inplace=True)\n",
    "df5Decopy.drop(['Tot_y','day_x','month_y','year_x','Tot','day_y'],axis=1,inplace=True)\n",
    "df5Decopy['Count']=df5Decopy['Voice-F']+df5Decopy['Voice-I']+df5Decopy['Voice-FR']\n",
    "\n",
    "df5Decopy['Count'].sum()"
   ]
  },
  {
   "cell_type": "code",
   "execution_count": 165,
   "metadata": {},
   "outputs": [
    {
     "data": {
      "text/plain": [
       "98994810.0"
      ]
     },
     "execution_count": 165,
     "metadata": {},
     "output_type": "execute_result"
    }
   ],
   "source": [
    "df6dfc=df3Decopy['Count'].sum()+df5Decopy['Count'].sum()+df1H_c+df4ac_co['Count'].sum()\n",
    "df6dfc"
   ]
  },
  {
   "cell_type": "markdown",
   "metadata": {},
   "source": [
    "SMS CHARGING FOR DAY 18\n"
   ]
  },
  {
   "cell_type": "code",
   "execution_count": 166,
   "metadata": {},
   "outputs": [
    {
     "data": {
      "text/plain": [
       "388923.0"
      ]
     },
     "execution_count": 166,
     "metadata": {},
     "output_type": "execute_result"
    }
   ],
   "source": [
    "df1e_copy=df1[df1.Data_main.str.contains('Messaging-Charging-Originating-Sms')]\n",
    "df1t_co=df1e_copy[(df1e_copy['day']==18) & (df1e_copy['month']==3)]\n",
    "df1t_co=df1t_co.rename(columns={'Total':'SMS'})\n",
    "df1t_co['SMS'].sum()\n",
    "\n",
    "df3ei_copy=df3[df3.Data_main.str.contains('Messaging-Charging-Originating-Sms')]\n",
    "df3V_cop=df3ei_copy[(df3ei_copy['day']==18) & (df3ei_copy['month']==3)]\n",
    "df3V_cop=df3V_cop.rename(columns={'Total':'SMS'})\n",
    "df3V_cop['SMS'].sum()\n",
    "\n",
    "df4e_copy=df4[df4.Data_main.str.contains('Messaging-Charging-Originating-Sms')]\n",
    "df4V_cop=df4e_copy[(df4e_copy['day']==18) & (df4e_copy['month']==3)]\n",
    "df4V_cop=df4V_cop.rename(columns={'Total':'SMS'})\n",
    "df4V_cop['SMS'].sum()\n",
    "\n",
    "df5e_copy=df5[df5.Data_main.str.contains('Messaging-Charging-Originating-Sms')]\n",
    "df5V_cop=df5e_copy[(df5e_copy['day']==18) & (df5e_copy['month']==3)]\n",
    "df5V_cop=df5V_cop.rename(columns={'Total':'SMS'})\n",
    "df5V_cop['SMS'].sum()"
   ]
  },
  {
   "cell_type": "code",
   "execution_count": 167,
   "metadata": {},
   "outputs": [
    {
     "data": {
      "text/plain": [
       "1936266.0"
      ]
     },
     "execution_count": 167,
     "metadata": {},
     "output_type": "execute_result"
    }
   ],
   "source": [
    "df6dico=df1t_co['SMS'].sum()+df3V_cop['SMS'].sum()+df4V_cop['SMS'].sum()+df5V_cop['SMS'].sum()\n",
    "df6dico"
   ]
  },
  {
   "cell_type": "markdown",
   "metadata": {},
   "source": [
    "VOICE CHARGING OF DAY 18"
   ]
  },
  {
   "cell_type": "code",
   "execution_count": 168,
   "metadata": {},
   "outputs": [],
   "source": [
    "df1h=df1[df1.Data_main.str.contains('Voice-Charging-FirstInterrogation-Successful')]\n",
    "df1I_copy=df1h[(df1h['day']==18) & (df1h['month']==3)]\n",
    "df1I_copy=df1I_copy.rename(columns={'Total':'Voice-F'})\n",
    "df1I_copy['Voice-F'].sum()\n",
    "\n",
    "df1c=df1[df1.Data_main.str.contains('Voice-Charging-IntermediateInterrogation-Successful')]\n",
    "df1I_cop=df1c[(df1c['day']==18) &  (df1c['month']==3)]\n",
    "df1I_cop=df1I_cop.rename(columns={'Total':'Voice-I'})\n",
    "df1I_cop['Voice-I'].sum()\n",
    "\n",
    "df1d=df1[df1.Data_main.str.contains('Voice-Charging-FinalReport-Successful')]\n",
    "df1I_o=df1d[(df1d['day']==18)& (df1d['month']==3)]\n",
    "df1I_o=df1I_o.rename(columns={'Total':'Voice-FR'})\n",
    "df1I_o['Voice-FR'].sum()\n",
    "df1I_c=pd.DataFrame()\n",
    "df1I_c=df1I_copy['Voice-F'].sum()+df1I_cop['Voice-I'].sum()+df1I_o['Voice-FR'].sum()"
   ]
  },
  {
   "cell_type": "markdown",
   "metadata": {},
   "source": [
    "sheet 5 df3"
   ]
  },
  {
   "cell_type": "code",
   "execution_count": 169,
   "metadata": {},
   "outputs": [
    {
     "data": {
      "text/plain": [
       "20824486"
      ]
     },
     "execution_count": 169,
     "metadata": {},
     "output_type": "execute_result"
    }
   ],
   "source": [
    "df3a=df3[df3.Data_main.str.contains('Voice-Charging-FirstInterrogation-Successful')]\n",
    "df3t_copy=df3a[(df3a['day']==18) & (df3a['month']==3)]\n",
    "df3t_copy=df3t_copy.rename(columns={'Total':'Voice-F'})\n",
    "df3t_copy\n",
    "\n",
    "df3c=df3[df3.Data_main.str.contains('Voice-Charging-IntermediateInterrogation-Successful')]\n",
    "df3t_cop=df3c[(df3c['day']==18) &  (df3c['month']==3)]\n",
    "df3t_cop=df3t_cop.rename(columns={'Total':'Voice-I'})\n",
    "df3t_cop\n",
    "\n",
    "df3d=df3[df3.Data_main.str.contains('Voice-Charging-FinalReport-Successful')]\n",
    "df3t_o=df3d[(df3d['day']==18)& (df3d['month']==3)]\n",
    "df3t_o=df3t_o.rename(columns={'Total':'Voice-FR'})\n",
    "df3t_o\n",
    "\n",
    "##MERGING THE TABLES TO GET THE COMMON DATA\n",
    "\n",
    "df3Decop=pd.merge(left=df3t_cop, right=df3t_copy, how='right', left_on='Time', right_on='Time')\n",
    "df3Decop=pd.merge(left=df3Decop, right=df3t_o, how='left', left_on='Time', right_on='Time')\n",
    "df3Decop\n",
    "##DELETING NON REQUIRED COLUMNS\n",
    "df3Decop.drop(['Data_main_x','Data_main_y','Tot_x','month','year','Data_main'],axis=1,inplace=True)\n",
    "df3Decop.drop(['Tot_y','day_x','month_x','year_x','Tot','day'],axis=1,inplace=True)\n",
    "df3Decop['Count']=df3Decop['Voice-F']+df3Decop['Voice-I']+df3Decop['Voice-FR']\n",
    "df3Decop['Count'].sum()"
   ]
  },
  {
   "cell_type": "markdown",
   "metadata": {},
   "source": [
    "sheet 6 df4"
   ]
  },
  {
   "cell_type": "code",
   "execution_count": 170,
   "metadata": {},
   "outputs": [
    {
     "data": {
      "text/plain": [
       "28807412.0"
      ]
     },
     "execution_count": 170,
     "metadata": {},
     "output_type": "execute_result"
    }
   ],
   "source": [
    "df4a=df4[df4.Data_main.str.contains('Voice-Charging-FirstInterrogation-Successful')]\n",
    "df4k_copy=df4a[(df4a['day']==18) & (df4a['month']==3)]\n",
    "df4k_copy=df4k_copy.rename(columns={'Total':'Voice-F'})\n",
    "df4k_copy['Voice-F'].sum()\n",
    "\n",
    "df4c=df4[df4.Data_main.str.contains('Voice-Charging-IntermediateInterrogation-Successful')]\n",
    "df4k_cop=df4c[(df4c['day']==18) &  (df4c['month']==3)]\n",
    "df4k_cop=df4k_cop.rename(columns={'Total':'Voice-I'})\n",
    "df4k_cop['Voice-I'].sum()\n",
    "\n",
    "df4d=df4[df4.Data_main.str.contains('Voice-Charging-FinalReport-Successful')]\n",
    "df4k_o=df4d[(df4d['day']==18)& (df4d['month']==3)]\n",
    "df4k_o=df4k_o.rename(columns={'Total':'Voice-FR'})\n",
    "df4k_o['Voice-FR'].sum()\n",
    "##MERGING THE TABLES TO GET THE COMMON DATA\n",
    "df4ac_c=pd.merge(left=df4k_cop, right=df4k_copy, how='right', left_on='Time', right_on='Time')\n",
    "df4ac_c=pd.merge(left=df4ac_c, right=df4k_o, how='left', left_on='Time', right_on='Time')\n",
    "\n",
    "##DELETING NON REQUIRED COLUMNS\n",
    "df4ac_c.drop(['Data_main_x','Data_main_y','Tot_x','month_x','year_y','Data_main'],axis=1,inplace=True)\n",
    "df4ac_c.drop(['Tot_y','day_x','month_y','year_x','Tot','day_y'],axis=1,inplace=True)\n",
    "df4ac_c['Count']=df4ac_c['Voice-F']+df4ac_c['Voice-I']+df4ac_c['Voice-FR']\n",
    "\n",
    "df4ac_c['Count'].sum()"
   ]
  },
  {
   "cell_type": "markdown",
   "metadata": {},
   "source": [
    "sheet 7 df5"
   ]
  },
  {
   "cell_type": "code",
   "execution_count": 171,
   "metadata": {},
   "outputs": [
    {
     "data": {
      "text/plain": [
       "20817673.0"
      ]
     },
     "execution_count": 171,
     "metadata": {},
     "output_type": "execute_result"
    }
   ],
   "source": [
    "df5c_=df5[df5.Data_main.str.contains('Voice-Charging-FirstInterrogation-Successful')]\n",
    "df5t_copy=df5c_[(df5c_['day']==18) &  (df5c_['month']==3)]\n",
    "df5t_copy=df5t_copy.rename(columns={'Total':'Voice-F'})\n",
    "\n",
    "\n",
    "df5c=df5[df5.Data_main.str.contains('Voice-Charging-IntermediateInterrogation-Successful')]\n",
    "df5t_cop=df5c[(df5c['day']==18) &  (df5c['month']==3)]\n",
    "df5t_cop=df5t_cop.rename(columns={'Total':'Voice-I'})\n",
    "\n",
    "df5d=df5[df5.Data_main.str.contains('Voice-Charging-FinalReport-Successful')]\n",
    "df5t_o=df5d[(df5d['day']==18)& (df5d['month']==3)]\n",
    "df5t_o=df5t_o.rename(columns={'Total':'Voice-FR'})\n",
    "\n",
    "##MERGING THE TABLES TO GET THE COMMON DATA\n",
    "df5Decop=pd.merge(left=df5t_cop, right=df5t_copy, how='right', left_on='Time', right_on='Time')\n",
    "df5Decop=pd.merge(left=df5Decop, right=df5t_o, how='left', left_on='Time', right_on='Time')\n",
    "\n",
    "##DELETING NON REQUIRED COLUMNS\n",
    "df5Decop.drop(['Data_main_x','Data_main_y','Tot_x','month_x','year_y','Data_main'],axis=1,inplace=True)\n",
    "df5Decop.drop(['Tot_y','day_x','month_y','year_x','Tot','day_y'],axis=1,inplace=True)\n",
    "df5Decop['Count']=df5Decop['Voice-F']+df5Decop['Voice-I']+df5Decop['Voice-FR']\n",
    "\n",
    "df5Decop['Count'].sum()"
   ]
  },
  {
   "cell_type": "code",
   "execution_count": 172,
   "metadata": {},
   "outputs": [
    {
     "data": {
      "text/plain": [
       "99238172.0"
      ]
     },
     "execution_count": 172,
     "metadata": {},
     "output_type": "execute_result"
    }
   ],
   "source": [
    "df6dgcopy=df3Decop['Count'].sum()+df5Decop['Count'].sum()+df1I_c+df4ac_c['Count'].sum()\n",
    "df6dgcopy"
   ]
  },
  {
   "cell_type": "markdown",
   "metadata": {},
   "source": [
    "SMS CHARGING FOR DAY 19\n",
    "\n"
   ]
  },
  {
   "cell_type": "code",
   "execution_count": 173,
   "metadata": {},
   "outputs": [
    {
     "data": {
      "text/plain": [
       "360054.0"
      ]
     },
     "execution_count": 173,
     "metadata": {},
     "output_type": "execute_result"
    }
   ],
   "source": [
    "df1e_copy=df1[df1.Data_main.str.contains('Messaging-Charging-Originating-Sms')]\n",
    "df1t_c=df1e_copy[(df1e_copy['day']==19) & (df1e_copy['month']==3)]\n",
    "df1t_c=df1t_c.rename(columns={'Total':'SMS'})\n",
    "df1t_c['SMS'].sum()\n",
    "\n",
    "df3ei_copy=df3[df3.Data_main.str.contains('Messaging-Charging-Originating-Sms')]\n",
    "df3V_co=df3ei_copy[(df3ei_copy['day']==19) & (df3ei_copy['month']==3)]\n",
    "df3V_co=df3V_co.rename(columns={'Total':'SMS'})\n",
    "df3V_co['SMS'].sum()\n",
    "\n",
    "df4e_copy=df4[df4.Data_main.str.contains('Messaging-Charging-Originating-Sms')]\n",
    "df4V_co=df4e_copy[(df4e_copy['day']==19) & (df4e_copy['month']==3)]\n",
    "df4V_co=df4V_co.rename(columns={'Total':'SMS'})\n",
    "df4V_co['SMS'].sum()\n",
    "\n",
    "df5e_copy=df5[df5.Data_main.str.contains('Messaging-Charging-Originating-Sms')]\n",
    "df5V_co=df5e_copy[(df5e_copy['day']==19) & (df5e_copy['month']==3)]\n",
    "df5V_co=df5V_co.rename(columns={'Total':'SMS'})\n",
    "df5V_co['SMS'].sum()"
   ]
  },
  {
   "cell_type": "code",
   "execution_count": 174,
   "metadata": {},
   "outputs": [
    {
     "data": {
      "text/plain": [
       "1818385.0"
      ]
     },
     "execution_count": 174,
     "metadata": {},
     "output_type": "execute_result"
    }
   ],
   "source": [
    "df6dic=df1t_c['SMS'].sum()+df3V_co['SMS'].sum()+df4V_co['SMS'].sum()+df5V_co['SMS'].sum()\n",
    "df6dic"
   ]
  },
  {
   "cell_type": "markdown",
   "metadata": {},
   "source": [
    "VOICE CHARGING DAY 19"
   ]
  },
  {
   "cell_type": "code",
   "execution_count": 175,
   "metadata": {},
   "outputs": [],
   "source": [
    "df1h=df1[df1.Data_main.str.contains('Voice-Charging-FirstInterrogation-Successful')]\n",
    "df1J_copy=df1h[(df1h['day']==19) & (df1h['month']==3)]\n",
    "df1J_copy=df1J_copy.rename(columns={'Total':'Voice-F'})\n",
    "df1J_copy['Voice-F'].sum()\n",
    "\n",
    "df1c=df1[df1.Data_main.str.contains('Voice-Charging-IntermediateInterrogation-Successful')]\n",
    "df1J_cop=df1c[(df1c['day']==19) &  (df1c['month']==3)]\n",
    "df1J_cop=df1J_cop.rename(columns={'Total':'Voice-I'})\n",
    "df1J_cop['Voice-I'].sum()\n",
    "\n",
    "df1J=df1[df1.Data_main.str.contains('Voice-Charging-FinalReport-Successful')]\n",
    "df1J_o=df1d[(df1d['day']==19)& (df1d['month']==3)]\n",
    "df1J_o=df1J_o.rename(columns={'Total':'Voice-FR'})\n",
    "df1J_o['Voice-FR'].sum()\n",
    "df1J_c=pd.DataFrame()\n",
    "df1J_c=df1J_copy['Voice-F'].sum()+df1J_cop['Voice-I'].sum()+df1J_o['Voice-FR'].sum()"
   ]
  },
  {
   "cell_type": "markdown",
   "metadata": {},
   "source": [
    "sheet 5 df3"
   ]
  },
  {
   "cell_type": "code",
   "execution_count": 176,
   "metadata": {},
   "outputs": [
    {
     "data": {
      "text/plain": [
       "21338972"
      ]
     },
     "execution_count": 176,
     "metadata": {},
     "output_type": "execute_result"
    }
   ],
   "source": [
    "df3a=df3[df3.Data_main.str.contains('Voice-Charging-FirstInterrogation-Successful')]\n",
    "df3u_copy=df3a[(df3a['day']==19) & (df3a['month']==3)]\n",
    "df3u_copy=df3u_copy.rename(columns={'Total':'Voice-F'})\n",
    "df3u_copy\n",
    "\n",
    "df3c=df3[df3.Data_main.str.contains('Voice-Charging-IntermediateInterrogation-Successful')]\n",
    "df3u_cop=df3c[(df3c['day']==19) &  (df3c['month']==3)]\n",
    "df3u_cop=df3u_cop.rename(columns={'Total':'Voice-I'})\n",
    "df3u_cop\n",
    "\n",
    "df3d=df3[df3.Data_main.str.contains('Voice-Charging-FinalReport-Successful')]\n",
    "df3u_o=df3d[(df3d['day']==19)& (df3d['month']==3)]\n",
    "df3u_o=df3u_o.rename(columns={'Total':'Voice-FR'})\n",
    "df3u_o\n",
    "\n",
    "##MERGING THE TABLES TO GET THE COMMON DATA\n",
    "\n",
    "df3Deco=pd.merge(left=df3u_cop, right=df3u_copy, how='right', left_on='Time', right_on='Time')\n",
    "df3Deco=pd.merge(left=df3Deco, right=df3u_o, how='left', left_on='Time', right_on='Time')\n",
    "df3Deco\n",
    "##DELETING NON REQUIRED COLUMNS\n",
    "df3Deco.drop(['Data_main_x','Data_main_y','Tot_x','month','year','Data_main'],axis=1,inplace=True)\n",
    "df3Deco.drop(['Tot_y','day_x','month_x','year_x','Tot','day'],axis=1,inplace=True)\n",
    "df3Deco['Count']=df3Deco['Voice-F']+df3Deco['Voice-I']+df3Deco['Voice-FR']\n",
    "df3Deco['Count'].sum()"
   ]
  },
  {
   "cell_type": "markdown",
   "metadata": {},
   "source": [
    "sheet 6 df4"
   ]
  },
  {
   "cell_type": "code",
   "execution_count": 177,
   "metadata": {},
   "outputs": [
    {
     "data": {
      "text/plain": [
       "29194143.0"
      ]
     },
     "execution_count": 177,
     "metadata": {},
     "output_type": "execute_result"
    }
   ],
   "source": [
    "df4a=df4[df4.Data_main.str.contains('Voice-Charging-FirstInterrogation-Successful')]\n",
    "df4l_copy=df4a[(df4a['day']==19) & (df4a['month']==3)]\n",
    "df4l_copy=df4l_copy.rename(columns={'Total':'Voice-F'})\n",
    "df4l_copy['Voice-F'].sum()\n",
    "\n",
    "df4c=df4[df4.Data_main.str.contains('Voice-Charging-IntermediateInterrogation-Successful')]\n",
    "df4l_cop=df4c[(df4c['day']==19) &  (df4c['month']==3)]\n",
    "df4l_cop=df4l_cop.rename(columns={'Total':'Voice-I'})\n",
    "df4l_cop['Voice-I'].sum()\n",
    "\n",
    "df4d=df4[df4.Data_main.str.contains('Voice-Charging-FinalReport-Successful')]\n",
    "df4l_o=df4d[(df4d['day']==19)& (df4d['month']==3)]\n",
    "df4l_o=df4l_o.rename(columns={'Total':'Voice-FR'})\n",
    "df4l_o['Voice-FR'].sum()\n",
    "##MERGING THE TABLES TO GET THE COMMON DATA\n",
    "df4ac_=pd.merge(left=df4l_cop, right=df4l_copy, how='right', left_on='Time', right_on='Time')\n",
    "df4ac_=pd.merge(left=df4ac_, right=df4l_o, how='left', left_on='Time', right_on='Time')\n",
    "\n",
    "##DELETING NON REQUIRED COLUMNS\n",
    "df4ac_.drop(['Data_main_x','Data_main_y','Tot_x','month_x','year_y','Data_main'],axis=1,inplace=True)\n",
    "df4ac_.drop(['Tot_y','day_x','month_y','year_x','Tot','day_y'],axis=1,inplace=True)\n",
    "df4ac_['Count']=df4ac_['Voice-F']+df4ac_['Voice-I']+df4ac_['Voice-FR']\n",
    "\n",
    "df4ac_['Count'].sum()"
   ]
  },
  {
   "cell_type": "markdown",
   "metadata": {},
   "source": [
    "sheet 7 df5"
   ]
  },
  {
   "cell_type": "code",
   "execution_count": 178,
   "metadata": {},
   "outputs": [
    {
     "data": {
      "text/plain": [
       "21334423.0"
      ]
     },
     "execution_count": 178,
     "metadata": {},
     "output_type": "execute_result"
    }
   ],
   "source": [
    "df5c_=df5[df5.Data_main.str.contains('Voice-Charging-FirstInterrogation-Successful')]\n",
    "df5u_copy=df5c_[(df5c_['day']==19) &  (df5c_['month']==3)]\n",
    "df5u_copy=df5u_copy.rename(columns={'Total':'Voice-F'})\n",
    "\n",
    "\n",
    "df5c=df5[df5.Data_main.str.contains('Voice-Charging-IntermediateInterrogation-Successful')]\n",
    "df5u_cop=df5c[(df5c['day']==19) &  (df5c['month']==3)]\n",
    "df5u_cop=df5u_cop.rename(columns={'Total':'Voice-I'})\n",
    "\n",
    "df5d=df5[df5.Data_main.str.contains('Voice-Charging-FinalReport-Successful')]\n",
    "df5u_o=df5d[(df5d['day']==19)& (df5d['month']==3)]\n",
    "df5u_o=df5u_o.rename(columns={'Total':'Voice-FR'})\n",
    "\n",
    "##MERGING THE TABLES TO GET THE COMMON DATA\n",
    "df5Deco=pd.merge(left=df5u_cop, right=df5u_copy, how='right', left_on='Time', right_on='Time')\n",
    "df5Deco=pd.merge(left=df5Deco, right=df5u_o, how='left', left_on='Time', right_on='Time')\n",
    "\n",
    "##DELETING NON REQUIRED COLUMNS\n",
    "df5Deco.drop(['Data_main_x','Data_main_y','Tot_x','month_x','year_y','Data_main'],axis=1,inplace=True)\n",
    "df5Deco.drop(['Tot_y','day_x','month_y','year_x','Tot','day_y'],axis=1,inplace=True)\n",
    "df5Deco['Count']=df5Deco['Voice-F']+df5Deco['Voice-I']+df5Deco['Voice-FR']\n",
    "\n",
    "df5Deco['Count'].sum()"
   ]
  },
  {
   "cell_type": "code",
   "execution_count": 179,
   "metadata": {},
   "outputs": [
    {
     "data": {
      "text/plain": [
       "100665013.0"
      ]
     },
     "execution_count": 179,
     "metadata": {},
     "output_type": "execute_result"
    }
   ],
   "source": [
    "df6dgcop=df3Deco['Count'].sum()+df5Deco['Count'].sum()+df1J_c+df4ac_c['Count'].sum()\n",
    "df6dgcop"
   ]
  },
  {
   "cell_type": "markdown",
   "metadata": {},
   "source": [
    "SMS CHARGING FOR DAY 20\n",
    "\n"
   ]
  },
  {
   "cell_type": "code",
   "execution_count": 180,
   "metadata": {},
   "outputs": [
    {
     "data": {
      "text/plain": [
       "402788.0"
      ]
     },
     "execution_count": 180,
     "metadata": {},
     "output_type": "execute_result"
    }
   ],
   "source": [
    "df1e_copy=df1[df1.Data_main.str.contains('Messaging-Charging-Originating-Sms')]\n",
    "df1ai_copy=df1e_copy[(df1e_copy['day']==20) & (df1e_copy['month']==3)]\n",
    "df1ai_copy=df1ai_copy.rename(columns={'Total':'SMS'})\n",
    "df1ai_copy['SMS'].sum()\n",
    "\n",
    "\n",
    "df3ei_copy=df3[df3.Data_main.str.contains('Messaging-Charging-Originating-Sms')]\n",
    "df3V_c=df3ei_copy[(df3ei_copy['day']==20) & (df3ei_copy['month']==3)]\n",
    "df3V_c=df3V_c.rename(columns={'Total':'SMS'})\n",
    "df3V_c['SMS'].sum()\n",
    "\n",
    "df4e_copy=df4[df4.Data_main.str.contains('Messaging-Charging-Originating-Sms')]\n",
    "df4V_c=df4e_copy[(df4e_copy['day']==20) & (df4e_copy['month']==3)]\n",
    "df4V_c=df4V_c.rename(columns={'Total':'SMS'})\n",
    "df4V_c['SMS'].sum()\n",
    "\n",
    "df5e_copy=df5[df5.Data_main.str.contains('Messaging-Charging-Originating-Sms')]\n",
    "df5V_c=df5e_copy[(df5e_copy['day']==20) & (df5e_copy['month']==3)]\n",
    "df5V_c=df5V_c.rename(columns={'Total':'SMS'})\n",
    "df5V_c['SMS'].sum()"
   ]
  },
  {
   "cell_type": "code",
   "execution_count": 181,
   "metadata": {},
   "outputs": [
    {
     "data": {
      "text/plain": [
       "2038605.0"
      ]
     },
     "execution_count": 181,
     "metadata": {},
     "output_type": "execute_result"
    }
   ],
   "source": [
    "df6djcopy=df1ai_copy['SMS'].sum()+df3V_c['SMS'].sum()+df4V_c['SMS'].sum()+df5V_c['SMS'].sum()\n",
    "df6djcopy"
   ]
  },
  {
   "cell_type": "markdown",
   "metadata": {},
   "source": [
    "VOICE CHARGING DAY 20"
   ]
  },
  {
   "cell_type": "code",
   "execution_count": 182,
   "metadata": {},
   "outputs": [],
   "source": [
    "\n",
    "df1h=df1[df1.Data_main.str.contains('Voice-Charging-FirstInterrogation-Successful')]\n",
    "df1K_copy=df1h[(df1h['day']==20) & (df1h['month']==3)]\n",
    "df1K_copy=df1K_copy.rename(columns={'Total':'Voice-F'})\n",
    "df1K_copy['Voice-F'].sum()\n",
    "\n",
    "df1c=df1[df1.Data_main.str.contains('Voice-Charging-IntermediateInterrogation-Successful')]\n",
    "df1K_cop=df1c[(df1c['day']==20) &  (df1c['month']==3)]\n",
    "df1K_cop=df1K_cop.rename(columns={'Total':'Voice-I'})\n",
    "df1K_cop['Voice-I'].sum()\n",
    "\n",
    "df1K=df1[df1.Data_main.str.contains('Voice-Charging-FinalReport-Successful')]\n",
    "df1K_o=df1d[(df1d['day']==20)& (df1d['month']==3)]\n",
    "df1K_o=df1K_o.rename(columns={'Total':'Voice-FR'})\n",
    "df1K_o['Voice-FR'].sum()\n",
    "df1K_c=pd.DataFrame()\n",
    "df1K_c=df1K_copy['Voice-F'].sum()+df1K_cop['Voice-I'].sum()+df1K_o['Voice-FR'].sum()"
   ]
  },
  {
   "cell_type": "markdown",
   "metadata": {},
   "source": [
    "sheet 5 df3"
   ]
  },
  {
   "cell_type": "code",
   "execution_count": 183,
   "metadata": {},
   "outputs": [
    {
     "data": {
      "text/plain": [
       "21338972"
      ]
     },
     "execution_count": 183,
     "metadata": {},
     "output_type": "execute_result"
    }
   ],
   "source": [
    "df3a=df3[df3.Data_main.str.contains('Voice-Charging-FirstInterrogation-Successful')]\n",
    "df3v_copy=df3a[(df3a['day']==19) & (df3a['month']==3)]\n",
    "df3v_copy=df3u_copy.rename(columns={'Total':'Voice-F'})\n",
    "df3v_copy\n",
    "\n",
    "df3c=df3[df3.Data_main.str.contains('Voice-Charging-IntermediateInterrogation-Successful')]\n",
    "df3v_cop=df3c[(df3c['day']==19) &  (df3c['month']==3)]\n",
    "df3v_cop=df3u_cop.rename(columns={'Total':'Voice-I'})\n",
    "df3v_cop\n",
    "\n",
    "df3d=df3[df3.Data_main.str.contains('Voice-Charging-FinalReport-Successful')]\n",
    "df3v_o=df3d[(df3d['day']==19)& (df3d['month']==3)]\n",
    "df3v_o=df3u_o.rename(columns={'Total':'Voice-FR'})\n",
    "df3v_o\n",
    "\n",
    "##MERGING THE TABLES TO GET THE COMMON DATA\n",
    "\n",
    "df3Dec=pd.merge(left=df3v_cop, right=df3v_copy, how='right', left_on='Time', right_on='Time')\n",
    "df3Dec=pd.merge(left=df3Dec, right=df3v_o, how='left', left_on='Time', right_on='Time')\n",
    "df3Dec\n",
    "##DELETING NON REQUIRED COLUMNS\n",
    "df3Dec.drop(['Data_main_x','Data_main_y','Tot_x','month','year','Data_main'],axis=1,inplace=True)\n",
    "df3Dec.drop(['Tot_y','day_x','month_x','year_x','Tot','day'],axis=1,inplace=True)\n",
    "df3Dec['Count']=df3Dec['Voice-F']+df3Dec['Voice-I']+df3Dec['Voice-FR']\n",
    "df3Dec['Count'].sum()"
   ]
  },
  {
   "cell_type": "markdown",
   "metadata": {},
   "source": [
    "sheet 6 df4"
   ]
  },
  {
   "cell_type": "code",
   "execution_count": 184,
   "metadata": {},
   "outputs": [
    {
     "data": {
      "text/plain": [
       "28878935.0"
      ]
     },
     "execution_count": 184,
     "metadata": {},
     "output_type": "execute_result"
    }
   ],
   "source": [
    "df4a=df4[df4.Data_main.str.contains('Voice-Charging-FirstInterrogation-Successful')]\n",
    "df4m_copy=df4a[(df4a['day']==20) & (df4a['month']==3)]\n",
    "df4m_copy=df4m_copy.rename(columns={'Total':'Voice-F'})\n",
    "df4m_copy['Voice-F'].sum()\n",
    "\n",
    "df4c=df4[df4.Data_main.str.contains('Voice-Charging-IntermediateInterrogation-Successful')]\n",
    "df4m_cop=df4c[(df4c['day']==20) &  (df4c['month']==3)]\n",
    "df4m_cop=df4m_cop.rename(columns={'Total':'Voice-I'})\n",
    "df4m_cop['Voice-I'].sum()\n",
    "\n",
    "df4d=df4[df4.Data_main.str.contains('Voice-Charging-FinalReport-Successful')]\n",
    "df4m_o=df4d[(df4d['day']==20)& (df4d['month']==3)]\n",
    "df4m_o=df4m_o.rename(columns={'Total':'Voice-FR'})\n",
    "df4m_o['Voice-FR'].sum()\n",
    "##MERGING THE TABLES TO GET THE COMMON DATA\n",
    "df4ad_copy=pd.merge(left=df4m_cop, right=df4m_copy, how='right', left_on='Time', right_on='Time')\n",
    "df4ad_copy=pd.merge(left=df4ad_copy, right=df4m_o, how='left', left_on='Time', right_on='Time')\n",
    "\n",
    "##DELETING NON REQUIRED COLUMNS\n",
    "df4ad_copy.drop(['Data_main_x','Data_main_y','Tot_x','month_x','year_y','Data_main'],axis=1,inplace=True)\n",
    "df4ad_copy.drop(['Tot_y','day_x','month_y','year_x','Tot','day_y'],axis=1,inplace=True)\n",
    "df4ad_copy['Count']=df4ad_copy['Voice-F']+df4ad_copy['Voice-I']+df4ad_copy['Voice-FR']\n",
    "\n",
    "df4ad_copy['Count'].sum()"
   ]
  },
  {
   "cell_type": "markdown",
   "metadata": {},
   "source": [
    "sheet 7 df5"
   ]
  },
  {
   "cell_type": "code",
   "execution_count": 185,
   "metadata": {},
   "outputs": [
    {
     "data": {
      "text/plain": [
       "20956229.0"
      ]
     },
     "execution_count": 185,
     "metadata": {},
     "output_type": "execute_result"
    }
   ],
   "source": [
    "df5c_=df5[df5.Data_main.str.contains('Voice-Charging-FirstInterrogation-Successful')]\n",
    "df5v_copy=df5c_[(df5c_['day']==20) &  (df5c_['month']==3)]\n",
    "df5v_copy=df5v_copy.rename(columns={'Total':'Voice-F'})\n",
    "\n",
    "\n",
    "df5c=df5[df5.Data_main.str.contains('Voice-Charging-IntermediateInterrogation-Successful')]\n",
    "df5v_cop=df5c[(df5c['day']==20) &  (df5c['month']==3)]\n",
    "df5v_cop=df5v_cop.rename(columns={'Total':'Voice-I'})\n",
    "\n",
    "df5d=df5[df5.Data_main.str.contains('Voice-Charging-FinalReport-Successful')]\n",
    "df5v_o=df5d[(df5d['day']==20)& (df5d['month']==3)]\n",
    "df5v_o=df5v_o.rename(columns={'Total':'Voice-FR'})\n",
    "\n",
    "##MERGING THE TABLES TO GET THE COMMON DATA\n",
    "df5Dec=pd.merge(left=df5v_cop, right=df5v_copy, how='right', left_on='Time', right_on='Time')\n",
    "df5Dec=pd.merge(left=df5Dec, right=df5v_o, how='left', left_on='Time', right_on='Time')\n",
    "\n",
    "##DELETING NON REQUIRED COLUMNS\n",
    "df5Dec.drop(['Data_main_x','Data_main_y','Tot_x','month_x','year_y','Data_main'],axis=1,inplace=True)\n",
    "df5Dec.drop(['Tot_y','day_x','month_y','year_x','Tot','day_y'],axis=1,inplace=True)\n",
    "df5Dec['Count']=df5Dec['Voice-F']+df5Dec['Voice-I']+df5Dec['Voice-FR']\n",
    "\n",
    "df5Dec['Count'].sum()"
   ]
  },
  {
   "cell_type": "code",
   "execution_count": 186,
   "metadata": {},
   "outputs": [
    {
     "data": {
      "text/plain": [
       "100025743.0"
      ]
     },
     "execution_count": 186,
     "metadata": {},
     "output_type": "execute_result"
    }
   ],
   "source": [
    "df6dgco=df3Dec['Count'].sum()+df5Dec['Count'].sum()+df1K_c+df4ad_copy['Count'].sum()\n",
    "df6dgco"
   ]
  },
  {
   "cell_type": "markdown",
   "metadata": {},
   "source": [
    "SMS CHARGING DAY 21"
   ]
  },
  {
   "cell_type": "code",
   "execution_count": 187,
   "metadata": {},
   "outputs": [
    {
     "data": {
      "text/plain": [
       "395970.0"
      ]
     },
     "execution_count": 187,
     "metadata": {},
     "output_type": "execute_result"
    }
   ],
   "source": [
    "df1e_copy=df1[df1.Data_main.str.contains('Messaging-Charging-Originating-Sms')]\n",
    "df1ai_cop=df1e_copy[(df1e_copy['day']==21) & (df1e_copy['month']==3)]\n",
    "df1ai_cop=df1ai_cop.rename(columns={'Total':'SMS'})\n",
    "df1ai_cop['SMS'].sum()\n",
    "\n",
    "\n",
    "df3ei_copy=df3[df3.Data_main.str.contains('Messaging-Charging-Originating-Sms')]\n",
    "df3V_=df3ei_copy[(df3ei_copy['day']==21) & (df3ei_copy['month']==3)]\n",
    "df3V_=df3V_.rename(columns={'Total':'SMS'})\n",
    "df3V_['SMS'].sum()\n",
    "\n",
    "df4e_copy=df4[df4.Data_main.str.contains('Messaging-Charging-Originating-Sms')]\n",
    "df4V_=df4e_copy[(df4e_copy['day']==21) & (df4e_copy['month']==3)]\n",
    "df4V_=df4V_.rename(columns={'Total':'SMS'})\n",
    "df4V_['SMS'].sum()\n",
    "\n",
    "df5e_copy=df5[df5.Data_main.str.contains('Messaging-Charging-Originating-Sms')]\n",
    "df5V_=df5e_copy[(df5e_copy['day']==21) & (df5e_copy['month']==3)]\n",
    "df5V_=df5V_.rename(columns={'Total':'SMS'})\n",
    "df5V_['SMS'].sum()"
   ]
  },
  {
   "cell_type": "code",
   "execution_count": 188,
   "metadata": {},
   "outputs": [
    {
     "data": {
      "text/plain": [
       "2002328.0"
      ]
     },
     "execution_count": 188,
     "metadata": {},
     "output_type": "execute_result"
    }
   ],
   "source": [
    "df6djcop=df1ai_cop['SMS'].sum()+df3V_['SMS'].sum()+df4V_['SMS'].sum()+df5V_['SMS'].sum()\n",
    "df6djcop"
   ]
  },
  {
   "cell_type": "markdown",
   "metadata": {},
   "source": [
    "VOICE CHARGING DAY 21"
   ]
  },
  {
   "cell_type": "code",
   "execution_count": 189,
   "metadata": {},
   "outputs": [],
   "source": [
    "df1h=df1[df1.Data_main.str.contains('Voice-Charging-FirstInterrogation-Successful')]\n",
    "df1L_copy=df1h[(df1h['day']==21)& (df1h['month']==3)]\n",
    "df1L_copy=df1L_copy.rename(columns={'Total':'Voice-F'})\n",
    "df1L_copy['Voice-F'].sum()\n",
    "\n",
    "df1c=df1[df1.Data_main.str.contains('Voice-Charging-IntermediateInterrogation-Successful')]\n",
    "df1L_cop=df1c[(df1c['day']==21)&  (df1c['month']==3)]\n",
    "df1L_cop=df1L_cop.rename(columns={'Total':'Voice-I'})\n",
    "df1L_cop['Voice-I'].sum()\n",
    "\n",
    "df1K=df1[df1.Data_main.str.contains('Voice-Charging-FinalReport-Successful')]\n",
    "df1L_o=df1d[(df1d['day']==21)&(df1d['month']==3)]\n",
    "df1L_o=df1L_o.rename(columns={'Total':'Voice-FR'})\n",
    "df1L_o['Voice-FR'].sum()\n",
    "df1L_c=pd.DataFrame()\n",
    "df1L_c=df1L_copy['Voice-F'].sum()+df1L_cop['Voice-I'].sum()+df1L_o['Voice-FR'].sum()"
   ]
  },
  {
   "cell_type": "markdown",
   "metadata": {},
   "source": [
    "sheet 5 df3"
   ]
  },
  {
   "cell_type": "code",
   "execution_count": 190,
   "metadata": {},
   "outputs": [
    {
     "data": {
      "text/plain": [
       "21475492"
      ]
     },
     "execution_count": 190,
     "metadata": {},
     "output_type": "execute_result"
    }
   ],
   "source": [
    "df3a=df3[df3.Data_main.str.contains('Voice-Charging-FirstInterrogation-Successful')]\n",
    "df3w_copy=df3a[(df3a['day']==21) & (df3a['month']==3)]\n",
    "df3w_copy=df3w_copy.rename(columns={'Total':'Voice-F'})\n",
    "df3w_copy\n",
    "\n",
    "df3c=df3[df3.Data_main.str.contains('Voice-Charging-IntermediateInterrogation-Successful')]\n",
    "df3w_cop=df3c[(df3c['day']==21) &  (df3c['month']==3)]\n",
    "df3w_cop=df3w_cop.rename(columns={'Total':'Voice-I'})\n",
    "df3w_cop\n",
    "\n",
    "df3d=df3[df3.Data_main.str.contains('Voice-Charging-FinalReport-Successful')]\n",
    "df3w_o=df3d[(df3d['day']==21)& (df3d['month']==3)]\n",
    "df3w_o=df3w_o.rename(columns={'Total':'Voice-FR'})\n",
    "df3w_o\n",
    "\n",
    "##MERGING THE TABLES TO GET THE COMMON DATA\n",
    "\n",
    "df3De=pd.merge(left=df3w_cop, right=df3w_copy, how='right', left_on='Time', right_on='Time')\n",
    "df3De=pd.merge(left=df3De, right=df3w_o, how='left', left_on='Time', right_on='Time')\n",
    "df3De\n",
    "##DELETING NON REQUIRED COLUMNS\n",
    "df3De.drop(['Data_main_x','Data_main_y','Tot_x','month','year','Data_main'],axis=1,inplace=True)\n",
    "df3De.drop(['Tot_y','day_x','month_x','year_x','Tot','day'],axis=1,inplace=True)\n",
    "df3De['Count']=df3De['Voice-F']+df3De['Voice-I']+df3De['Voice-FR']\n",
    "df3De['Count'].sum()"
   ]
  },
  {
   "cell_type": "markdown",
   "metadata": {},
   "source": [
    "sheet 6 df4"
   ]
  },
  {
   "cell_type": "code",
   "execution_count": 191,
   "metadata": {},
   "outputs": [
    {
     "data": {
      "text/plain": [
       "30649787.0"
      ]
     },
     "execution_count": 191,
     "metadata": {},
     "output_type": "execute_result"
    }
   ],
   "source": [
    "df4a=df4[df4.Data_main.str.contains('Voice-Charging-FirstInterrogation-Successful')]\n",
    "df4n_copy=df4a[(df4a['day']==21) & (df4a['month']==3)]\n",
    "df4n_copy=df4n_copy.rename(columns={'Total':'Voice-F'})\n",
    "df4n_copy['Voice-F'].sum()\n",
    "\n",
    "df4c=df4[df4.Data_main.str.contains('Voice-Charging-IntermediateInterrogation-Successful')]\n",
    "df4n_cop=df4c[(df4c['day']==21) &  (df4c['month']==3)]\n",
    "df4n_cop=df4n_cop.rename(columns={'Total':'Voice-I'})\n",
    "df4n_cop['Voice-I'].sum()\n",
    "\n",
    "df4d=df4[df4.Data_main.str.contains('Voice-Charging-FinalReport-Successful')]\n",
    "df4n_o=df4d[(df4d['day']==21)& (df4d['month']==3)]\n",
    "df4n_o=df4n_o.rename(columns={'Total':'Voice-FR'})\n",
    "df4n_o['Voice-FR'].sum()\n",
    "##MERGING THE TABLES TO GET THE COMMON DATA\n",
    "df4ad_cop=pd.merge(left=df4n_cop, right=df4n_copy, how='right', left_on='Time', right_on='Time')\n",
    "df4ad_cop=pd.merge(left=df4ad_cop, right=df4n_o, how='left', left_on='Time', right_on='Time')\n",
    "\n",
    "##DELETING NON REQUIRED COLUMNS\n",
    "df4ad_cop.drop(['Data_main_x','Data_main_y','Tot_x','month_x','year_y','Data_main'],axis=1,inplace=True)\n",
    "df4ad_cop.drop(['Tot_y','day_x','month_y','year_x','Tot','day_y'],axis=1,inplace=True)\n",
    "df4ad_cop['Count']=df4ad_cop['Voice-F']+df4ad_cop['Voice-I']+df4ad_cop['Voice-FR']\n",
    "\n",
    "df4ad_cop['Count'].sum()"
   ]
  },
  {
   "cell_type": "markdown",
   "metadata": {},
   "source": [
    "sheet 7 df5"
   ]
  },
  {
   "cell_type": "code",
   "execution_count": 192,
   "metadata": {},
   "outputs": [
    {
     "data": {
      "text/plain": [
       "21450217.0"
      ]
     },
     "execution_count": 192,
     "metadata": {},
     "output_type": "execute_result"
    }
   ],
   "source": [
    "df5c_=df5[df5.Data_main.str.contains('Voice-Charging-FirstInterrogation-Successful')]\n",
    "df5w_copy=df5c_[(df5c_['day']==21) &  (df5c_['month']==3)]\n",
    "df5w_copy=df5w_copy.rename(columns={'Total':'Voice-F'})\n",
    "\n",
    "\n",
    "df5c=df5[df5.Data_main.str.contains('Voice-Charging-IntermediateInterrogation-Successful')]\n",
    "df5w_cop=df5c[(df5c['day']==21) &  (df5c['month']==3)]\n",
    "df5w_cop=df5w_cop.rename(columns={'Total':'Voice-I'})\n",
    "\n",
    "df5d=df5[df5.Data_main.str.contains('Voice-Charging-FinalReport-Successful')]\n",
    "df5w_o=df5d[(df5d['day']==21)& (df5d['month']==3)]\n",
    "df5w_o=df5w_o.rename(columns={'Total':'Voice-FR'})\n",
    "\n",
    "##MERGING THE TABLES TO GET THE COMMON DATA\n",
    "df5Dfcop=pd.merge(left=df5w_cop, right=df5w_copy, how='right', left_on='Time', right_on='Time')\n",
    "df5Dfcop=pd.merge(left=df5Dfcop, right=df5w_o, how='left', left_on='Time', right_on='Time')\n",
    "\n",
    "##DELETING NON REQUIRED COLUMNS\n",
    "df5Dfcop.drop(['Data_main_x','Data_main_y','Tot_x','month_x','year_y','Data_main'],axis=1,inplace=True)\n",
    "df5Dfcop.drop(['Tot_y','day_x','month_y','year_x','Tot','day_y'],axis=1,inplace=True)\n",
    "df5Dfcop['Count']=df5Dfcop['Voice-F']+df5Dfcop['Voice-I']+df5Dfcop['Voice-FR']\n",
    "\n",
    "df5Dfcop['Count'].sum()"
   ]
  },
  {
   "cell_type": "code",
   "execution_count": 193,
   "metadata": {},
   "outputs": [
    {
     "data": {
      "text/plain": [
       "104284396.0"
      ]
     },
     "execution_count": 193,
     "metadata": {},
     "output_type": "execute_result"
    }
   ],
   "source": [
    "df6dgc=df3De['Count'].sum()+df5Dfcop['Count'].sum()+df1L_c+df4ad_cop['Count'].sum()\n",
    "df6dgc"
   ]
  },
  {
   "cell_type": "markdown",
   "metadata": {},
   "source": [
    "SMS CHARGING DAY 22"
   ]
  },
  {
   "cell_type": "code",
   "execution_count": 194,
   "metadata": {},
   "outputs": [
    {
     "data": {
      "text/plain": [
       "389948.0"
      ]
     },
     "execution_count": 194,
     "metadata": {},
     "output_type": "execute_result"
    }
   ],
   "source": [
    "df1e_copy=df1[df1.Data_main.str.contains('Messaging-Charging-Originating-Sms')]\n",
    "df1bi_copy=df1e_copy[(df1e_copy['day']==22) & (df1e_copy['month']==3)]\n",
    "df1bi_copy=df1bi_copy.rename(columns={'Total':'SMS'})\n",
    "df1bi_copy['SMS'].sum()\n",
    "\n",
    "\n",
    "df3ei_copy=df3[df3.Data_main.str.contains('Messaging-Charging-Originating-Sms')]\n",
    "df3W_copy=df3ei_copy[(df3ei_copy['day']==22) & (df3ei_copy['month']==3)]\n",
    "df3W_copy=df3W_copy.rename(columns={'Total':'SMS'})\n",
    "df3W_copy['SMS'].sum()\n",
    "\n",
    "df4e_copy=df4[df4.Data_main.str.contains('Messaging-Charging-Originating-Sms')]\n",
    "df4W_copy=df4e_copy[(df4e_copy['day']==22) & (df4e_copy['month']==3)]\n",
    "df4W_copy=df4W_copy.rename(columns={'Total':'SMS'})\n",
    "df4W_copy['SMS'].sum()\n",
    "\n",
    "df5e_copy=df5[df5.Data_main.str.contains('Messaging-Charging-Originating-Sms')]\n",
    "df5W_copy=df5e_copy[(df5e_copy['day']==22) & (df5e_copy['month']==3)]\n",
    "df5W_copy=df5W_copy.rename(columns={'Total':'SMS'})\n",
    "df5W_copy['SMS'].sum()"
   ]
  },
  {
   "cell_type": "code",
   "execution_count": 195,
   "metadata": {},
   "outputs": [
    {
     "data": {
      "text/plain": [
       "1995926.0"
      ]
     },
     "execution_count": 195,
     "metadata": {},
     "output_type": "execute_result"
    }
   ],
   "source": [
    "df6di=df1bi_copy['SMS'].sum()+df3W_copy['SMS'].sum()+df4W_copy['SMS'].sum()+df5W_copy['SMS'].sum()\n",
    "df6di"
   ]
  },
  {
   "cell_type": "markdown",
   "metadata": {},
   "source": [
    "VOICE CHARGING DAY 22"
   ]
  },
  {
   "cell_type": "code",
   "execution_count": 196,
   "metadata": {},
   "outputs": [],
   "source": [
    "df1h=df1[df1.Data_main.str.contains('Voice-Charging-FirstInterrogation-Successful')]\n",
    "df1M_copy=df1h[(df1h['day']==22)& (df1h['month']==3)]\n",
    "df1M_copy=df1M_copy.rename(columns={'Total':'Voice-F'})\n",
    "df1M_copy['Voice-F'].sum()\n",
    "\n",
    "df1c=df1[df1.Data_main.str.contains('Voice-Charging-IntermediateInterrogation-Successful')]\n",
    "df1M_cop=df1c[(df1c['day']==22)&  (df1c['month']==3)]\n",
    "df1M_cop=df1M_cop.rename(columns={'Total':'Voice-I'})\n",
    "df1M_cop['Voice-I'].sum()\n",
    "\n",
    "df1K=df1[df1.Data_main.str.contains('Voice-Charging-FinalReport-Successful')]\n",
    "df1M_o=df1d[(df1d['day']==22)&(df1d['month']==3)]\n",
    "df1M_o=df1M_o.rename(columns={'Total':'Voice-FR'})\n",
    "df1M_o['Voice-FR'].sum()\n",
    "df1M_c=pd.DataFrame()\n",
    "df1M_c=df1M_copy['Voice-F'].sum()+df1M_cop['Voice-I'].sum()+df1M_o['Voice-FR'].sum()"
   ]
  },
  {
   "cell_type": "markdown",
   "metadata": {},
   "source": [
    "sheet 5 df3"
   ]
  },
  {
   "cell_type": "code",
   "execution_count": 197,
   "metadata": {},
   "outputs": [
    {
     "data": {
      "text/plain": [
       "21983584"
      ]
     },
     "execution_count": 197,
     "metadata": {},
     "output_type": "execute_result"
    }
   ],
   "source": [
    "df3a=df3[df3.Data_main.str.contains('Voice-Charging-FirstInterrogation-Successful')]\n",
    "df3x_copy=df3a[(df3a['day']==22) & (df3a['month']==3)]\n",
    "df3x_copy=df3x_copy.rename(columns={'Total':'Voice-F'})\n",
    "df3x_copy\n",
    "\n",
    "df3c=df3[df3.Data_main.str.contains('Voice-Charging-IntermediateInterrogation-Successful')]\n",
    "df3x_cop=df3c[(df3c['day']==22) &  (df3c['month']==3)]\n",
    "df3x_cop=df3x_cop.rename(columns={'Total':'Voice-I'})\n",
    "df3x_cop\n",
    "\n",
    "df3d=df3[df3.Data_main.str.contains('Voice-Charging-FinalReport-Successful')]\n",
    "df3x_o=df3d[(df3d['day']==22)& (df3d['month']==3)]\n",
    "df3x_o=df3x_o.rename(columns={'Total':'Voice-FR'})\n",
    "df3x_o\n",
    "\n",
    "##MERGING THE TABLES TO GET THE COMMON DATA\n",
    "\n",
    "df3Dfcopy=pd.merge(left=df3x_cop, right=df3x_copy, how='right', left_on='Time', right_on='Time')\n",
    "df3Dfcopy=pd.merge(left=df3Dfcopy, right=df3x_o, how='left', left_on='Time', right_on='Time')\n",
    "df3Dfcopy\n",
    "##DELETING NON REQUIRED COLUMNS\n",
    "df3Dfcopy.drop(['Data_main_x','Data_main_y','Tot_x','month','year','Data_main'],axis=1,inplace=True)\n",
    "df3Dfcopy.drop(['Tot_y','day_x','month_x','year_x','Tot','day'],axis=1,inplace=True)\n",
    "df3Dfcopy['Count']=df3Dfcopy['Voice-F']+df3Dfcopy['Voice-I']+df3Dfcopy['Voice-FR']\n",
    "df3Dfcopy['Count'].sum()"
   ]
  },
  {
   "cell_type": "markdown",
   "metadata": {},
   "source": [
    "sheet 6 df4"
   ]
  },
  {
   "cell_type": "code",
   "execution_count": 198,
   "metadata": {},
   "outputs": [
    {
     "data": {
      "text/plain": [
       "32515278.0"
      ]
     },
     "execution_count": 198,
     "metadata": {},
     "output_type": "execute_result"
    }
   ],
   "source": [
    "df4a=df4[df4.Data_main.str.contains('Voice-Charging-FirstInterrogation-Successful')]\n",
    "df4o_copy=df4a[(df4a['day']==22) & (df4a['month']==3)]\n",
    "df4o_copy=df4o_copy.rename(columns={'Total':'Voice-F'})\n",
    "df4o_copy['Voice-F'].sum()\n",
    "df4c=df4[df4.Data_main.str.contains('Voice-Charging-IntermediateInterrogation-Successful')]\n",
    "df4o_cop=df4c[(df4c['day']==22) &  (df4c['month']==3)]\n",
    "df4o_cop=df4o_cop.rename(columns={'Total':'Voice-I'})\n",
    "df4o_cop['Voice-I'].sum()\n",
    "\n",
    "df4d=df4[df4.Data_main.str.contains('Voice-Charging-FinalReport-Successful')]\n",
    "df4o_o=df4d[(df4d['day']==22)& (df4d['month']==3)]\n",
    "df4o_o=df4o_o.rename(columns={'Total':'Voice-FR'})\n",
    "df4o_o['Voice-FR'].sum()\n",
    "##MERGING THE TABLES TO GET THE COMMON DATA\n",
    "df4ad_co=pd.merge(left=df4o_cop, right=df4o_copy, how='right', left_on='Time', right_on='Time')\n",
    "df4ad_co=pd.merge(left=df4ad_co, right=df4o_o, how='left', left_on='Time', right_on='Time')\n",
    "\n",
    "##DELETING NON REQUIRED COLUMNS\n",
    "df4ad_co.drop(['Data_main_x','Data_main_y','Tot_x','month_x','year_y','Data_main'],axis=1,inplace=True)\n",
    "df4ad_co.drop(['Tot_y','day_x','month_y','year_x','Tot','day_y'],axis=1,inplace=True)\n",
    "df4ad_co['Count']=df4ad_co['Voice-F']+df4ad_co['Voice-I']+df4ad_co['Voice-FR']\n",
    "\n",
    "df4ad_co['Count'].sum()"
   ]
  },
  {
   "cell_type": "markdown",
   "metadata": {},
   "source": [
    "sheet 7 df5"
   ]
  },
  {
   "cell_type": "code",
   "execution_count": 199,
   "metadata": {},
   "outputs": [
    {
     "data": {
      "text/plain": [
       "21984440.0"
      ]
     },
     "execution_count": 199,
     "metadata": {},
     "output_type": "execute_result"
    }
   ],
   "source": [
    "df5c_=df5[df5.Data_main.str.contains('Voice-Charging-FirstInterrogation-Successful')]\n",
    "df5x_copy=df5c_[(df5c_['day']==22) &  (df5c_['month']==3)]\n",
    "df5x_copy=df5x_copy.rename(columns={'Total':'Voice-F'})\n",
    "\n",
    "\n",
    "df5c=df5[df5.Data_main.str.contains('Voice-Charging-IntermediateInterrogation-Successful')]\n",
    "df5x_cop=df5c[(df5c['day']==22) &  (df5c['month']==3)]\n",
    "df5x_cop=df5x_cop.rename(columns={'Total':'Voice-I'})\n",
    "\n",
    "df5d=df5[df5.Data_main.str.contains('Voice-Charging-FinalReport-Successful')]\n",
    "df5x_o=df5d[(df5d['day']==22)& (df5d['month']==3)]\n",
    "df5x_o=df5x_o.rename(columns={'Total':'Voice-FR'})\n",
    "\n",
    "##MERGING THE TABLES TO GET THE COMMON DATA\n",
    "df5Dfcopy=pd.merge(left=df5x_cop, right=df5x_copy, how='right', left_on='Time', right_on='Time')\n",
    "df5Dfcopy=pd.merge(left=df5Dfcopy, right=df5x_o, how='left', left_on='Time', right_on='Time')\n",
    "\n",
    "##DELETING NON REQUIRED COLUMNS\n",
    "df5Dfcopy.drop(['Data_main_x','Data_main_y','Tot_x','month_x','year_y','Data_main'],axis=1,inplace=True)\n",
    "df5Dfcopy.drop(['Tot_y','day_x','month_y','year_x','Tot','day_y'],axis=1,inplace=True)\n",
    "df5Dfcopy['Count']=df5Dfcopy['Voice-F']+df5Dfcopy['Voice-I']+df5Dfcopy['Voice-FR']\n",
    "\n",
    "df5Dfcopy['Count'].sum()"
   ]
  },
  {
   "cell_type": "code",
   "execution_count": 200,
   "metadata": {},
   "outputs": [
    {
     "data": {
      "text/plain": [
       "109011330.0"
      ]
     },
     "execution_count": 200,
     "metadata": {},
     "output_type": "execute_result"
    }
   ],
   "source": [
    "df6dg=df3Dfcopy['Count'].sum()+df5Dfcopy['Count'].sum()+df1M_c+df4ad_co['Count'].sum()\n",
    "df6dg"
   ]
  },
  {
   "cell_type": "markdown",
   "metadata": {},
   "source": [
    "SMS CHARGING DAY 23"
   ]
  },
  {
   "cell_type": "code",
   "execution_count": 201,
   "metadata": {},
   "outputs": [
    {
     "data": {
      "text/plain": [
       "425925.0"
      ]
     },
     "execution_count": 201,
     "metadata": {},
     "output_type": "execute_result"
    }
   ],
   "source": [
    "df1e_copy=df1[df1.Data_main.str.contains('Messaging-Charging-Originating-Sms')]\n",
    "df1ai_c=df1e_copy[(df1e_copy['day']==23) & (df1e_copy['month']==3)]\n",
    "df1ai_c=df1ai_c.rename(columns={'Total':'SMS'})\n",
    "df1ai_c['SMS'].sum()\n",
    "\n",
    "\n",
    "df3ei_copy=df3[df3.Data_main.str.contains('Messaging-Charging-Originating-Sms')]\n",
    "df3W_cop=df3ei_copy[(df3ei_copy['day']==23) & (df3ei_copy['month']==3)]\n",
    "df3W_cop=df3W_cop.rename(columns={'Total':'SMS'})\n",
    "df3W_cop['SMS'].sum()\n",
    "\n",
    "df4e_copy=df4[df4.Data_main.str.contains('Messaging-Charging-Originating-Sms')]\n",
    "df4W_cop=df4e_copy[(df4e_copy['day']==23) & (df4e_copy['month']==3)]\n",
    "df4W_cop=df4W_cop.rename(columns={'Total':'SMS'})\n",
    "df4W_cop['SMS'].sum()\n",
    "\n",
    "df5e_copy=df5[df5.Data_main.str.contains('Messaging-Charging-Originating-Sms')]\n",
    "df5W_cop=df5e_copy[(df5e_copy['day']==23) & (df5e_copy['month']==3)]\n",
    "df5W_cop=df5W_cop.rename(columns={'Total':'SMS'})\n",
    "df5W_cop['SMS'].sum()"
   ]
  },
  {
   "cell_type": "code",
   "execution_count": 202,
   "metadata": {},
   "outputs": [
    {
     "data": {
      "text/plain": [
       "2179354.0"
      ]
     },
     "execution_count": 202,
     "metadata": {},
     "output_type": "execute_result"
    }
   ],
   "source": [
    "df6djcopy_=df1ai_c['SMS'].sum()+df3W_cop['SMS'].sum()+df4W_cop['SMS'].sum()+df5W_cop['SMS'].sum()\n",
    "df6djcopy_"
   ]
  },
  {
   "cell_type": "markdown",
   "metadata": {},
   "source": [
    "VOICE CHARGING DAY 23"
   ]
  },
  {
   "cell_type": "code",
   "execution_count": 203,
   "metadata": {},
   "outputs": [],
   "source": [
    "df1h=df1[df1.Data_main.str.contains('Voice-Charging-FirstInterrogation-Successful')]\n",
    "df1N_copy=df1h[(df1h['day']==23)& (df1h['month']==3)]\n",
    "df1N_copy=df1N_copy.rename(columns={'Total':'Voice-F'})\n",
    "df1N_copy['Voice-F'].sum()\n",
    "\n",
    "df1c=df1[df1.Data_main.str.contains('Voice-Charging-IntermediateInterrogation-Successful')]\n",
    "df1N_cop=df1c[(df1c['day']==23)&  (df1c['month']==3)]\n",
    "df1N_cop=df1N_cop.rename(columns={'Total':'Voice-I'})\n",
    "df1N_cop['Voice-I'].sum()\n",
    "\n",
    "df1K=df1[df1.Data_main.str.contains('Voice-Charging-FinalReport-Successful')]\n",
    "df1N_o=df1d[(df1d['day']==23)&(df1d['month']==3)]\n",
    "df1N_o=df1N_o.rename(columns={'Total':'Voice-FR'})\n",
    "df1N_o['Voice-FR'].sum()\n",
    "df1N_c=pd.DataFrame()\n",
    "df1N_c=df1N_copy['Voice-F'].sum()+df1N_cop['Voice-I'].sum()+df1N_o['Voice-FR'].sum()"
   ]
  },
  {
   "cell_type": "markdown",
   "metadata": {},
   "source": [
    "sheet 5 df3"
   ]
  },
  {
   "cell_type": "code",
   "execution_count": 204,
   "metadata": {},
   "outputs": [
    {
     "data": {
      "text/plain": [
       "21101671"
      ]
     },
     "execution_count": 204,
     "metadata": {},
     "output_type": "execute_result"
    }
   ],
   "source": [
    "df3a=df3[df3.Data_main.str.contains('Voice-Charging-FirstInterrogation-Successful')]\n",
    "df3z_copy=df3a[(df3a['day']==23) & (df3a['month']==3)]\n",
    "df3z_copy=df3z_copy.rename(columns={'Total':'Voice-F'})\n",
    "df3z_copy\n",
    "\n",
    "df3c=df3[df3.Data_main.str.contains('Voice-Charging-IntermediateInterrogation-Successful')]\n",
    "df3z_cop=df3c[(df3c['day']==23) &  (df3c['month']==3)]\n",
    "df3z_cop=df3z_cop.rename(columns={'Total':'Voice-I'})\n",
    "df3z_cop\n",
    "\n",
    "df3d=df3[df3.Data_main.str.contains('Voice-Charging-FinalReport-Successful')]\n",
    "df3z_o=df3d[(df3d['day']==23)& (df3d['month']==3)]\n",
    "df3z_o=df3z_o.rename(columns={'Total':'Voice-FR'})\n",
    "df3z_o\n",
    "\n",
    "##MERGING THE TABLES TO GET THE COMMON DATA\n",
    "\n",
    "df3Dfcop=pd.merge(left=df3z_cop, right=df3z_copy, how='right', left_on='Time', right_on='Time')\n",
    "df3Dfcop=pd.merge(left=df3Dfcop, right=df3z_o, how='left', left_on='Time', right_on='Time')\n",
    "df3Dfcop\n",
    "##DELETING NON REQUIRED COLUMNS\n",
    "df3Dfcop.drop(['Data_main_x','Data_main_y','Tot_x','month','year','Data_main'],axis=1,inplace=True)\n",
    "df3Dfcop.drop(['Tot_y','day_x','month_x','year_x','Tot','day'],axis=1,inplace=True)\n",
    "df3Dfcop['Count']=df3Dfcop['Voice-F']+df3Dfcop['Voice-I']+df3Dfcop['Voice-FR']\n",
    "df3Dfcop['Count'].sum()"
   ]
  },
  {
   "cell_type": "markdown",
   "metadata": {},
   "source": [
    "sheet 6 df4"
   ]
  },
  {
   "cell_type": "code",
   "execution_count": 205,
   "metadata": {},
   "outputs": [
    {
     "data": {
      "text/plain": [
       "29194143.0"
      ]
     },
     "execution_count": 205,
     "metadata": {},
     "output_type": "execute_result"
    }
   ],
   "source": [
    "df4a=df4[df4.Data_main.str.contains('Voice-Charging-FirstInterrogation-Successful')]\n",
    "df4p_copy=df4a[(df4a['day']==23) & (df4a['month']==3)]\n",
    "df4p_copy=df4p_copy.rename(columns={'Total':'Voice-F'})\n",
    "df4p_copy['Voice-F'].sum()\n",
    "\n",
    "df4c=df4[df4.Data_main.str.contains('Voice-Charging-IntermediateInterrogation-Successful')]\n",
    "df4p_cop=df4c[(df4c['day']==23) &  (df4c['month']==3)]\n",
    "df4p_cop=df4p_cop.rename(columns={'Total':'Voice-I'})\n",
    "df4p_cop['Voice-I'].sum()\n",
    "\n",
    "df4d=df4[df4.Data_main.str.contains('Voice-Charging-FinalReport-Successful')]\n",
    "df4p_o=df4d[(df4d['day']==23)& (df4d['month']==3)]\n",
    "df4p_o=df4p_o.rename(columns={'Total':'Voice-FR'})\n",
    "df4p_o['Voice-FR'].sum()\n",
    "##MERGING THE TABLES TO GET THE COMMON DATA\n",
    "df4ad_c=pd.merge(left=df4p_cop, right=df4p_copy, how='right', left_on='Time', right_on='Time')\n",
    "df4ad_c=pd.merge(left=df4ad_c, right=df4p_o, how='left', left_on='Time', right_on='Time')\n",
    "\n",
    "##DELETING NON REQUIRED COLUMNS\n",
    "df4ad_c.drop(['Data_main_x','Data_main_y','Tot_x','month_x','year_y','Data_main'],axis=1,inplace=True)\n",
    "df4ad_c.drop(['Tot_y','day_x','month_y','year_x','Tot','day_y'],axis=1,inplace=True)\n",
    "df4ad_c['Count']=df4ac_['Voice-F']+df4ac_['Voice-I']+df4ac_['Voice-FR']\n",
    "\n",
    "df4ad_c['Count'].sum()"
   ]
  },
  {
   "cell_type": "markdown",
   "metadata": {},
   "source": [
    "sheet 7 df5"
   ]
  },
  {
   "cell_type": "code",
   "execution_count": 206,
   "metadata": {},
   "outputs": [
    {
     "data": {
      "text/plain": [
       "21141713.0"
      ]
     },
     "execution_count": 206,
     "metadata": {},
     "output_type": "execute_result"
    }
   ],
   "source": [
    "df5c_=df5[df5.Data_main.str.contains('Voice-Charging-FirstInterrogation-Successful')]\n",
    "df5z_copy=df5c_[(df5c_['day']==23) &  (df5c_['month']==3)]\n",
    "df5z_copy=df5z_copy.rename(columns={'Total':'Voice-F'})\n",
    "\n",
    "\n",
    "df5c=df5[df5.Data_main.str.contains('Voice-Charging-IntermediateInterrogation-Successful')]\n",
    "df5z_cop=df5c[(df5c['day']==23) &  (df5c['month']==3)]\n",
    "df5z_cop=df5z_cop.rename(columns={'Total':'Voice-I'})\n",
    "\n",
    "df5d=df5[df5.Data_main.str.contains('Voice-Charging-FinalReport-Successful')]\n",
    "df5z_o=df5d[(df5d['day']==23)& (df5d['month']==3)]\n",
    "df5z_o=df5z_o.rename(columns={'Total':'Voice-FR'})\n",
    "\n",
    "##MERGING THE TABLES TO GET THE COMMON DATA\n",
    "df5Dfco=pd.merge(left=df5z_cop, right=df5z_copy, how='right', left_on='Time', right_on='Time')\n",
    "df5Dfco=pd.merge(left=df5Dfco, right=df5z_o, how='left', left_on='Time', right_on='Time')\n",
    "\n",
    "##DELETING NON REQUIRED COLUMNS\n",
    "df5Dfco.drop(['Data_main_x','Data_main_y','Tot_x','month_x','year_y','Data_main'],axis=1,inplace=True)\n",
    "df5Dfco.drop(['Tot_y','day_x','month_y','year_x','Tot','day_y'],axis=1,inplace=True)\n",
    "df5Dfco['Count']=df5Dfco['Voice-F']+df5Dfco['Voice-I']+df5Dfco['Voice-FR']\n",
    "\n",
    "df5Dfco['Count'].sum()"
   ]
  },
  {
   "cell_type": "code",
   "execution_count": 207,
   "metadata": {},
   "outputs": [
    {
     "data": {
      "text/plain": [
       "101730465.0"
      ]
     },
     "execution_count": 207,
     "metadata": {},
     "output_type": "execute_result"
    }
   ],
   "source": [
    "df6dhcopy=df3Dfcop['Count'].sum()+df5Dfco['Count'].sum()+df1N_c+df4ad_c['Count'].sum()\n",
    "df6dhcopy"
   ]
  },
  {
   "cell_type": "markdown",
   "metadata": {},
   "source": [
    "SMS CHARGING DAY 24"
   ]
  },
  {
   "cell_type": "code",
   "execution_count": 208,
   "metadata": {},
   "outputs": [
    {
     "data": {
      "text/plain": [
       "453473.0"
      ]
     },
     "execution_count": 208,
     "metadata": {},
     "output_type": "execute_result"
    }
   ],
   "source": [
    "df1e_copy=df1[df1.Data_main.str.contains('Messaging-Charging-Originating-Sms')]\n",
    "df1bi_copy=df1e_copy[(df1e_copy['day']==24) & (df1e_copy['month']==3)]\n",
    "df1bi_copy=df1bi_copy.rename(columns={'Total':'SMS'})\n",
    "df1bi_copy['SMS'].sum()\n",
    "\n",
    "\n",
    "df3ei_copy=df3[df3.Data_main.str.contains('Messaging-Charging-Originating-Sms')]\n",
    "df3W_co=df3ei_copy[(df3ei_copy['day']==24) & (df3ei_copy['month']==3)]\n",
    "df3W_co=df3W_co.rename(columns={'Total':'SMS'})\n",
    "df3W_co['SMS'].sum()\n",
    "\n",
    "df4e_copy=df4[df4.Data_main.str.contains('Messaging-Charging-Originating-Sms')]\n",
    "df4W_co=df4e_copy[(df4e_copy['day']==24) & (df4e_copy['month']==3)]\n",
    "df4W_co=df4W_co.rename(columns={'Total':'SMS'})\n",
    "df4W_co['SMS'].sum()\n",
    "\n",
    "df5e_copy=df5[df5.Data_main.str.contains('Messaging-Charging-Originating-Sms')]\n",
    "df5W_co=df5e_copy[(df5e_copy['day']==24) & (df5e_copy['month']==3)]\n",
    "df5W_co=df5W_co.rename(columns={'Total':'SMS'})\n",
    "df5W_co['SMS'].sum()"
   ]
  },
  {
   "cell_type": "code",
   "execution_count": 209,
   "metadata": {},
   "outputs": [
    {
     "data": {
      "text/plain": [
       "2319713.0"
      ]
     },
     "execution_count": 209,
     "metadata": {},
     "output_type": "execute_result"
    }
   ],
   "source": [
    "df6djcop_=df1bi_copy['SMS'].sum()+df3W_co['SMS'].sum()+df4W_co['SMS'].sum()+df5W_co['SMS'].sum()\n",
    "df6djcop_"
   ]
  },
  {
   "cell_type": "markdown",
   "metadata": {},
   "source": [
    "VOICE OPERATION DAY 24"
   ]
  },
  {
   "cell_type": "code",
   "execution_count": 210,
   "metadata": {},
   "outputs": [],
   "source": [
    "df1h=df1[df1.Data_main.str.contains('Voice-Charging-FirstInterrogation-Successful')]\n",
    "df1O_copy=df1h[(df1h['day']==24)& (df1h['month']==3)]\n",
    "df1O_copy=df1O_copy.rename(columns={'Total':'Voice-F'})\n",
    "df1O_copy['Voice-F'].sum()\n",
    "\n",
    "df1c=df1[df1.Data_main.str.contains('Voice-Charging-IntermediateInterrogation-Successful')]\n",
    "df1O_cop=df1c[(df1c['day']==24)&  (df1c['month']==3)]\n",
    "df1O_cop=df1O_cop.rename(columns={'Total':'Voice-I'})\n",
    "df1O_cop['Voice-I'].sum()\n",
    "\n",
    "df1K=df1[df1.Data_main.str.contains('Voice-Charging-FinalReport-Successful')]\n",
    "df1O_o=df1d[(df1d['day']==24)&(df1d['month']==3)]\n",
    "df1O_o=df1O_o.rename(columns={'Total':'Voice-FR'})\n",
    "df1O_o['Voice-FR'].sum()\n",
    "df1O_c=pd.DataFrame()\n",
    "df1O_c=df1O_copy['Voice-F'].sum()+df1O_cop['Voice-I'].sum()+df1O_o['Voice-FR'].sum()"
   ]
  },
  {
   "cell_type": "markdown",
   "metadata": {},
   "source": [
    "sheet 5 df3"
   ]
  },
  {
   "cell_type": "code",
   "execution_count": 211,
   "metadata": {},
   "outputs": [
    {
     "data": {
      "text/plain": [
       "20803350"
      ]
     },
     "execution_count": 211,
     "metadata": {},
     "output_type": "execute_result"
    }
   ],
   "source": [
    "df3a=df3[df3.Data_main.str.contains('Voice-Charging-FirstInterrogation-Successful')]\n",
    "df3za_copy=df3a[(df3a['day']==24) & (df3a['month']==3)]\n",
    "df3za_copy=df3za_copy.rename(columns={'Total':'Voice-F'})\n",
    "df3za_copy\n",
    "\n",
    "df3c=df3[df3.Data_main.str.contains('Voice-Charging-IntermediateInterrogation-Successful')]\n",
    "df3za_cop=df3c[(df3c['day']==23) &  (df3c['month']==3)]\n",
    "df3za_cop=df3za_cop.rename(columns={'Total':'Voice-I'})\n",
    "df3za_cop\n",
    "\n",
    "df3d=df3[df3.Data_main.str.contains('Voice-Charging-FinalReport-Successful')]\n",
    "df3za_o=df3d[(df3d['day']==23)& (df3d['month']==3)]\n",
    "df3za_o=df3za_o.rename(columns={'Total':'Voice-FR'})\n",
    "df3za_o\n",
    "\n",
    "##MERGING THE TABLES TO GET THE COMMON DATA\n",
    "\n",
    "df3Dfc=pd.merge(left=df3za_cop, right=df3za_copy, how='right', left_on='Time', right_on='Time')\n",
    "df3Dfc=pd.merge(left=df3Dfc, right=df3za_o, how='left', left_on='Time', right_on='Time')\n",
    "df3Dfc\n",
    "##DELETING NON REQUIRED COLUMNS\n",
    "df3Dfc.drop(['Data_main_x','Data_main_y','Tot_x','month','year','Data_main'],axis=1,inplace=True)\n",
    "df3Dfc.drop(['Tot_y','day_x','month_x','year_x','Tot','day'],axis=1,inplace=True)\n",
    "df3Dfc['Count']=df3Dfc['Voice-F']+df3Dfc['Voice-I']+df3Dfc['Voice-FR']\n",
    "df3Dfc['Count'].sum()"
   ]
  },
  {
   "cell_type": "markdown",
   "metadata": {},
   "source": [
    "sheet 6 df4"
   ]
  },
  {
   "cell_type": "code",
   "execution_count": 212,
   "metadata": {},
   "outputs": [
    {
     "data": {
      "text/plain": [
       "28616047.0"
      ]
     },
     "execution_count": 212,
     "metadata": {},
     "output_type": "execute_result"
    }
   ],
   "source": [
    "df4a=df4[df4.Data_main.str.contains('Voice-Charging-FirstInterrogation-Successful')]\n",
    "df4q_copy=df4a[(df4a['day']==24) & (df4a['month']==3)]\n",
    "df4q_copy=df4q_copy.rename(columns={'Total':'Voice-F'})\n",
    "df4q_copy['Voice-F'].sum()\n",
    "\n",
    "df4c=df4[df4.Data_main.str.contains('Voice-Charging-IntermediateInterrogation-Successful')]\n",
    "df4q_cop=df4c[(df4c['day']==24) &  (df4c['month']==3)]\n",
    "df4q_cop=df4q_cop.rename(columns={'Total':'Voice-I'})\n",
    "df4q_cop['Voice-I'].sum()\n",
    "\n",
    "df4d=df4[df4.Data_main.str.contains('Voice-Charging-FinalReport-Successful')]\n",
    "df4q_o=df4d[(df4d['day']==24)& (df4d['month']==3)]\n",
    "df4q_o=df4q_o.rename(columns={'Total':'Voice-FR'})\n",
    "df4q_o['Voice-FR'].sum()\n",
    "##MERGING THE TABLES TO GET THE COMMON DATA\n",
    "df4ad_=pd.merge(left=df4q_cop, right=df4q_copy, how='right', left_on='Time', right_on='Time')\n",
    "df4ad_=pd.merge(left=df4ad_, right=df4q_o, how='left', left_on='Time', right_on='Time')\n",
    "\n",
    "##DELETING NON REQUIRED COLUMNS\n",
    "df4ad_.drop(['Data_main_x','Data_main_y','Tot_x','month_x','year_y','Data_main'],axis=1,inplace=True)\n",
    "df4ad_.drop(['Tot_y','day_x','month_y','year_x','Tot','day_y'],axis=1,inplace=True)\n",
    "df4ad_['Count']=df4ad_['Voice-F']+df4ad_['Voice-I']+df4ad_['Voice-FR']\n",
    "\n",
    "df4ad_['Count'].sum()"
   ]
  },
  {
   "cell_type": "markdown",
   "metadata": {},
   "source": [
    "sheet 7 df5"
   ]
  },
  {
   "cell_type": "code",
   "execution_count": 213,
   "metadata": {},
   "outputs": [
    {
     "data": {
      "text/plain": [
       "20570375.0"
      ]
     },
     "execution_count": 213,
     "metadata": {},
     "output_type": "execute_result"
    }
   ],
   "source": [
    "df5c_=df5[df5.Data_main.str.contains('Voice-Charging-FirstInterrogation-Successful')]\n",
    "df5za_copy=df5c_[(df5c_['day']==24) &  (df5c_['month']==3)]\n",
    "df5za_copy=df5za_copy.rename(columns={'Total':'Voice-F'})\n",
    "\n",
    "\n",
    "df5c=df5[df5.Data_main.str.contains('Voice-Charging-IntermediateInterrogation-Successful')]\n",
    "df5za_cop=df5c[(df5c['day']==24) &  (df5c['month']==3)]\n",
    "df5za_cop=df5za_cop.rename(columns={'Total':'Voice-I'})\n",
    "\n",
    "df5d=df5[df5.Data_main.str.contains('Voice-Charging-FinalReport-Successful')]\n",
    "df5za_o=df5d[(df5d['day']==24)& (df5d['month']==3)]\n",
    "df5za_o=df5za_o.rename(columns={'Total':'Voice-FR'})\n",
    "\n",
    "##MERGING THE TABLES TO GET THE COMMON DATA\n",
    "df5Dfc=pd.merge(left=df5za_cop, right=df5za_copy, how='right', left_on='Time', right_on='Time')\n",
    "df5Dfc=pd.merge(left=df5Dfc, right=df5za_o, how='left', left_on='Time', right_on='Time')\n",
    "\n",
    "##DELETING NON REQUIRED COLUMNS\n",
    "df5Dfc.drop(['Data_main_x','Data_main_y','Tot_x','month_x','year_y','Data_main'],axis=1,inplace=True)\n",
    "df5Dfc.drop(['Tot_y','day_x','month_y','year_x','Tot','day_y'],axis=1,inplace=True)\n",
    "df5Dfc['Count']=df5Dfc['Voice-F']+df5Dfc['Voice-I']+df5Dfc['Voice-FR']\n",
    "\n",
    "df5Dfc['Count'].sum()"
   ]
  },
  {
   "cell_type": "code",
   "execution_count": 214,
   "metadata": {},
   "outputs": [
    {
     "data": {
      "text/plain": [
       "98610938.0"
      ]
     },
     "execution_count": 214,
     "metadata": {},
     "output_type": "execute_result"
    }
   ],
   "source": [
    "df6dhcop=df3Dfc['Count'].sum()+df5Dfc['Count'].sum()+df1O_c+df4ad_['Count'].sum()\n",
    "df6dhcop"
   ]
  },
  {
   "cell_type": "markdown",
   "metadata": {},
   "source": [
    "SMS CHARGING DAY 25"
   ]
  },
  {
   "cell_type": "code",
   "execution_count": 215,
   "metadata": {},
   "outputs": [
    {
     "data": {
      "text/plain": [
       "435607.0"
      ]
     },
     "execution_count": 215,
     "metadata": {},
     "output_type": "execute_result"
    }
   ],
   "source": [
    "df1e_copy=df1[df1.Data_main.str.contains('Messaging-Charging-Originating-Sms')]\n",
    "df1bi_cop=df1e_copy[(df1e_copy['day']==25) & (df1e_copy['month']==3)]\n",
    "df1bi_cop=df1bi_cop.rename(columns={'Total':'SMS'})\n",
    "df1bi_cop['SMS'].sum()\n",
    "\n",
    "\n",
    "df3ei_copy=df3[df3.Data_main.str.contains('Messaging-Charging-Originating-Sms')]\n",
    "df3W_c=df3ei_copy[(df3ei_copy['day']==25) & (df3ei_copy['month']==3)]\n",
    "df3W_c=df3W_c.rename(columns={'Total':'SMS'})\n",
    "df3W_c['SMS'].sum()\n",
    "\n",
    "df4e_copy=df4[df4.Data_main.str.contains('Messaging-Charging-Originating-Sms')]\n",
    "df4W_c=df4e_copy[(df4e_copy['day']==25) & (df4e_copy['month']==3)]\n",
    "df4W_c=df4W_c.rename(columns={'Total':'SMS'})\n",
    "df4W_c['SMS'].sum()\n",
    "\n",
    "df5e_copy=df5[df5.Data_main.str.contains('Messaging-Charging-Originating-Sms')]\n",
    "df5W_c=df5e_copy[(df5e_copy['day']==25) & (df5e_copy['month']==3)]\n",
    "df5W_c=df5W_c.rename(columns={'Total':'SMS'})\n",
    "df5W_c['SMS'].sum()"
   ]
  },
  {
   "cell_type": "code",
   "execution_count": 216,
   "metadata": {},
   "outputs": [
    {
     "data": {
      "text/plain": [
       "2247710.0"
      ]
     },
     "execution_count": 216,
     "metadata": {},
     "output_type": "execute_result"
    }
   ],
   "source": [
    "df6dlcopy=df1bi_cop['SMS'].sum()+df3W_c['SMS'].sum()+df4W_c['SMS'].sum()+df5W_c['SMS'].sum()\n",
    "df6dlcopy"
   ]
  },
  {
   "cell_type": "markdown",
   "metadata": {},
   "source": [
    "VOICE OPERATION DAY 25"
   ]
  },
  {
   "cell_type": "code",
   "execution_count": 217,
   "metadata": {},
   "outputs": [],
   "source": [
    "df1h=df1[df1.Data_main.str.contains('Voice-Charging-FirstInterrogation-Successful')]\n",
    "df1P_copy=df1h[(df1h['day']==25)& (df1h['month']==3)]\n",
    "df1P_copy=df1P_copy.rename(columns={'Total':'Voice-F'})\n",
    "df1P_copy['Voice-F'].sum()\n",
    "\n",
    "df1c=df1[df1.Data_main.str.contains('Voice-Charging-IntermediateInterrogation-Successful')]\n",
    "df1P_cop=df1c[(df1c['day']==25)&  (df1c['month']==3)]\n",
    "df1P_cop=df1P_cop.rename(columns={'Total':'Voice-I'})\n",
    "df1P_cop['Voice-I'].sum()\n",
    "\n",
    "df1K=df1[df1.Data_main.str.contains('Voice-Charging-FinalReport-Successful')]\n",
    "df1P_o=df1d[(df1d['day']==25)&(df1d['month']==3)]\n",
    "df1P_o=df1P_o.rename(columns={'Total':'Voice-FR'})\n",
    "df1P_o['Voice-FR'].sum()\n",
    "df1P_c=pd.DataFrame()\n",
    "df1P_c=df1P_copy['Voice-F'].sum()+df1P_cop['Voice-I'].sum()+df1P_o['Voice-FR'].sum()"
   ]
  },
  {
   "cell_type": "markdown",
   "metadata": {},
   "source": [
    "sheet 5 df3"
   ]
  },
  {
   "cell_type": "code",
   "execution_count": 218,
   "metadata": {},
   "outputs": [
    {
     "data": {
      "text/plain": [
       "20583963"
      ]
     },
     "execution_count": 218,
     "metadata": {},
     "output_type": "execute_result"
    }
   ],
   "source": [
    "df3a=df3[df3.Data_main.str.contains('Voice-Charging-FirstInterrogation-Successful')]\n",
    "df3zb_copy=df3a[(df3a['day']==25) & (df3a['month']==3)]\n",
    "df3zb_copy=df3zb_copy.rename(columns={'Total':'Voice-F'})\n",
    "df3zb_copy\n",
    "\n",
    "df3c=df3[df3.Data_main.str.contains('Voice-Charging-IntermediateInterrogation-Successful')]\n",
    "df3zb_cop=df3c[(df3c['day']==25) &  (df3c['month']==3)]\n",
    "df3zb_cop=df3zb_cop.rename(columns={'Total':'Voice-I'})\n",
    "df3zb_cop\n",
    "\n",
    "df3d=df3[df3.Data_main.str.contains('Voice-Charging-FinalReport-Successful')]\n",
    "df3zb_o=df3d[(df3d['day']==25)& (df3d['month']==3)]\n",
    "df3zb_o=df3zb_o.rename(columns={'Total':'Voice-FR'})\n",
    "df3zb_o\n",
    "\n",
    "##MERGING THE TABLES TO GET THE COMMON DATA\n",
    "\n",
    "df3Dgcopy=pd.merge(left=df3zb_cop, right=df3zb_copy, how='right', left_on='Time', right_on='Time')\n",
    "df3Dgcopy=pd.merge(left=df3Dgcopy, right=df3zb_o, how='left', left_on='Time', right_on='Time')\n",
    "df3Dgcopy\n",
    "##DELETING NON REQUIRED COLUMNS\n",
    "df3Dgcopy.drop(['Data_main_x','Data_main_y','Tot_x','month','year','Data_main'],axis=1,inplace=True)\n",
    "df3Dgcopy.drop(['Tot_y','day_x','month_x','year_x','Tot','day'],axis=1,inplace=True)\n",
    "df3Dgcopy['Count']=df3Dgcopy['Voice-F']+df3Dgcopy['Voice-I']+df3Dgcopy['Voice-FR']\n",
    "df3Dgcopy['Count'].sum()"
   ]
  },
  {
   "cell_type": "markdown",
   "metadata": {},
   "source": [
    "sheet 6 df4"
   ]
  },
  {
   "cell_type": "code",
   "execution_count": 219,
   "metadata": {},
   "outputs": [
    {
     "data": {
      "text/plain": [
       "29172309.0"
      ]
     },
     "execution_count": 219,
     "metadata": {},
     "output_type": "execute_result"
    }
   ],
   "source": [
    "df4a=df4[df4.Data_main.str.contains('Voice-Charging-FirstInterrogation-Successful')]\n",
    "df4r_copy=df4a[(df4a['day']==25) & (df4a['month']==3)]\n",
    "df4r_copy=df4r_copy.rename(columns={'Total':'Voice-F'})\n",
    "df4r_copy['Voice-F'].sum()\n",
    "\n",
    "df4c=df4[df4.Data_main.str.contains('Voice-Charging-IntermediateInterrogation-Successful')]\n",
    "df4r_cop=df4c[(df4c['day']==25) &  (df4c['month']==3)]\n",
    "df4r_cop=df4r_cop.rename(columns={'Total':'Voice-I'})\n",
    "df4r_cop['Voice-I'].sum()\n",
    "\n",
    "df4d=df4[df4.Data_main.str.contains('Voice-Charging-FinalReport-Successful')]\n",
    "df4r_o=df4d[(df4d['day']==25)& (df4d['month']==3)]\n",
    "df4r_o=df4r_o.rename(columns={'Total':'Voice-FR'})\n",
    "df4r_o['Voice-FR'].sum()\n",
    "##MERGING THE TABLES TO GET THE COMMON DATA\n",
    "df4ae_copy=pd.merge(left=df4r_cop, right=df4r_copy, how='right', left_on='Time', right_on='Time')\n",
    "df4ae_copy=pd.merge(left=df4ae_copy, right=df4r_o, how='left', left_on='Time', right_on='Time')\n",
    "\n",
    "##DELETING NON REQUIRED COLUMNS\n",
    "df4ae_copy.drop(['Data_main_x','Data_main_y','Tot_x','month_x','year_y','Data_main'],axis=1,inplace=True)\n",
    "df4ae_copy.drop(['Tot_y','day_x','month_y','year_x','Tot','day_y'],axis=1,inplace=True)\n",
    "df4ae_copy['Count']=df4ae_copy['Voice-F']+df4ae_copy['Voice-I']+df4ae_copy['Voice-FR']\n",
    "\n",
    "df4ae_copy['Count'].sum()"
   ]
  },
  {
   "cell_type": "markdown",
   "metadata": {},
   "source": [
    "sheet 7 df5"
   ]
  },
  {
   "cell_type": "code",
   "execution_count": 220,
   "metadata": {},
   "outputs": [
    {
     "data": {
      "text/plain": [
       "20584104.0"
      ]
     },
     "execution_count": 220,
     "metadata": {},
     "output_type": "execute_result"
    }
   ],
   "source": [
    "df5c_=df5[df5.Data_main.str.contains('Voice-Charging-FirstInterrogation-Successful')]\n",
    "df5zb_copy=df5c_[(df5c_['day']==25) &  (df5c_['month']==3)]\n",
    "df5zb_copy=df5zb_copy.rename(columns={'Total':'Voice-F'})\n",
    "\n",
    "\n",
    "df5c=df5[df5.Data_main.str.contains('Voice-Charging-IntermediateInterrogation-Successful')]\n",
    "df5zb_cop=df5c[(df5c['day']==25) &  (df5c['month']==3)]\n",
    "df5zb_cop=df5zb_cop.rename(columns={'Total':'Voice-I'})\n",
    "\n",
    "df5d=df5[df5.Data_main.str.contains('Voice-Charging-FinalReport-Successful')]\n",
    "df5zb_o=df5d[(df5d['day']==25)& (df5d['month']==3)]\n",
    "df5zb_o=df5zb_o.rename(columns={'Total':'Voice-FR'})\n",
    "\n",
    "##MERGING THE TABLES TO GET THE COMMON DATA\n",
    "df5Dgcopy=pd.merge(left=df5zb_cop, right=df5zb_copy, how='right', left_on='Time', right_on='Time')\n",
    "df5Dgcopy=pd.merge(left=df5Dgcopy, right=df5zb_o, how='left', left_on='Time', right_on='Time')\n",
    "\n",
    "##DELETING NON REQUIRED COLUMNS\n",
    "df5Dgcopy.drop(['Data_main_x','Data_main_y','Tot_x','month_x','year_y','Data_main'],axis=1,inplace=True)\n",
    "df5Dgcopy.drop(['Tot_y','day_x','month_y','year_x','Tot','day_y'],axis=1,inplace=True)\n",
    "df5Dgcopy['Count']=df5Dgcopy['Voice-F']+df5Dgcopy['Voice-I']+df5Dgcopy['Voice-FR']\n",
    "\n",
    "df5Dgcopy['Count'].sum()"
   ]
  },
  {
   "cell_type": "code",
   "execution_count": 221,
   "metadata": {},
   "outputs": [
    {
     "data": {
      "text/plain": [
       "99517602.0"
      ]
     },
     "execution_count": 221,
     "metadata": {},
     "output_type": "execute_result"
    }
   ],
   "source": [
    "df6dhco=df3Dgcopy['Count'].sum()+df5Dgcopy['Count'].sum()+df1P_c+df4ae_copy['Count'].sum()\n",
    "df6dhco"
   ]
  },
  {
   "cell_type": "markdown",
   "metadata": {},
   "source": [
    "SMS CHARGING DAY 26"
   ]
  },
  {
   "cell_type": "code",
   "execution_count": 222,
   "metadata": {},
   "outputs": [
    {
     "data": {
      "text/plain": [
       "423348.0"
      ]
     },
     "execution_count": 222,
     "metadata": {},
     "output_type": "execute_result"
    }
   ],
   "source": [
    "df1e_copy=df1[df1.Data_main.str.contains('Messaging-Charging-Originating-Sms')]\n",
    "df1bi_co=df1e_copy[(df1e_copy['day']==26) & (df1e_copy['month']==3)]\n",
    "df1bi_co=df1bi_co.rename(columns={'Total':'SMS'})\n",
    "df1bi_co['SMS'].sum()\n",
    "\n",
    "\n",
    "df3ei_copy=df3[df3.Data_main.str.contains('Messaging-Charging-Originating-Sms')]\n",
    "df3X_copy=df3ei_copy[(df3ei_copy['day']==26) & (df3ei_copy['month']==3)]\n",
    "df3X_copy=df3X_copy.rename(columns={'Total':'SMS'})\n",
    "df3X_copy['SMS'].sum()\n",
    "\n",
    "df4e_copy=df4[df4.Data_main.str.contains('Messaging-Charging-Originating-Sms')]\n",
    "df4X_copy=df4e_copy[(df4e_copy['day']==26) & (df4e_copy['month']==3)]\n",
    "df4X_copy=df4X_copy.rename(columns={'Total':'SMS'})\n",
    "df4X_copy['SMS'].sum()\n",
    "\n",
    "df5e_copy=df5[df5.Data_main.str.contains('Messaging-Charging-Originating-Sms')]\n",
    "df5X_copy=df5e_copy[(df5e_copy['day']==26) & (df5e_copy['month']==3)]\n",
    "df5X_copy=df5X_copy.rename(columns={'Total':'SMS'})\n",
    "df5X_copy['SMS'].sum()"
   ]
  },
  {
   "cell_type": "code",
   "execution_count": 223,
   "metadata": {},
   "outputs": [
    {
     "data": {
      "text/plain": [
       "2166738.0"
      ]
     },
     "execution_count": 223,
     "metadata": {},
     "output_type": "execute_result"
    }
   ],
   "source": [
    "df6dlcop=df1bi_co['SMS'].sum()+df3X_copy['SMS'].sum()+df4X_copy['SMS'].sum()+df5X_copy['SMS'].sum()\n",
    "df6dlcop"
   ]
  },
  {
   "cell_type": "markdown",
   "metadata": {},
   "source": [
    "VOICE OPERATION DAY 26"
   ]
  },
  {
   "cell_type": "code",
   "execution_count": 224,
   "metadata": {},
   "outputs": [],
   "source": [
    "df1h=df1[df1.Data_main.str.contains('Voice-Charging-FirstInterrogation-Successful')]\n",
    "df1Q_copy=df1h[(df1h['day']==26)& (df1h['month']==3)]\n",
    "df1Q_copy=df1Q_copy.rename(columns={'Total':'Voice-F'})\n",
    "df1Q_copy['Voice-F'].sum()\n",
    "\n",
    "df1c=df1[df1.Data_main.str.contains('Voice-Charging-IntermediateInterrogation-Successful')]\n",
    "df1Q_cop=df1c[(df1c['day']==26)&  (df1c['month']==3)]\n",
    "df1Q_cop=df1Q_cop.rename(columns={'Total':'Voice-I'})\n",
    "df1Q_cop['Voice-I'].sum()\n",
    "\n",
    "df1K=df1[df1.Data_main.str.contains('Voice-Charging-FinalReport-Successful')]\n",
    "df1Q_o=df1d[(df1d['day']==26)&(df1d['month']==3)]\n",
    "df1Q_o=df1Q_o.rename(columns={'Total':'Voice-FR'})\n",
    "df1Q_o['Voice-FR'].sum()\n",
    "df1Q_c=pd.DataFrame()\n",
    "df1Q_c=df1Q_copy['Voice-F'].sum()+df1Q_cop['Voice-I'].sum()+df1Q_o['Voice-FR'].sum()"
   ]
  },
  {
   "cell_type": "markdown",
   "metadata": {},
   "source": [
    "sheet 5 df3"
   ]
  },
  {
   "cell_type": "code",
   "execution_count": 225,
   "metadata": {},
   "outputs": [
    {
     "data": {
      "text/plain": [
       "20762866"
      ]
     },
     "execution_count": 225,
     "metadata": {},
     "output_type": "execute_result"
    }
   ],
   "source": [
    "df3a=df3[df3.Data_main.str.contains('Voice-Charging-FirstInterrogation-Successful')]\n",
    "df3zc_copy=df3a[(df3a['day']==26) & (df3a['month']==3)]\n",
    "df3zc_copy=df3zc_copy.rename(columns={'Total':'Voice-F'})\n",
    "df3zc_copy\n",
    "\n",
    "df3c=df3[df3.Data_main.str.contains('Voice-Charging-IntermediateInterrogation-Successful')]\n",
    "df3zc_cop=df3c[(df3c['day']==26) &  (df3c['month']==3)]\n",
    "df3zc_cop=df3zc_cop.rename(columns={'Total':'Voice-I'})\n",
    "df3zc_cop\n",
    "\n",
    "df3d=df3[df3.Data_main.str.contains('Voice-Charging-FinalReport-Successful')]\n",
    "df3zc_o=df3d[(df3d['day']==26)& (df3d['month']==3)]\n",
    "df3zc_o=df3zc_o.rename(columns={'Total':'Voice-FR'})\n",
    "df3zc_o\n",
    "\n",
    "##MERGING THE TABLES TO GET THE COMMON DATA\n",
    "\n",
    "df3Dgco=pd.merge(left=df3zc_cop, right=df3zc_copy, how='right', left_on='Time', right_on='Time')\n",
    "df3Dgco=pd.merge(left=df3Dgco, right=df3zc_o, how='left', left_on='Time', right_on='Time')\n",
    "df3Dgco\n",
    "##DELETING NON REQUIRED COLUMNS\n",
    "df3Dgco.drop(['Data_main_x','Data_main_y','Tot_x','month','year','Data_main'],axis=1,inplace=True)\n",
    "df3Dgco.drop(['Tot_y','day_x','month_x','year_x','Tot','day'],axis=1,inplace=True)\n",
    "df3Dgco['Count']=df3Dgco['Voice-F']+df3Dgco['Voice-I']+df3Dgco['Voice-FR']\n",
    "df3Dgco['Count'].sum()"
   ]
  },
  {
   "cell_type": "markdown",
   "metadata": {},
   "source": [
    "sheet 6 df4"
   ]
  },
  {
   "cell_type": "code",
   "execution_count": 226,
   "metadata": {},
   "outputs": [
    {
     "data": {
      "text/plain": [
       "28974981.0"
      ]
     },
     "execution_count": 226,
     "metadata": {},
     "output_type": "execute_result"
    }
   ],
   "source": [
    "df4a=df4[df4.Data_main.str.contains('Voice-Charging-FirstInterrogation-Successful')]\n",
    "df4s_copy=df4a[(df4a['day']==26) & (df4a['month']==3)]\n",
    "df4s_copy=df4s_copy.rename(columns={'Total':'Voice-F'})\n",
    "df4s_copy['Voice-F'].sum()\n",
    "\n",
    "df4c=df4[df4.Data_main.str.contains('Voice-Charging-IntermediateInterrogation-Successful')]\n",
    "df4s_cop=df4c[(df4c['day']==26) &  (df4c['month']==3)]\n",
    "df4s_cop=df4s_cop.rename(columns={'Total':'Voice-I'})\n",
    "df4s_cop['Voice-I'].sum()\n",
    "\n",
    "df4d=df4[df4.Data_main.str.contains('Voice-Charging-FinalReport-Successful')]\n",
    "df4s_o=df4d[(df4d['day']==26)& (df4d['month']==3)]\n",
    "df4s_o=df4s_o.rename(columns={'Total':'Voice-FR'})\n",
    "df4s_o['Voice-FR'].sum()\n",
    "##MERGING THE TABLES TO GET THE COMMON DATA\n",
    "df4ae_cop=pd.merge(left=df4s_cop, right=df4s_copy, how='right', left_on='Time', right_on='Time')\n",
    "df4ae_cop=pd.merge(left=df4ae_cop, right=df4s_o, how='left', left_on='Time', right_on='Time')\n",
    "\n",
    "##DELETING NON REQUIRED COLUMNS\n",
    "df4ae_cop.drop(['Data_main_x','Data_main_y','Tot_x','month_x','year_y','Data_main'],axis=1,inplace=True)\n",
    "df4ae_cop.drop(['Tot_y','day_x','month_y','year_x','Tot','day_y'],axis=1,inplace=True)\n",
    "df4ae_cop['Count']=df4ae_cop['Voice-F']+df4ae_cop['Voice-I']+df4ae_cop['Voice-FR']\n",
    "\n",
    "df4ae_cop['Count'].sum()"
   ]
  },
  {
   "cell_type": "markdown",
   "metadata": {},
   "source": [
    "sheet 7 df5"
   ]
  },
  {
   "cell_type": "code",
   "execution_count": 227,
   "metadata": {},
   "outputs": [
    {
     "data": {
      "text/plain": [
       "20763784.0"
      ]
     },
     "execution_count": 227,
     "metadata": {},
     "output_type": "execute_result"
    }
   ],
   "source": [
    "df5c_=df5[df5.Data_main.str.contains('Voice-Charging-FirstInterrogation-Successful')]\n",
    "df5zc_copy=df5c_[(df5c_['day']==26) &  (df5c_['month']==3)]\n",
    "df5zc_copy=df5zc_copy.rename(columns={'Total':'Voice-F'})\n",
    "\n",
    "\n",
    "df5c=df5[df5.Data_main.str.contains('Voice-Charging-IntermediateInterrogation-Successful')]\n",
    "df5zc_cop=df5c[(df5c['day']==26) &  (df5c['month']==3)]\n",
    "df5zc_cop=df5zc_cop.rename(columns={'Total':'Voice-I'})\n",
    "\n",
    "df5d=df5[df5.Data_main.str.contains('Voice-Charging-FinalReport-Successful')]\n",
    "df5zc_o=df5d[(df5d['day']==26)& (df5d['month']==3)]\n",
    "df5zc_o=df5zc_o.rename(columns={'Total':'Voice-FR'})\n",
    "\n",
    "##MERGING THE TABLES TO GET THE COMMON DATA\n",
    "df5Dgco=pd.merge(left=df5zc_cop, right=df5zc_copy, how='right', left_on='Time', right_on='Time')\n",
    "df5Dgco=pd.merge(left=df5Dgco, right=df5zc_o, how='left', left_on='Time', right_on='Time')\n",
    "\n",
    "##DELETING NON REQUIRED COLUMNS\n",
    "df5Dgco.drop(['Data_main_x','Data_main_y','Tot_x','month_x','year_y','Data_main'],axis=1,inplace=True)\n",
    "df5Dgco.drop(['Tot_y','day_x','month_y','year_x','Tot','day_y'],axis=1,inplace=True)\n",
    "df5Dgco['Count']=df5Dgco['Voice-F']+df5Dgco['Voice-I']+df5Dgco['Voice-FR']\n",
    "\n",
    "df5Dgco['Count'].sum()"
   ]
  },
  {
   "cell_type": "code",
   "execution_count": 228,
   "metadata": {},
   "outputs": [
    {
     "data": {
      "text/plain": [
       "99483514.0"
      ]
     },
     "execution_count": 228,
     "metadata": {},
     "output_type": "execute_result"
    }
   ],
   "source": [
    "df6dhc=df3Dgco['Count'].sum()+df5Dgco['Count'].sum()+df1Q_c+df4ae_cop['Count'].sum()\n",
    "df6dhc"
   ]
  },
  {
   "cell_type": "markdown",
   "metadata": {},
   "source": [
    "SMS CHARGING DAY 27"
   ]
  },
  {
   "cell_type": "code",
   "execution_count": 229,
   "metadata": {},
   "outputs": [
    {
     "data": {
      "text/plain": [
       "429769.0"
      ]
     },
     "execution_count": 229,
     "metadata": {},
     "output_type": "execute_result"
    }
   ],
   "source": [
    "df1e_copy=df1[df1.Data_main.str.contains('Messaging-Charging-Originating-Sms')]\n",
    "df1bi_c=df1e_copy[(df1e_copy['day']==27) & (df1e_copy['month']==3)]\n",
    "df1bi_c=df1bi_c.rename(columns={'Total':'SMS'})\n",
    "df1bi_c['SMS'].sum()\n",
    "\n",
    "\n",
    "df3ei_copy=df3[df3.Data_main.str.contains('Messaging-Charging-Originating-Sms')]\n",
    "df3X_cop=df3ei_copy[(df3ei_copy['day']==27) & (df3ei_copy['month']==3)]\n",
    "df3X_cop=df3X_cop.rename(columns={'Total':'SMS'})\n",
    "df3X_cop['SMS'].sum()\n",
    "\n",
    "df4e_copy=df4[df4.Data_main.str.contains('Messaging-Charging-Originating-Sms')]\n",
    "df4X_cop=df4e_copy[(df4e_copy['day']==27) & (df4e_copy['month']==3)]\n",
    "df4X_cop=df4X_cop.rename(columns={'Total':'SMS'})\n",
    "df4X_cop['SMS'].sum()\n",
    "\n",
    "df5e_copy=df5[df5.Data_main.str.contains('Messaging-Charging-Originating-Sms')]\n",
    "df5X_cop=df5e_copy[(df5e_copy['day']==27) & (df5e_copy['month']==3)]\n",
    "df5X_cop=df5X_cop.rename(columns={'Total':'SMS'})\n",
    "df5X_cop['SMS'].sum()"
   ]
  },
  {
   "cell_type": "code",
   "execution_count": 230,
   "metadata": {},
   "outputs": [
    {
     "data": {
      "text/plain": [
       "2207800.0"
      ]
     },
     "execution_count": 230,
     "metadata": {},
     "output_type": "execute_result"
    }
   ],
   "source": [
    "df6dlco=df1bi_c['SMS'].sum()+df3X_cop['SMS'].sum()+df4X_cop['SMS'].sum()+df5X_cop['SMS'].sum()\n",
    "df6dlco"
   ]
  },
  {
   "cell_type": "markdown",
   "metadata": {},
   "source": [
    "VOICE OPERATION DAY 27"
   ]
  },
  {
   "cell_type": "code",
   "execution_count": 231,
   "metadata": {},
   "outputs": [],
   "source": [
    "df1h=df1[df1.Data_main.str.contains('Voice-Charging-FirstInterrogation-Successful')]\n",
    "df1R_copy=df1h[(df1h['day']==27)& (df1h['month']==3)]\n",
    "df1R_copy=df1R_copy.rename(columns={'Total':'Voice-F'})\n",
    "df1R_copy['Voice-F'].sum()\n",
    "\n",
    "df1c=df1[df1.Data_main.str.contains('Voice-Charging-IntermediateInterrogation-Successful')]\n",
    "df1R_cop=df1c[(df1c['day']==27)&  (df1c['month']==3)]\n",
    "df1R_cop=df1R_cop.rename(columns={'Total':'Voice-I'})\n",
    "df1R_cop['Voice-I'].sum()\n",
    "\n",
    "df1K=df1[df1.Data_main.str.contains('Voice-Charging-FinalReport-Successful')]\n",
    "df1R_o=df1d[(df1d['day']==27)&(df1d['month']==3)]\n",
    "df1R_o=df1R_o.rename(columns={'Total':'Voice-FR'})\n",
    "df1R_o['Voice-FR'].sum()\n",
    "df1R_c=pd.DataFrame()\n",
    "df1R_c=df1R_copy['Voice-F'].sum()+df1R_cop['Voice-I'].sum()+df1R_o['Voice-FR'].sum()"
   ]
  },
  {
   "cell_type": "markdown",
   "metadata": {},
   "source": [
    "sheet 5 df3"
   ]
  },
  {
   "cell_type": "code",
   "execution_count": 232,
   "metadata": {},
   "outputs": [
    {
     "data": {
      "text/plain": [
       "22352219.0"
      ]
     },
     "execution_count": 232,
     "metadata": {},
     "output_type": "execute_result"
    }
   ],
   "source": [
    "df3a=df3[df3.Data_main.str.contains('Voice-Charging-FirstInterrogation-Successful')]\n",
    "df3zd_copy=df3a[(df3a['day']==27) & (df3a['month']==3)]\n",
    "df3zd_copy=df3zd_copy.rename(columns={'Total':'Voice-F'})\n",
    "df3zd_copy\n",
    "\n",
    "df3c=df3[df3.Data_main.str.contains('Voice-Charging-IntermediateInterrogation-Successful')]\n",
    "df3zd_cop=df3c[(df3c['day']==27) &  (df3c['month']==3)]\n",
    "df3zd_cop=df3zd_cop.rename(columns={'Total':'Voice-I'})\n",
    "df3zd_cop\n",
    "\n",
    "df3d=df3[df3.Data_main.str.contains('Voice-Charging-FinalReport-Successful')]\n",
    "df3zd_o=df3d[(df3d['day']==27)& (df3d['month']==3)]\n",
    "df3zd_o=df3zd_o.rename(columns={'Total':'Voice-FR'})\n",
    "df3zd_o\n",
    "\n",
    "##MERGING THE TABLES TO GET THE COMMON DATA\n",
    "\n",
    "df3Dhcopy=pd.merge(left=df3zd_cop, right=df3zd_copy, how='right', left_on='Time', right_on='Time')\n",
    "df3Dhcopy=pd.merge(left=df3Dhcopy, right=df3zd_o, how='left', left_on='Time', right_on='Time')\n",
    "df3Dhcopy\n",
    "##DELETING NON REQUIRED COLUMNS\n",
    "df3Dhcopy.drop(['Data_main_x','Data_main_y','Tot_x','month','year','Data_main'],axis=1,inplace=True)\n",
    "df3Dhcopy.drop(['Tot_y','day_x','month_x','year_x','Tot','day'],axis=1,inplace=True)\n",
    "df3Dhcopy['Count']=df3Dhcopy['Voice-F']+df3Dhcopy['Voice-I']+df3Dhcopy['Voice-FR']\n",
    "df3Dhcopy['Count'].sum()"
   ]
  },
  {
   "cell_type": "markdown",
   "metadata": {},
   "source": [
    "sheet 6 df4"
   ]
  },
  {
   "cell_type": "code",
   "execution_count": 233,
   "metadata": {},
   "outputs": [
    {
     "data": {
      "text/plain": [
       "29194143.0"
      ]
     },
     "execution_count": 233,
     "metadata": {},
     "output_type": "execute_result"
    }
   ],
   "source": [
    "df4a=df4[df4.Data_main.str.contains('Voice-Charging-FirstInterrogation-Successful')]\n",
    "df4t_copy=df4a[(df4a['day']==19) & (df4a['month']==3)]\n",
    "df4t_copy=df4l_copy.rename(columns={'Total':'Voice-F'})\n",
    "df4t_copy['Voice-F'].sum()\n",
    "\n",
    "df4c=df4[df4.Data_main.str.contains('Voice-Charging-IntermediateInterrogation-Successful')]\n",
    "df4t_cop=df4c[(df4c['day']==19) &  (df4c['month']==3)]\n",
    "df4t_cop=df4l_cop.rename(columns={'Total':'Voice-I'})\n",
    "df4t_cop['Voice-I'].sum()\n",
    "\n",
    "df4d=df4[df4.Data_main.str.contains('Voice-Charging-FinalReport-Successful')]\n",
    "df4t_o=df4d[(df4d['day']==19)& (df4d['month']==3)]\n",
    "df4t_o=df4l_o.rename(columns={'Total':'Voice-FR'})\n",
    "df4t_o['Voice-FR'].sum()\n",
    "##MERGING THE TABLES TO GET THE COMMON DATA\n",
    "df4ae_co=pd.merge(left=df4t_cop, right=df4t_copy, how='right', left_on='Time', right_on='Time')\n",
    "df4ae_co=pd.merge(left=df4ae_co, right=df4t_o, how='left', left_on='Time', right_on='Time')\n",
    "\n",
    "##DELETING NON REQUIRED COLUMNS\n",
    "df4ae_co.drop(['Data_main_x','Data_main_y','Tot_x','month_x','year_y','Data_main'],axis=1,inplace=True)\n",
    "df4ae_co.drop(['Tot_y','day_x','month_y','year_x','Tot','day_y'],axis=1,inplace=True)\n",
    "df4ae_co['Count']=df4ae_co['Voice-F']+df4ae_co['Voice-I']+df4ae_co['Voice-FR']\n",
    "\n",
    "df4ae_co['Count'].sum()"
   ]
  },
  {
   "cell_type": "markdown",
   "metadata": {},
   "source": [
    "sheet 7 df5"
   ]
  },
  {
   "cell_type": "code",
   "execution_count": 234,
   "metadata": {},
   "outputs": [
    {
     "data": {
      "text/plain": [
       "22353912.0"
      ]
     },
     "execution_count": 234,
     "metadata": {},
     "output_type": "execute_result"
    }
   ],
   "source": [
    "df5c_=df5[df5.Data_main.str.contains('Voice-Charging-FirstInterrogation-Successful')]\n",
    "df5zd_copy=df5c_[(df5c_['day']==27) &  (df5c_['month']==3)]\n",
    "df5zd_copy=df5zd_copy.rename(columns={'Total':'Voice-F'})\n",
    "\n",
    "\n",
    "df5c=df5[df5.Data_main.str.contains('Voice-Charging-IntermediateInterrogation-Successful')]\n",
    "df5zd_cop=df5c[(df5c['day']==27) &  (df5c['month']==3)]\n",
    "df5zd_cop=df5zd_cop.rename(columns={'Total':'Voice-I'})\n",
    "\n",
    "df5d=df5[df5.Data_main.str.contains('Voice-Charging-FinalReport-Successful')]\n",
    "df5zd_o=df5d[(df5d['day']==27)& (df5d['month']==3)]\n",
    "df5zd_o=df5zd_o.rename(columns={'Total':'Voice-FR'})\n",
    "\n",
    "##MERGING THE TABLES TO GET THE COMMON DATA\n",
    "df5Dhcopy=pd.merge(left=df5zd_cop, right=df5zd_copy, how='right', left_on='Time', right_on='Time')\n",
    "df5Dhcopy=pd.merge(left=df5Dhcopy, right=df5zd_o, how='left', left_on='Time', right_on='Time')\n",
    "\n",
    "##DELETING NON REQUIRED COLUMNS\n",
    "df5Dhcopy.drop(['Data_main_x','Data_main_y','Tot_x','month_x','year_y','Data_main'],axis=1,inplace=True)\n",
    "df5Dhcopy.drop(['Tot_y','day_x','month_y','year_x','Tot','day_y'],axis=1,inplace=True)\n",
    "df5Dhcopy['Count']=df5Dhcopy['Voice-F']+df5Dhcopy['Voice-I']+df5Dhcopy['Voice-FR']\n",
    "\n",
    "df5Dhcopy['Count'].sum()"
   ]
  },
  {
   "cell_type": "code",
   "execution_count": 235,
   "metadata": {},
   "outputs": [
    {
     "data": {
      "text/plain": [
       "106072724.0"
      ]
     },
     "execution_count": 235,
     "metadata": {},
     "output_type": "execute_result"
    }
   ],
   "source": [
    "df6di_copy=df3Dhcopy['Count'].sum()+df5Dhcopy['Count'].sum()+df1R_c+df4ae_co['Count'].sum()\n",
    "df6di_copy"
   ]
  },
  {
   "cell_type": "markdown",
   "metadata": {},
   "source": [
    "SMS CHARGING DAY 28"
   ]
  },
  {
   "cell_type": "code",
   "execution_count": 236,
   "metadata": {},
   "outputs": [
    {
     "data": {
      "text/plain": [
       "420625.0"
      ]
     },
     "execution_count": 236,
     "metadata": {},
     "output_type": "execute_result"
    }
   ],
   "source": [
    "df1e_copy=df1[df1.Data_main.str.contains('Messaging-Charging-Originating-Sms')]\n",
    "df1Ci_copy=df1e_copy[(df1e_copy['day']==28) & (df1e_copy['month']==3)]\n",
    "df1Ci_copy=df1Ci_copy.rename(columns={'Total':'SMS'})\n",
    "df1Ci_copy['SMS'].sum()\n",
    "\n",
    "\n",
    "df3ei_copy=df3[df3.Data_main.str.contains('Messaging-Charging-Originating-Sms')]\n",
    "df3X_co=df3ei_copy[(df3ei_copy['day']==28) & (df3ei_copy['month']==3)]\n",
    "df3X_co=df3X_co.rename(columns={'Total':'SMS'})\n",
    "df3X_co['SMS'].sum()\n",
    "\n",
    "df4e_copy=df4[df4.Data_main.str.contains('Messaging-Charging-Originating-Sms')]\n",
    "df4X_co=df4e_copy[(df4e_copy['day']==28) & (df4e_copy['month']==3)]\n",
    "df4X_co=df4X_co.rename(columns={'Total':'SMS'})\n",
    "df4X_co['SMS'].sum()\n",
    "\n",
    "df5e_copy=df5[df5.Data_main.str.contains('Messaging-Charging-Originating-Sms')]\n",
    "df5X_co=df5e_copy[(df5e_copy['day']==28) & (df5e_copy['month']==3)]\n",
    "df5X_co=df5X_co.rename(columns={'Total':'SMS'})\n",
    "df5X_co['SMS'].sum()"
   ]
  },
  {
   "cell_type": "code",
   "execution_count": 237,
   "metadata": {},
   "outputs": [
    {
     "data": {
      "text/plain": [
       "2184129.0"
      ]
     },
     "execution_count": 237,
     "metadata": {},
     "output_type": "execute_result"
    }
   ],
   "source": [
    "df6dlc=df1Ci_copy['SMS'].sum()+df3X_co['SMS'].sum()+df4X_co['SMS'].sum()+df5X_co['SMS'].sum()\n",
    "df6dlc"
   ]
  },
  {
   "cell_type": "markdown",
   "metadata": {},
   "source": [
    "VOICE OPERATION DAY 28"
   ]
  },
  {
   "cell_type": "code",
   "execution_count": 238,
   "metadata": {},
   "outputs": [],
   "source": [
    "df1h=df1[df1.Data_main.str.contains('Voice-Charging-FirstInterrogation-Successful')]\n",
    "df1S_copy=df1h[(df1h['day']==28)& (df1h['month']==3)]\n",
    "df1S_copy=df1S_copy.rename(columns={'Total':'Voice-F'})\n",
    "df1S_copy['Voice-F'].sum()\n",
    "\n",
    "df1c=df1[df1.Data_main.str.contains('Voice-Charging-IntermediateInterrogation-Successful')]\n",
    "df1S_cop=df1c[(df1c['day']==28)&  (df1c['month']==3)]\n",
    "df1S_cop=df1S_cop.rename(columns={'Total':'Voice-I'})\n",
    "df1S_cop['Voice-I'].sum()\n",
    "\n",
    "df1K=df1[df1.Data_main.str.contains('Voice-Charging-FinalReport-Successful')]\n",
    "df1S_o=df1d[(df1d['day']==28)&(df1d['month']==3)]\n",
    "df1S_o=df1S_o.rename(columns={'Total':'Voice-FR'})\n",
    "df1S_o['Voice-FR'].sum()\n",
    "df1S_c=pd.DataFrame()\n",
    "df1S_c=df1S_copy['Voice-F'].sum()+df1S_cop['Voice-I'].sum()+df1S_o['Voice-FR'].sum()"
   ]
  },
  {
   "cell_type": "markdown",
   "metadata": {},
   "source": [
    "sheet 5 df3"
   ]
  },
  {
   "cell_type": "code",
   "execution_count": 239,
   "metadata": {},
   "outputs": [
    {
     "data": {
      "text/plain": [
       "20874333"
      ]
     },
     "execution_count": 239,
     "metadata": {},
     "output_type": "execute_result"
    }
   ],
   "source": [
    "df3a=df3[df3.Data_main.str.contains('Voice-Charging-FirstInterrogation-Successful')]\n",
    "df3ze_copy=df3a[(df3a['day']==28) & (df3a['month']==3)]\n",
    "df3ze_copy=df3ze_copy.rename(columns={'Total':'Voice-F'})\n",
    "df3ze_copy\n",
    "\n",
    "df3c=df3[df3.Data_main.str.contains('Voice-Charging-IntermediateInterrogation-Successful')]\n",
    "df3ze_cop=df3c[(df3c['day']==28) &  (df3c['month']==3)]\n",
    "df3ze_cop=df3ze_cop.rename(columns={'Total':'Voice-I'})\n",
    "df3ze_cop\n",
    "\n",
    "df3d=df3[df3.Data_main.str.contains('Voice-Charging-FinalReport-Successful')]\n",
    "df3ze_o=df3d[(df3d['day']==28)& (df3d['month']==3)]\n",
    "df3ze_o=df3ze_o.rename(columns={'Total':'Voice-FR'})\n",
    "df3ze_o\n",
    "\n",
    "##MERGING THE TABLES TO GET THE COMMON DATA\n",
    "\n",
    "df3Dhcop=pd.merge(left=df3ze_cop, right=df3ze_copy, how='right', left_on='Time', right_on='Time')\n",
    "df3Dhcop=pd.merge(left=df3Dhcop, right=df3ze_o, how='left', left_on='Time', right_on='Time')\n",
    "df3Dhcop\n",
    "##DELETING NON REQUIRED COLUMNS\n",
    "df3Dhcop.drop(['Data_main_x','Data_main_y','Tot_x','month','year','Data_main'],axis=1,inplace=True)\n",
    "df3Dhcop.drop(['Tot_y','day_x','month_x','year_x','Tot','day'],axis=1,inplace=True)\n",
    "df3Dhcop['Count']=df3Dhcop['Voice-F']+df3Dhcop['Voice-I']+df3Dhcop['Voice-FR']\n",
    "df3Dhcop['Count'].sum()"
   ]
  },
  {
   "cell_type": "markdown",
   "metadata": {},
   "source": [
    "sheet 6 df4"
   ]
  },
  {
   "cell_type": "code",
   "execution_count": 240,
   "metadata": {},
   "outputs": [
    {
     "data": {
      "text/plain": [
       "29092197.0"
      ]
     },
     "execution_count": 240,
     "metadata": {},
     "output_type": "execute_result"
    }
   ],
   "source": [
    "df4a=df4[df4.Data_main.str.contains('Voice-Charging-FirstInterrogation-Successful')]\n",
    "df4u_copy=df4a[(df4a['day']==28) & (df4a['month']==3)]\n",
    "df4u_copy=df4u_copy.rename(columns={'Total':'Voice-F'})\n",
    "df4u_copy['Voice-F'].sum()\n",
    "\n",
    "df4c=df4[df4.Data_main.str.contains('Voice-Charging-IntermediateInterrogation-Successful')]\n",
    "df4u_cop=df4c[(df4c['day']==28) &  (df4c['month']==3)]\n",
    "df4u_cop=df4u_cop.rename(columns={'Total':'Voice-I'})\n",
    "df4u_cop['Voice-I'].sum()\n",
    "\n",
    "df4d=df4[df4.Data_main.str.contains('Voice-Charging-FinalReport-Successful')]\n",
    "df4u_o=df4d[(df4d['day']==28)& (df4d['month']==3)]\n",
    "df4u_o=df4u_o.rename(columns={'Total':'Voice-FR'})\n",
    "df4u_o['Voice-FR'].sum()\n",
    "##MERGING THE TABLES TO GET THE COMMON DATA\n",
    "df4ae_c=pd.merge(left=df4u_cop, right=df4u_copy, how='right', left_on='Time', right_on='Time')\n",
    "df4ae_c=pd.merge(left=df4ae_c, right=df4u_o, how='left', left_on='Time', right_on='Time')\n",
    "\n",
    "##DELETING NON REQUIRED COLUMNS\n",
    "df4ae_c.drop(['Data_main_x','Data_main_y','Tot_x','month_x','year_y','Data_main'],axis=1,inplace=True)\n",
    "df4ae_c.drop(['Tot_y','day_x','month_y','year_x','Tot','day_y'],axis=1,inplace=True)\n",
    "df4ae_c['Count']=df4ae_c['Voice-F']+df4ae_c['Voice-I']+df4ae_c['Voice-FR']\n",
    "\n",
    "df4ae_c['Count'].sum()"
   ]
  },
  {
   "cell_type": "markdown",
   "metadata": {},
   "source": [
    "sheet 7 df5"
   ]
  },
  {
   "cell_type": "code",
   "execution_count": 241,
   "metadata": {},
   "outputs": [
    {
     "data": {
      "text/plain": [
       "20867335.0"
      ]
     },
     "execution_count": 241,
     "metadata": {},
     "output_type": "execute_result"
    }
   ],
   "source": [
    "df5c_=df5[df5.Data_main.str.contains('Voice-Charging-FirstInterrogation-Successful')]\n",
    "df5ze_copy=df5c_[(df5c_['day']==28) &  (df5c_['month']==3)]\n",
    "df5ze_copy=df5ze_copy.rename(columns={'Total':'Voice-F'})\n",
    "\n",
    "\n",
    "df5c=df5[df5.Data_main.str.contains('Voice-Charging-IntermediateInterrogation-Successful')]\n",
    "df5ze_cop=df5c[(df5c['day']==28) &  (df5c['month']==3)]\n",
    "df5ze_cop=df5ze_cop.rename(columns={'Total':'Voice-I'})\n",
    "\n",
    "df5d=df5[df5.Data_main.str.contains('Voice-Charging-FinalReport-Successful')]\n",
    "df5ze_o=df5d[(df5d['day']==28)& (df5d['month']==3)]\n",
    "df5ze_o=df5ze_o.rename(columns={'Total':'Voice-FR'})\n",
    "\n",
    "##MERGING THE TABLES TO GET THE COMMON DATA\n",
    "df5Dhcop=pd.merge(left=df5ze_cop, right=df5ze_copy, how='right', left_on='Time', right_on='Time')\n",
    "df5Dhcop=pd.merge(left=df5Dhcop, right=df5ze_o, how='left', left_on='Time', right_on='Time')\n",
    "\n",
    "##DELETING NON REQUIRED COLUMNS\n",
    "df5Dhcop.drop(['Data_main_x','Data_main_y','Tot_x','month_x','year_y','Data_main'],axis=1,inplace=True)\n",
    "df5Dhcop.drop(['Tot_y','day_x','month_y','year_x','Tot','day_y'],axis=1,inplace=True)\n",
    "df5Dhcop['Count']=df5Dhcop['Voice-F']+df5Dhcop['Voice-I']+df5Dhcop['Voice-FR']\n",
    "\n",
    "df5Dhcop['Count'].sum()"
   ]
  },
  {
   "cell_type": "code",
   "execution_count": 242,
   "metadata": {},
   "outputs": [
    {
     "data": {
      "text/plain": [
       "103006315.0"
      ]
     },
     "execution_count": 242,
     "metadata": {},
     "output_type": "execute_result"
    }
   ],
   "source": [
    "df6dicoy=df3Dhcop['Count'].sum()+df5Dhcop['Count'].sum()+df1R_c+df4ae_c['Count'].sum()\n",
    "df6dicoy"
   ]
  },
  {
   "cell_type": "markdown",
   "metadata": {},
   "source": [
    "SMS CHARGING DAY 29"
   ]
  },
  {
   "cell_type": "code",
   "execution_count": 243,
   "metadata": {},
   "outputs": [
    {
     "data": {
      "text/plain": [
       "410404.0"
      ]
     },
     "execution_count": 243,
     "metadata": {},
     "output_type": "execute_result"
    }
   ],
   "source": [
    "df1e_copy=df1[df1.Data_main.str.contains('Messaging-Charging-Originating-Sms')]\n",
    "df1Ci_cop=df1e_copy[(df1e_copy['day']==29) & (df1e_copy['month']==3)]\n",
    "df1Ci_cop=df1Ci_cop.rename(columns={'Total':'SMS'})\n",
    "df1Ci_cop['SMS'].sum()\n",
    "\n",
    "\n",
    "df3ei_copy=df3[df3.Data_main.str.contains('Messaging-Charging-Originating-Sms')]\n",
    "df3X_c=df3ei_copy[(df3ei_copy['day']==29) & (df3ei_copy['month']==3)]\n",
    "df3X_c=df3X_c.rename(columns={'Total':'SMS'})\n",
    "df3X_c['SMS'].sum()\n",
    "\n",
    "df4e_copy=df4[df4.Data_main.str.contains('Messaging-Charging-Originating-Sms')]\n",
    "df4X_c=df4e_copy[(df4e_copy['day']==29) & (df4e_copy['month']==3)]\n",
    "df4X_c=df4V_c.rename(columns={'Total':'SMS'})\n",
    "df4X_c['SMS'].sum()\n",
    "df5e_copy=df5[df5.Data_main.str.contains('Messaging-Charging-Originating-Sms')]\n",
    "df5X_c=df5e_copy[(df5e_copy['day']==29) & (df5e_copy['month']==3)]\n",
    "df5X_c=df5X_c.rename(columns={'Total':'SMS'})\n",
    "df5X_c['SMS'].sum()"
   ]
  },
  {
   "cell_type": "code",
   "execution_count": 244,
   "metadata": {},
   "outputs": [
    {
     "data": {
      "text/plain": [
       "2082070.0"
      ]
     },
     "execution_count": 244,
     "metadata": {},
     "output_type": "execute_result"
    }
   ],
   "source": [
    "df6dMcopy=df1Ci_cop['SMS'].sum()+df3X_c['SMS'].sum()+df4X_c['SMS'].sum()+df5X_c['SMS'].sum()\n",
    "df6dMcopy"
   ]
  },
  {
   "cell_type": "markdown",
   "metadata": {},
   "source": [
    "VOICE OPERATION DAY 29"
   ]
  },
  {
   "cell_type": "code",
   "execution_count": 245,
   "metadata": {},
   "outputs": [],
   "source": [
    "df1h=df1[df1.Data_main.str.contains('Voice-Charging-FirstInterrogation-Successful')]\n",
    "df1U_copy=df1h[(df1h['day']==29)& (df1h['month']==3)]\n",
    "df1U_copy=df1U_copy.rename(columns={'Total':'Voice-F'})\n",
    "df1U_copy['Voice-F'].sum()\n",
    "\n",
    "df1c=df1[df1.Data_main.str.contains('Voice-Charging-IntermediateInterrogation-Successful')]\n",
    "df1U_cop=df1c[(df1c['day']==29)&  (df1c['month']==3)]\n",
    "df1U_cop=df1U_cop.rename(columns={'Total':'Voice-I'})\n",
    "df1U_cop['Voice-I'].sum()\n",
    "\n",
    "df1K=df1[df1.Data_main.str.contains('Voice-Charging-FinalReport-Successful')]\n",
    "df1U_o=df1d[(df1d['day']==29)&(df1d['month']==3)]\n",
    "df1U_o=df1U_o.rename(columns={'Total':'Voice-FR'})\n",
    "df1U_o['Voice-FR'].sum()\n",
    "df1U_c=pd.DataFrame()\n",
    "df1U_c=df1U_copy['Voice-F'].sum()+df1U_cop['Voice-I'].sum()+df1U_o['Voice-FR'].sum()"
   ]
  },
  {
   "cell_type": "markdown",
   "metadata": {},
   "source": [
    "sheet 5 df3"
   ]
  },
  {
   "cell_type": "code",
   "execution_count": 246,
   "metadata": {},
   "outputs": [
    {
     "data": {
      "text/plain": [
       "19800763"
      ]
     },
     "execution_count": 246,
     "metadata": {},
     "output_type": "execute_result"
    }
   ],
   "source": [
    "df3a=df3[df3.Data_main.str.contains('Voice-Charging-FirstInterrogation-Successful')]\n",
    "df3zf_copy=df3a[(df3a['day']==29) & (df3a['month']==3)]\n",
    "df3zf_copy=df3zf_copy.rename(columns={'Total':'Voice-F'})\n",
    "df3zf_copy\n",
    "\n",
    "df3c=df3[df3.Data_main.str.contains('Voice-Charging-IntermediateInterrogation-Successful')]\n",
    "df3zf_cop=df3c[(df3c['day']==29) &  (df3c['month']==3)]\n",
    "df3zf_cop=df3zf_cop.rename(columns={'Total':'Voice-I'})\n",
    "df3zf_cop\n",
    "\n",
    "df3d=df3[df3.Data_main.str.contains('Voice-Charging-FinalReport-Successful')]\n",
    "df3zf_o=df3d[(df3d['day']==29)& (df3d['month']==3)]\n",
    "df3zf_o=df3zf_o.rename(columns={'Total':'Voice-FR'})\n",
    "df3zf_o\n",
    "\n",
    "##MERGING THE TABLES TO GET THE COMMON DATA\n",
    "\n",
    "df3Dhco=pd.merge(left=df3zf_cop, right=df3zf_copy, how='right', left_on='Time', right_on='Time')\n",
    "df3Dhco=pd.merge(left=df3Dhco, right=df3zf_o, how='left', left_on='Time', right_on='Time')\n",
    "df3Dhco\n",
    "##DELETING NON REQUIRED COLUMNS\n",
    "df3Dhco.drop(['Data_main_x','Data_main_y','Tot_x','month','year','Data_main'],axis=1,inplace=True)\n",
    "df3Dhco.drop(['Tot_y','day_x','month_x','year_x','Tot','day'],axis=1,inplace=True)\n",
    "df3Dhco['Count']=df3Dhco['Voice-F']+df3Dhco['Voice-I']+df3Dhco['Voice-FR']\n",
    "df3Dhco['Count'].sum()"
   ]
  },
  {
   "cell_type": "markdown",
   "metadata": {},
   "source": [
    "sheet 6 df4"
   ]
  },
  {
   "cell_type": "code",
   "execution_count": 247,
   "metadata": {},
   "outputs": [
    {
     "data": {
      "text/plain": [
       "27743882.0"
      ]
     },
     "execution_count": 247,
     "metadata": {},
     "output_type": "execute_result"
    }
   ],
   "source": [
    "df4a=df4[df4.Data_main.str.contains('Voice-Charging-FirstInterrogation-Successful')]\n",
    "df4v_copy=df4a[(df4a['day']==29) & (df4a['month']==3)]\n",
    "df4v_copy=df4v_copy.rename(columns={'Total':'Voice-F'})\n",
    "df4v_copy['Voice-F'].sum()\n",
    "\n",
    "df4c=df4[df4.Data_main.str.contains('Voice-Charging-IntermediateInterrogation-Successful')]\n",
    "df4v_cop=df4c[(df4c['day']==29) &  (df4c['month']==3)]\n",
    "df4v_cop=df4v_cop.rename(columns={'Total':'Voice-I'})\n",
    "df4v_cop['Voice-I'].sum()\n",
    "\n",
    "df4d=df4[df4.Data_main.str.contains('Voice-Charging-FinalReport-Successful')]\n",
    "df4v_o=df4d[(df4d['day']==29)& (df4d['month']==3)]\n",
    "df4v_o=df4v_o.rename(columns={'Total':'Voice-FR'})\n",
    "df4v_o['Voice-FR'].sum()\n",
    "##MERGING THE TABLES TO GET THE COMMON DATA\n",
    "df4af_copy=pd.merge(left=df4v_cop, right=df4v_copy, how='right', left_on='Time', right_on='Time')\n",
    "df4af_copy=pd.merge(left=df4af_copy, right=df4v_o, how='left', left_on='Time', right_on='Time')\n",
    "\n",
    "##DELETING NON REQUIRED COLUMNS\n",
    "df4af_copy.drop(['Data_main_x','Data_main_y','Tot_x','month_x','year_y','Data_main'],axis=1,inplace=True)\n",
    "df4af_copy.drop(['Tot_y','day_x','month_y','year_x','Tot','day_y'],axis=1,inplace=True)\n",
    "df4af_copy['Count']=df4af_copy['Voice-F']+df4af_copy['Voice-I']+df4af_copy['Voice-FR']\n",
    "\n",
    "df4af_copy['Count'].sum()"
   ]
  },
  {
   "cell_type": "markdown",
   "metadata": {},
   "source": [
    "sheet 7 df5"
   ]
  },
  {
   "cell_type": "code",
   "execution_count": 248,
   "metadata": {},
   "outputs": [
    {
     "data": {
      "text/plain": [
       "19806546.0"
      ]
     },
     "execution_count": 248,
     "metadata": {},
     "output_type": "execute_result"
    }
   ],
   "source": [
    "df5c_=df5[df5.Data_main.str.contains('Voice-Charging-FirstInterrogation-Successful')]\n",
    "df5zf_copy=df5c_[(df5c_['day']==29) &  (df5c_['month']==3)]\n",
    "df5zf_copy=df5zf_copy.rename(columns={'Total':'Voice-F'})\n",
    "\n",
    "\n",
    "df5c=df5[df5.Data_main.str.contains('Voice-Charging-IntermediateInterrogation-Successful')]\n",
    "df5zf_cop=df5c[(df5c['day']==29) &  (df5c['month']==3)]\n",
    "df5zf_cop=df5zf_cop.rename(columns={'Total':'Voice-I'})\n",
    "\n",
    "df5d=df5[df5.Data_main.str.contains('Voice-Charging-FinalReport-Successful')]\n",
    "df5zf_o=df5d[(df5d['day']==29)& (df5d['month']==3)]\n",
    "df5zf_o=df5zf_o.rename(columns={'Total':'Voice-FR'})\n",
    "\n",
    "##MERGING THE TABLES TO GET THE COMMON DATA\n",
    "df5Dho=pd.merge(left=df5zf_cop, right=df5zf_copy, how='right', left_on='Time', right_on='Time')\n",
    "df5Dho=pd.merge(left=df5Dho, right=df5zf_o, how='left', left_on='Time', right_on='Time')\n",
    "\n",
    "##DELETING NON REQUIRED COLUMNS\n",
    "df5Dho.drop(['Data_main_x','Data_main_y','Tot_x','month_x','year_y','Data_main'],axis=1,inplace=True)\n",
    "df5Dho.drop(['Tot_y','day_x','month_y','year_x','Tot','day_y'],axis=1,inplace=True)\n",
    "df5Dho['Count']=df5Dho['Voice-F']+df5Dho['Voice-I']+df5Dho['Voice-FR']\n",
    "\n",
    "df5Dho['Count'].sum()"
   ]
  },
  {
   "cell_type": "code",
   "execution_count": 249,
   "metadata": {},
   "outputs": [
    {
     "data": {
      "text/plain": [
       "95092552.0"
      ]
     },
     "execution_count": 249,
     "metadata": {},
     "output_type": "execute_result"
    }
   ],
   "source": [
    "df6di_cop=df3Dhco['Count'].sum()+df5Dho['Count'].sum()+df1U_c+df4af_copy['Count'].sum()\n",
    "df6di_cop"
   ]
  },
  {
   "cell_type": "markdown",
   "metadata": {},
   "source": [
    "SMS CHARGING DAY 30"
   ]
  },
  {
   "cell_type": "code",
   "execution_count": 250,
   "metadata": {},
   "outputs": [
    {
     "data": {
      "text/plain": [
       "447702.0"
      ]
     },
     "execution_count": 250,
     "metadata": {},
     "output_type": "execute_result"
    }
   ],
   "source": [
    "df1e_copy=df1[df1.Data_main.str.contains('Messaging-Charging-Originating-Sms')]\n",
    "df1Ci_co=df1e_copy[(df1e_copy['day']==30) & (df1e_copy['month']==3)]\n",
    "df1Ci_co=df1Ci_co.rename(columns={'Total':'SMS'})\n",
    "df1Ci_co['SMS'].sum()\n",
    "\n",
    "df3ei_copy=df3[df3.Data_main.str.contains('Messaging-Charging-Originating-Sms')]\n",
    "df3X_=df3ei_copy[(df3ei_copy['day']==30) & (df3ei_copy['month']==3)]\n",
    "df3X_=df3X_.rename(columns={'Total':'SMS'})\n",
    "df3X_['SMS'].sum()\n",
    "\n",
    "df4e_copy=df4[df4.Data_main.str.contains('Messaging-Charging-Originating-Sms')]\n",
    "df4X_=df4e_copy[(df4e_copy['day']==30) & (df4e_copy['month']==3)]\n",
    "df4X_=df4X_.rename(columns={'Total':'SMS'})\n",
    "df4X_['SMS'].sum()\n",
    "\n",
    "df5e_copy=df5[df5.Data_main.str.contains('Messaging-Charging-Originating-Sms')]\n",
    "df5X_=df5e_copy[(df5e_copy['day']==30) & (df5e_copy['month']==3)]\n",
    "df5X_=df5X_.rename(columns={'Total':'SMS'})\n",
    "df5X_['SMS'].sum()"
   ]
  },
  {
   "cell_type": "code",
   "execution_count": 251,
   "metadata": {},
   "outputs": [
    {
     "data": {
      "text/plain": [
       "2323413.0"
      ]
     },
     "execution_count": 251,
     "metadata": {},
     "output_type": "execute_result"
    }
   ],
   "source": [
    "df6dMcop=df1Ci_co['SMS'].sum()+df3X_['SMS'].sum()+df4X_['SMS'].sum()+df5X_['SMS'].sum()\n",
    "df6dMcop"
   ]
  },
  {
   "cell_type": "markdown",
   "metadata": {},
   "source": [
    "VOICE CHARGING DAY 30"
   ]
  },
  {
   "cell_type": "code",
   "execution_count": 252,
   "metadata": {},
   "outputs": [],
   "source": [
    "df1h=df1[df1.Data_main.str.contains('Voice-Charging-FirstInterrogation-Successful')]\n",
    "df1V_copy=df1h[(df1h['day']==30)& (df1h['month']==3)]\n",
    "df1V_copy=df1V_copy.rename(columns={'Total':'Voice-F'})\n",
    "df1V_copy['Voice-F'].sum()\n",
    "\n",
    "df1c=df1[df1.Data_main.str.contains('Voice-Charging-IntermediateInterrogation-Successful')]\n",
    "df1V_cop=df1c[(df1c['day']==30)&  (df1c['month']==3)]\n",
    "df1V_cop=df1V_cop.rename(columns={'Total':'Voice-I'})\n",
    "df1V_cop['Voice-I'].sum()\n",
    "\n",
    "df1K=df1[df1.Data_main.str.contains('Voice-Charging-FinalReport-Successful')]\n",
    "df1V_o=df1d[(df1d['day']==30)&(df1d['month']==3)]\n",
    "df1V_o=df1V_o.rename(columns={'Total':'Voice-FR'})\n",
    "df1V_o['Voice-FR'].sum()\n",
    "df1V_c=pd.DataFrame()\n",
    "df1V_c=df1V_copy['Voice-F'].sum()+df1V_cop['Voice-I'].sum()+df1V_o['Voice-FR'].sum()"
   ]
  },
  {
   "cell_type": "markdown",
   "metadata": {},
   "source": [
    "sheet 5 df3"
   ]
  },
  {
   "cell_type": "code",
   "execution_count": 253,
   "metadata": {},
   "outputs": [
    {
     "data": {
      "text/plain": [
       "19779415"
      ]
     },
     "execution_count": 253,
     "metadata": {},
     "output_type": "execute_result"
    }
   ],
   "source": [
    "df3a=df3[df3.Data_main.str.contains('Voice-Charging-FirstInterrogation-Successful')]\n",
    "df3zg_copy=df3a[(df3a['day']==30) & (df3a['month']==3)]\n",
    "df3zg_copy=df3zg_copy.rename(columns={'Total':'Voice-F'})\n",
    "df3zg_copy\n",
    "\n",
    "df3c=df3[df3.Data_main.str.contains('Voice-Charging-IntermediateInterrogation-Successful')]\n",
    "df3zg_cop=df3c[(df3c['day']==30) &  (df3c['month']==3)]\n",
    "df3zg_cop=df3zg_cop.rename(columns={'Total':'Voice-I'})\n",
    "df3zg_cop\n",
    "\n",
    "df3d=df3[df3.Data_main.str.contains('Voice-Charging-FinalReport-Successful')]\n",
    "df3zg_o=df3d[(df3d['day']==30)& (df3d['month']==3)]\n",
    "df3zg_o=df3zg_o.rename(columns={'Total':'Voice-FR'})\n",
    "df3zg_o\n",
    "\n",
    "##MERGING THE TABLES TO GET THE COMMON DATA\n",
    "\n",
    "df3Dicopy=pd.merge(left=df3zg_cop, right=df3zg_copy, how='right', left_on='Time', right_on='Time')\n",
    "df3Dicopy=pd.merge(left=df3Dicopy, right=df3zg_o, how='left', left_on='Time', right_on='Time')\n",
    "df3Dicopy\n",
    "##DELETING NON REQUIRED COLUMNS\n",
    "df3Dicopy.drop(['Data_main_x','Data_main_y','Tot_x','month','year','Data_main'],axis=1,inplace=True)\n",
    "df3Dicopy.drop(['Tot_y','day_x','month_x','year_x','Tot','day'],axis=1,inplace=True)\n",
    "df3Dicopy['Count']=df3Dicopy['Voice-F']+df3Dicopy['Voice-I']+df3Dicopy['Voice-FR']\n",
    "df3Dicopy['Count'].sum()"
   ]
  },
  {
   "cell_type": "markdown",
   "metadata": {},
   "source": [
    "sheet 6 df4"
   ]
  },
  {
   "cell_type": "code",
   "execution_count": 254,
   "metadata": {},
   "outputs": [
    {
     "data": {
      "text/plain": [
       "27598252.0"
      ]
     },
     "execution_count": 254,
     "metadata": {},
     "output_type": "execute_result"
    }
   ],
   "source": [
    "df4a=df4[df4.Data_main.str.contains('Voice-Charging-FirstInterrogation-Successful')]\n",
    "df4w_copy=df4a[(df4a['day']==30) & (df4a['month']==3)]\n",
    "df4w_copy=df4w_copy.rename(columns={'Total':'Voice-F'})\n",
    "df4w_copy['Voice-F'].sum()\n",
    "\n",
    "df4c=df4[df4.Data_main.str.contains('Voice-Charging-IntermediateInterrogation-Successful')]\n",
    "df4w_cop=df4c[(df4c['day']==30) &  (df4c['month']==3)]\n",
    "df4w_cop=df4w_cop.rename(columns={'Total':'Voice-I'})\n",
    "df4w_cop['Voice-I'].sum()\n",
    "\n",
    "df4d=df4[df4.Data_main.str.contains('Voice-Charging-FinalReport-Successful')]\n",
    "df4w_o=df4d[(df4d['day']==30)& (df4d['month']==3)]\n",
    "df4w_o=df4w_o.rename(columns={'Total':'Voice-FR'})\n",
    "df4w_o['Voice-FR'].sum()\n",
    "##MERGING THE TABLES TO GET THE COMMON DATA\n",
    "df4af_cop=pd.merge(left=df4w_cop, right=df4w_copy, how='right', left_on='Time', right_on='Time')\n",
    "df4af_cop=pd.merge(left=df4af_cop, right=df4w_o, how='left', left_on='Time', right_on='Time')\n",
    "\n",
    "##DELETING NON REQUIRED COLUMNS\n",
    "df4af_cop.drop(['Data_main_x','Data_main_y','Tot_x','month_x','year_y','Data_main'],axis=1,inplace=True)\n",
    "df4af_cop.drop(['Tot_y','day_x','month_y','year_x','Tot','day_y'],axis=1,inplace=True)\n",
    "df4af_cop['Count']=df4af_cop['Voice-F']+df4af_cop['Voice-I']+df4af_cop['Voice-FR']\n",
    "\n",
    "df4af_cop['Count'].sum()"
   ]
  },
  {
   "cell_type": "markdown",
   "metadata": {},
   "source": [
    "sheet 7 df5"
   ]
  },
  {
   "cell_type": "code",
   "execution_count": 255,
   "metadata": {},
   "outputs": [
    {
     "data": {
      "text/plain": [
       "19799468.0"
      ]
     },
     "execution_count": 255,
     "metadata": {},
     "output_type": "execute_result"
    }
   ],
   "source": [
    "df5c_=df5[df5.Data_main.str.contains('Voice-Charging-FirstInterrogation-Successful')]\n",
    "df5zg_copy=df5c_[(df5c_['day']==30) &  (df5c_['month']==3)]\n",
    "df5zg_copy=df5zg_copy.rename(columns={'Total':'Voice-F'})\n",
    "\n",
    "\n",
    "df5c=df5[df5.Data_main.str.contains('Voice-Charging-IntermediateInterrogation-Successful')]\n",
    "df5zg_cop=df5c[(df5c['day']==30) &  (df5c['month']==3)]\n",
    "df5zg_cop=df5zg_cop.rename(columns={'Total':'Voice-I'})\n",
    "\n",
    "df5d=df5[df5.Data_main.str.contains('Voice-Charging-FinalReport-Successful')]\n",
    "df5zg_o=df5d[(df5d['day']==30)& (df5d['month']==3)]\n",
    "df5zg_o=df5zg_o.rename(columns={'Total':'Voice-FR'})\n",
    "\n",
    "##MERGING THE TABLES TO GET THE COMMON DATA\n",
    "df5Dicopy=pd.merge(left=df5zg_cop, right=df5zg_copy, how='right', left_on='Time', right_on='Time')\n",
    "df5Dicopy=pd.merge(left=df5Dicopy, right=df5zg_o, how='left', left_on='Time', right_on='Time')\n",
    "\n",
    "##DELETING NON REQUIRED COLUMNS\n",
    "df5Dicopy.drop(['Data_main_x','Data_main_y','Tot_x','month_x','year_y','Data_main'],axis=1,inplace=True)\n",
    "df5Dicopy.drop(['Tot_y','day_x','month_y','year_x','Tot','day_y'],axis=1,inplace=True)\n",
    "df5Dicopy['Count']=df5Dicopy['Voice-F']+df5Dicopy['Voice-I']+df5Dicopy['Voice-FR']\n",
    "\n",
    "df5Dicopy['Count'].sum()"
   ]
  },
  {
   "cell_type": "code",
   "execution_count": 256,
   "metadata": {},
   "outputs": [
    {
     "data": {
      "text/plain": [
       "94781173.0"
      ]
     },
     "execution_count": 256,
     "metadata": {},
     "output_type": "execute_result"
    }
   ],
   "source": [
    "df6di_c=df3Dicopy['Count'].sum()+df5Dicopy['Count'].sum()+df1V_c+df4af_cop['Count'].sum()\n",
    "df6di_c"
   ]
  },
  {
   "cell_type": "markdown",
   "metadata": {},
   "source": [
    "SMS CHARGING DAY 31"
   ]
  },
  {
   "cell_type": "code",
   "execution_count": 257,
   "metadata": {},
   "outputs": [
    {
     "data": {
      "text/plain": [
       "446203.0"
      ]
     },
     "execution_count": 257,
     "metadata": {},
     "output_type": "execute_result"
    }
   ],
   "source": [
    "df1e_copy=df1[df1.Data_main.str.contains('Messaging-Charging-Originating-Sms')]\n",
    "df1Ci_c=df1e_copy[(df1e_copy['day']==31) & (df1e_copy['month']==3)]\n",
    "df1Ci_c=df1Ci_c.rename(columns={'Total':'SMS'})\n",
    "df1Ci_c['SMS'].sum()\n",
    "\n",
    "df3ei_copy=df3[df3.Data_main.str.contains('Messaging-Charging-Originating-Sms')]\n",
    "df3Y_co=df3ei_copy[(df3ei_copy['day']==31) & (df3ei_copy['month']==3)]\n",
    "df3Y_co=df3Y_co.rename(columns={'Total':'SMS'})\n",
    "df3Y_co['SMS'].sum()\n",
    "\n",
    "df4e_copy=df4[df4.Data_main.str.contains('Messaging-Charging-Originating-Sms')]\n",
    "df4Y_co=df4e_copy[(df4e_copy['day']==31) & (df4e_copy['month']==3)]\n",
    "df4Y_co=df4Y_co.rename(columns={'Total':'SMS'})\n",
    "df4Y_co['SMS'].sum()\n",
    "\n",
    "df5e_copy=df5[df5.Data_main.str.contains('Messaging-Charging-Originating-Sms')]\n",
    "df5Y_co=df5e_copy[(df5e_copy['day']==31) & (df5e_copy['month']==3)]\n",
    "df5Y_co=df5Y_co.rename(columns={'Total':'SMS'})\n",
    "df5Y_co['SMS'].sum()"
   ]
  },
  {
   "cell_type": "code",
   "execution_count": 258,
   "metadata": {},
   "outputs": [
    {
     "data": {
      "text/plain": [
       "2342703.0"
      ]
     },
     "execution_count": 258,
     "metadata": {},
     "output_type": "execute_result"
    }
   ],
   "source": [
    "df6dMc=df1Ci_c['SMS'].sum()+df3Y_co['SMS'].sum()+df4Y_co['SMS'].sum()+df5Y_co['SMS'].sum()\n",
    "df6dMc"
   ]
  },
  {
   "cell_type": "markdown",
   "metadata": {},
   "source": [
    "VOICE CHARGING DAY 31"
   ]
  },
  {
   "cell_type": "code",
   "execution_count": 259,
   "metadata": {},
   "outputs": [],
   "source": [
    "df1h=df1[df1.Data_main.str.contains('Voice-Charging-FirstInterrogation-Successful')]\n",
    "df1W_copy=df1h[(df1h['day']==31)& (df1h['month']==3)]\n",
    "df1W_copy=df1W_copy.rename(columns={'Total':'Voice-F'})\n",
    "df1W_copy['Voice-F'].sum()\n",
    "\n",
    "df1c=df1[df1.Data_main.str.contains('Voice-Charging-IntermediateInterrogation-Successful')]\n",
    "df1W_cop=df1c[(df1c['day']==31)&  (df1c['month']==3)]\n",
    "df1W_cop=df1W_cop.rename(columns={'Total':'Voice-I'})\n",
    "df1W_cop['Voice-I'].sum()\n",
    "\n",
    "df1K=df1[df1.Data_main.str.contains('Voice-Charging-FinalReport-Successful')]\n",
    "df1W_o=df1d[(df1d['day']==31)&(df1d['month']==3)]\n",
    "df1W_o=df1W_o.rename(columns={'Total':'Voice-FR'})\n",
    "df1W_o['Voice-FR'].sum()\n",
    "df1W_c=pd.DataFrame()\n",
    "df1W_c=df1W_copy['Voice-F'].sum()+df1W_cop['Voice-I'].sum()+df1W_o['Voice-FR'].sum()"
   ]
  },
  {
   "cell_type": "markdown",
   "metadata": {},
   "source": [
    "sheet 5 df3"
   ]
  },
  {
   "cell_type": "code",
   "execution_count": 260,
   "metadata": {},
   "outputs": [
    {
     "data": {
      "text/plain": [
       "19615655"
      ]
     },
     "execution_count": 260,
     "metadata": {},
     "output_type": "execute_result"
    }
   ],
   "source": [
    "df3a=df3[df3.Data_main.str.contains('Voice-Charging-FirstInterrogation-Successful')]\n",
    "df3zh_copy=df3a[(df3a['day']==31) & (df3a['month']==3)]\n",
    "df3zh_copy=df3zf_copy.rename(columns={'Total':'Voice-F'})\n",
    "df3zh_copy\n",
    "\n",
    "df3c=df3[df3.Data_main.str.contains('Voice-Charging-IntermediateInterrogation-Successful')]\n",
    "df3zh_cop=df3c[(df3c['day']==31) &  (df3c['month']==3)]\n",
    "df3zh_cop=df3zh_cop.rename(columns={'Total':'Voice-I'})\n",
    "df3zh_cop\n",
    "\n",
    "df3d=df3[df3.Data_main.str.contains('Voice-Charging-FinalReport-Successful')]\n",
    "df3zh_o=df3d[(df3d['day']==31)& (df3d['month']==3)]\n",
    "df3zh_o=df3zh_o.rename(columns={'Total':'Voice-FR'})\n",
    "df3zh_o\n",
    "\n",
    "##MERGING THE TABLES TO GET THE COMMON DATA\n",
    "\n",
    "df3Dicop=pd.merge(left=df3zh_cop, right=df3zh_copy, how='right', left_on='Time', right_on='Time')\n",
    "df3Dicop=pd.merge(left=df3Dicop, right=df3zh_o, how='left', left_on='Time', right_on='Time')\n",
    "df3Dicop\n",
    "##DELETING NON REQUIRED COLUMNS\n",
    "df3Dicop.drop(['Data_main_x','Data_main_y','Tot_x','month','year','Data_main'],axis=1,inplace=True)\n",
    "df3Dicop.drop(['Tot_y','day_x','month_x','year_x','Tot','day'],axis=1,inplace=True)\n",
    "df3Dicop['Count']=df3Dicop['Voice-F']+df3Dicop['Voice-I']+df3Dicop['Voice-FR']\n",
    "df3Dicop['Count'].sum()"
   ]
  },
  {
   "cell_type": "markdown",
   "metadata": {},
   "source": [
    "sheet 6 df4"
   ]
  },
  {
   "cell_type": "code",
   "execution_count": 261,
   "metadata": {},
   "outputs": [
    {
     "data": {
      "text/plain": [
       "26595247.0"
      ]
     },
     "execution_count": 261,
     "metadata": {},
     "output_type": "execute_result"
    }
   ],
   "source": [
    "df4a=df4[df4.Data_main.str.contains('Voice-Charging-FirstInterrogation-Successful')]\n",
    "df4x_copy=df4a[(df4a['day']==31) & (df4a['month']==3)]\n",
    "df4x_copy=df4x_copy.rename(columns={'Total':'Voice-F'})\n",
    "df4x_copy['Voice-F'].sum()\n",
    "\n",
    "df4c=df4[df4.Data_main.str.contains('Voice-Charging-IntermediateInterrogation-Successful')]\n",
    "df4x_cop=df4c[(df4c['day']==31) &  (df4c['month']==3)]\n",
    "df4x_cop=df4x_cop.rename(columns={'Total':'Voice-I'})\n",
    "df4x_cop['Voice-I'].sum()\n",
    "\n",
    "df4d=df4[df4.Data_main.str.contains('Voice-Charging-FinalReport-Successful')]\n",
    "df4x_o=df4d[(df4d['day']==31)& (df4d['month']==3)]\n",
    "df4x_o=df4x_o.rename(columns={'Total':'Voice-FR'})\n",
    "df4x_o['Voice-FR'].sum()\n",
    "##MERGING THE TABLES TO GET THE COMMON DATA\n",
    "df4ah_=pd.merge(left=df4x_cop, right=df4x_copy, how='right', left_on='Time', right_on='Time')\n",
    "df4ah_=pd.merge(left=df4ah_, right=df4x_o, how='left', left_on='Time', right_on='Time')\n",
    "\n",
    "##DELETING NON REQUIRED COLUMNS\n",
    "df4ah_.drop(['Data_main_x','Data_main_y','Tot_x','month_x','year_y','Data_main'],axis=1,inplace=True)\n",
    "df4ah_.drop(['Tot_y','day_x','month_y','year_x','Tot','day_y'],axis=1,inplace=True)\n",
    "df4ah_['Count']=df4ah_['Voice-F']+df4ah_['Voice-I']+df4ah_['Voice-FR']\n",
    "\n",
    "df4ah_['Count'].sum()"
   ]
  },
  {
   "cell_type": "markdown",
   "metadata": {},
   "source": [
    "sheet 7 df5"
   ]
  },
  {
   "cell_type": "code",
   "execution_count": 262,
   "metadata": {},
   "outputs": [
    {
     "data": {
      "text/plain": [
       "19825481.0"
      ]
     },
     "execution_count": 262,
     "metadata": {},
     "output_type": "execute_result"
    }
   ],
   "source": [
    "df5c_=df5[df5.Data_main.str.contains('Voice-Charging-FirstInterrogation-Successful')]\n",
    "df5zh_copy=df5c_[(df5c_['day']==31) &  (df5c_['month']==3)]\n",
    "df5zh_copy=df5zh_copy.rename(columns={'Total':'Voice-F'})\n",
    "\n",
    "\n",
    "df5c=df5[df5.Data_main.str.contains('Voice-Charging-IntermediateInterrogation-Successful')]\n",
    "df5zh_cop=df5c[(df5c['day']==31) &  (df5c['month']==3)]\n",
    "df5zh_cop=df5zh_cop.rename(columns={'Total':'Voice-I'})\n",
    "\n",
    "df5d=df5[df5.Data_main.str.contains('Voice-Charging-FinalReport-Successful')]\n",
    "df5zh_o=df5d[(df5d['day']==31)& (df5d['month']==3)]\n",
    "df5zh_o=df5zh_o.rename(columns={'Total':'Voice-FR'})\n",
    "\n",
    "##MERGING THE TABLES TO GET THE COMMON DATA\n",
    "df5Dico=pd.merge(left=df5zh_cop, right=df5i_copy, how='right', left_on='Time', right_on='Time')\n",
    "df5Dico=pd.merge(left=df5Dico, right=df5zh_o, how='left', left_on='Time', right_on='Time')\n",
    "\n",
    "##DELETING NON REQUIRED COLUMNS\n",
    "df5Dico.drop(['Data_main_x','Data_main_y','Tot_x','month_x','year_y','Data_main'],axis=1,inplace=True)\n",
    "df5Dico.drop(['Tot_y','day_x','month_y','year_x','Tot','day_y'],axis=1,inplace=True)\n",
    "df5Dico['Count']=df5Dico['Voice-F']+df5Dico['Voice-I']+df5Dico['Voice-FR']\n",
    "\n",
    "df5Dico['Count'].sum()"
   ]
  },
  {
   "cell_type": "code",
   "execution_count": 263,
   "metadata": {},
   "outputs": [
    {
     "data": {
      "text/plain": [
       "93122484.0"
      ]
     },
     "execution_count": 263,
     "metadata": {},
     "output_type": "execute_result"
    }
   ],
   "source": [
    "df6dj_cop=df3Dicop['Count'].sum()+df5Dico['Count'].sum()+df1W_c+df4ah_['Count'].sum()\n",
    "df6dj_cop"
   ]
  },
  {
   "cell_type": "markdown",
   "metadata": {},
   "source": [
    "SMS CHARGING DAY 1"
   ]
  },
  {
   "cell_type": "code",
   "execution_count": 264,
   "metadata": {},
   "outputs": [
    {
     "data": {
      "text/plain": [
       "13962.0"
      ]
     },
     "execution_count": 264,
     "metadata": {},
     "output_type": "execute_result"
    }
   ],
   "source": [
    "df1e_copy=df1[df1.Data_main.str.contains('Messaging-Charging-Originating-Sms')]\n",
    "df1Ci_o=df1e_copy[(df1e_copy['day']==1) & (df1e_copy['month']==4)]\n",
    "df1Ci_o=df1Ci_o.rename(columns={'Total':'SMS'})\n",
    "df1Ci_o['SMS'].sum()\n",
    "\n",
    "df3ei_copy=df3[df3.Data_main.str.contains('Messaging-Charging-Originating-Sms')]\n",
    "df3Z_co=df3ei_copy[(df3ei_copy['day']==1) & (df3ei_copy['month']==4)]\n",
    "df3Z_co=df3Z_co.rename(columns={'Total':'SMS'})\n",
    "df3Z_co['SMS'].sum()\n",
    "\n",
    "df4e_copy=df4[df4.Data_main.str.contains('Messaging-Charging-Originating-Sms')]\n",
    "df4Z_co=df4e_copy[(df4e_copy['day']==1) & (df4e_copy['month']==4)]\n",
    "df4Z_co=df4Z_co.rename(columns={'Total':'SMS'})\n",
    "df4Z_co['SMS'].sum()\n",
    "\n",
    "df5e_copy=df5[df5.Data_main.str.contains('Messaging-Charging-Originating-Sms')]\n",
    "df5Z_co=df5e_copy[(df5e_copy['day']==1) & (df5e_copy['month']==4)]\n",
    "df5Z_co=df5Z_co.rename(columns={'Total':'SMS'})\n",
    "df5Z_co['SMS'].sum()"
   ]
  },
  {
   "cell_type": "code",
   "execution_count": 265,
   "metadata": {},
   "outputs": [
    {
     "data": {
      "text/plain": [
       "100826.0"
      ]
     },
     "execution_count": 265,
     "metadata": {},
     "output_type": "execute_result"
    }
   ],
   "source": [
    "df6dM=df1Ci_o['SMS'].sum()+df3Z_co['SMS'].sum()+df4Z_co['SMS'].sum()+df5Z_co['SMS'].sum()\n",
    "df6dM"
   ]
  },
  {
   "cell_type": "markdown",
   "metadata": {},
   "source": [
    "VOICE CHARGING DAY 1"
   ]
  },
  {
   "cell_type": "code",
   "execution_count": 266,
   "metadata": {},
   "outputs": [],
   "source": [
    "df1h=df1[df1.Data_main.str.contains('Voice-Charging-FirstInterrogation-Successful')]\n",
    "df1X_copy=df1h[(df1h['day']==1)& (df1h['month']==4)]\n",
    "df1X_copy=df1X_copy.rename(columns={'Total':'Voice-F'})\n",
    "df1X_copy['Voice-F'].sum()\n",
    "\n",
    "df1c=df1[df1.Data_main.str.contains('Voice-Charging-IntermediateInterrogation-Successful')]\n",
    "df1X_cop=df1c[(df1c['day']==1)&  (df1c['month']==4)]\n",
    "df1X_cop=df1X_cop.rename(columns={'Total':'Voice-I'})\n",
    "df1X_cop['Voice-I'].sum()\n",
    "\n",
    "df1K=df1[df1.Data_main.str.contains('Voice-Charging-FinalReport-Successful')]\n",
    "df1X_o=df1d[(df1d['day']==1)&(df1d['month']==4)]\n",
    "df1X_o=df1X_o.rename(columns={'Total':'Voice-FR'})\n",
    "df1X_o['Voice-FR'].sum()\n",
    "df1X_c=pd.DataFrame()\n",
    "df1X_c=df1X_copy['Voice-F'].sum()+df1X_cop['Voice-I'].sum()+df1X_o['Voice-FR'].sum()"
   ]
  },
  {
   "cell_type": "markdown",
   "metadata": {},
   "source": [
    "sheet 5 df3"
   ]
  },
  {
   "cell_type": "code",
   "execution_count": 267,
   "metadata": {},
   "outputs": [
    {
     "data": {
      "text/plain": [
       "126543"
      ]
     },
     "execution_count": 267,
     "metadata": {},
     "output_type": "execute_result"
    }
   ],
   "source": [
    "df3a=df3[df3.Data_main.str.contains('Voice-Charging-FirstInterrogation-Successful')]\n",
    "df3ui_copy=df3a[(df3a['day']==1) & (df3a['month']==4)]\n",
    "df3ui_copy=df3ui_copy.rename(columns={'Total':'Voice-F'})\n",
    "df3ui_copy\n",
    "\n",
    "df3c=df3[df3.Data_main.str.contains('Voice-Charging-IntermediateInterrogation-Successful')]\n",
    "df3ui_cop=df3c[(df3c['day']==1) &  (df3c['month']==4)]\n",
    "df3ui_cop=df3ui_cop.rename(columns={'Total':'Voice-I'})\n",
    "df3ui_cop\n",
    "\n",
    "df3d=df3[df3.Data_main.str.contains('Voice-Charging-FinalReport-Successful')]\n",
    "df3ui_o=df3d[(df3d['day']==1)& (df3d['month']==4)]\n",
    "df3ui_o=df3ui_o.rename(columns={'Total':'Voice-FR'})\n",
    "df3ui_o\n",
    "\n",
    "##MERGING THE TABLES TO GET THE COMMON DATA\n",
    "\n",
    "df3Djco=pd.merge(left=df3ui_cop, right=df3ui_copy, how='right', left_on='Time', right_on='Time')\n",
    "df3Djco=pd.merge(left=df3Djco, right=df3ui_o, how='left', left_on='Time', right_on='Time')\n",
    "df3Djco\n",
    "##DELETING NON REQUIRED COLUMNS\n",
    "df3Djco.drop(['Data_main_x','Data_main_y','Tot_x','month','year','Data_main'],axis=1,inplace=True)\n",
    "df3Djco.drop(['Tot_y','day_x','month_x','year_x','Tot','day'],axis=1,inplace=True)\n",
    "df3Djco['Count']=df3Djco['Voice-F']+df3Djco['Voice-I']+df3Djco['Voice-FR']\n",
    "df3Djco['Count'].sum()"
   ]
  },
  {
   "cell_type": "markdown",
   "metadata": {},
   "source": [
    "sheet 6 df4"
   ]
  },
  {
   "cell_type": "code",
   "execution_count": 268,
   "metadata": {},
   "outputs": [
    {
     "data": {
      "text/plain": [
       "29194143.0"
      ]
     },
     "execution_count": 268,
     "metadata": {},
     "output_type": "execute_result"
    }
   ],
   "source": [
    "df4a=df4[df4.Data_main.str.contains('Voice-Charging-FirstInterrogation-Successful')]\n",
    "df4z_copy=df4a[(df4a['day']==1) & (df4a['month']==4)]\n",
    "df4z_copy=df4l_copy.rename(columns={'Total':'Voice-F'})\n",
    "df4z_copy['Voice-F'].sum()\n",
    "\n",
    "df4c=df4[df4.Data_main.str.contains('Voice-Charging-IntermediateInterrogation-Successful')]\n",
    "df4z_cop=df4c[(df4c['day']==1) &  (df4c['month']==4)]\n",
    "df4z_cop=df4l_cop.rename(columns={'Total':'Voice-I'})\n",
    "df4z_cop['Voice-I'].sum()\n",
    "\n",
    "df4d=df4[df4.Data_main.str.contains('Voice-Charging-FinalReport-Successful')]\n",
    "df4z_o=df4d[(df4d['day']==1)& (df4d['month']==4)]\n",
    "df4z_o=df4l_o.rename(columns={'Total':'Voice-FR'})\n",
    "df4z_o['Voice-FR'].sum()\n",
    "##MERGING THE TABLES TO GET THE COMMON DATA\n",
    "df4aj_=pd.merge(left=df4z_cop, right=df4z_copy, how='right', left_on='Time', right_on='Time')\n",
    "df4aj_=pd.merge(left=df4aj_, right=df4z_o, how='left', left_on='Time', right_on='Time')\n",
    "\n",
    "##DELETING NON REQUIRED COLUMNS\n",
    "df4aj_.drop(['Data_main_x','Data_main_y','Tot_x','month_x','year_y','Data_main'],axis=1,inplace=True)\n",
    "df4aj_.drop(['Tot_y','day_x','month_y','year_x','Tot','day_y'],axis=1,inplace=True)\n",
    "df4aj_['Count']=df4aj_['Voice-F']+df4aj_['Voice-I']+df4aj_['Voice-FR']\n",
    "\n",
    "df4aj_['Count'].sum()"
   ]
  },
  {
   "cell_type": "markdown",
   "metadata": {},
   "source": [
    "sheet 7 df5"
   ]
  },
  {
   "cell_type": "code",
   "execution_count": 269,
   "metadata": {},
   "outputs": [
    {
     "data": {
      "text/plain": [
       "97182.0"
      ]
     },
     "execution_count": 269,
     "metadata": {},
     "output_type": "execute_result"
    }
   ],
   "source": [
    "df5c_=df5[df5.Data_main.str.contains('Voice-Charging-FirstInterrogation-Successful')]\n",
    "df5ui_copy=df5c_[(df5c_['day']==1) &  (df5c_['month']==4)]\n",
    "df5ui_copy=df5ui_copy.rename(columns={'Total':'Voice-F'})\n",
    "\n",
    "\n",
    "df5c=df5[df5.Data_main.str.contains('Voice-Charging-IntermediateInterrogation-Successful')]\n",
    "df5ui_cop=df5c[(df5c['day']==1) &  (df5c['month']==4)]\n",
    "df5ui_cop=df5ui_cop.rename(columns={'Total':'Voice-I'})\n",
    "\n",
    "df5d=df5[df5.Data_main.str.contains('Voice-Charging-FinalReport-Successful')]\n",
    "df5ui_o=df5d[(df5d['day']==1)& (df5d['month']==4)]\n",
    "df5ui_o=df5ui_o.rename(columns={'Total':'Voice-FR'})\n",
    "\n",
    "##MERGING THE TABLES TO GET THE COMMON DATA\n",
    "df5Djco=pd.merge(left=df5ui_cop, right=df5ui_copy, how='right', left_on='Time', right_on='Time')\n",
    "df5Djco=pd.merge(left=df5Djco, right=df5ui_o, how='left', left_on='Time', right_on='Time')\n",
    "\n",
    "##DELETING NON REQUIRED COLUMNS\n",
    "df5Djco.drop(['Data_main_x','Data_main_y','Tot_x','month_x','year_y','Data_main'],axis=1,inplace=True)\n",
    "df5Djco.drop(['Tot_y','day_x','month_y','year_x','Tot','day_y'],axis=1,inplace=True)\n",
    "df5Djco['Count']=df5Djco['Voice-F']+df5Djco['Voice-I']+df5Djco['Voice-FR']\n",
    "\n",
    "df5Djco['Count'].sum()"
   ]
  },
  {
   "cell_type": "code",
   "execution_count": 270,
   "metadata": {},
   "outputs": [
    {
     "data": {
      "text/plain": [
       "29600556.0"
      ]
     },
     "execution_count": 270,
     "metadata": {},
     "output_type": "execute_result"
    }
   ],
   "source": [
    "df6dHcop=df3Djco['Count'].sum()+df5Djco['Count'].sum()+df1X_c+df4aj_['Count'].sum()\n",
    "df6dHcop"
   ]
  },
  {
   "cell_type": "markdown",
   "metadata": {},
   "source": [
    "FILING COUNT FOR VOICE"
   ]
  },
  {
   "cell_type": "code",
   "execution_count": 271,
   "metadata": {},
   "outputs": [],
   "source": [
    "outside = ['3','3','3','3','3','3','3','3','3','3','3','3','3','3','3','3','3','3','3','3','3','3','3','3','3','3','3','3','3','3','3','4']\n",
    "inside = [1,2,3,4,5,6,7,8,9,10,11,12,13,14,15,16,17,18,19,20,21,22,23,24,25,26,27,28,29,30,31,1]\n",
    "hier_index = list(zip(outside,inside))\n",
    "hier_index = pd.MultiIndex.from_tuples(hier_index)"
   ]
  },
  {
   "cell_type": "code",
   "execution_count": 274,
   "metadata": {},
   "outputs": [],
   "source": [
    "df2=pd.DataFrame(data1,index=hier_index)\n",
    "df2.index.names={'DAYS','MON'}"
   ]
  },
  {
   "cell_type": "code",
   "execution_count": 273,
   "metadata": {},
   "outputs": [],
   "source": [
    "data1={'COUNT_VOICE':[dfall_a,df6c_,df6d,df6cop_,df6dcopy,df6dcop,df6dco,df6dc,df6decopy,df6decop,df6deco,df6dec,df6de,df6dfcopy,df6dfcop,df6dfco,df6dfc,df6dgcopy,df6dgcop,df6dgco,df6dgc,df6dg,df6dhcopy,df6dhcop,df6dhco,df6dhc,df6di_copy,df6dicoy,df6di_cop,df6di_c,df6dj_cop,df6dHcop],\n",
    "'COUNT_SMS':[df6a,df6b,df6c,df6copy,df6cop,df6co,df6c__,df6ccopy,df6ccop,df6cco,df6cco_,df6cc,df6d_copy,df6d_cop,df6d_co,df6dicopy,df6dicop,df6dico,df6dic,df6djcopy,df6djcop,df6di,df6djcopy_,df6djcop_,df6dlcopy,df6dlcop,df6dlco,df6dlc,df6dMcopy,df6dMcop,df6dMc,df6dM],\n",
    "'DATE':['1-MAr','2-MAr','3-MAr','4-MAr','5-MAr','6-MAr','7-MAr','8-MAr','9-MAr','10-MAr','11-MAr','12-MAr','13-MAr','14-MAr','15-MAr','16-MAr','17-MAr','18-MAr','19-MAr','20-MAr','21-MAr','22-MAr','23-MAr','24-MAr','25-MAr','26-MAr','27-MAr','28-MAr','29-MAr','30-MAr','31-MAr','1-Apr']}\n"
   ]
  },
  {
   "cell_type": "code",
   "execution_count": 275,
   "metadata": {},
   "outputs": [
    {
     "data": {
      "text/html": [
       "<div>\n",
       "<style scoped>\n",
       "    .dataframe tbody tr th:only-of-type {\n",
       "        vertical-align: middle;\n",
       "    }\n",
       "\n",
       "    .dataframe tbody tr th {\n",
       "        vertical-align: top;\n",
       "    }\n",
       "\n",
       "    .dataframe thead th {\n",
       "        text-align: right;\n",
       "    }\n",
       "</style>\n",
       "<table border=\"1\" class=\"dataframe\">\n",
       "  <thead>\n",
       "    <tr style=\"text-align: right;\">\n",
       "      <th></th>\n",
       "      <th></th>\n",
       "      <th>COUNT_VOICE</th>\n",
       "      <th>COUNT_SMS</th>\n",
       "      <th>DATE</th>\n",
       "    </tr>\n",
       "    <tr>\n",
       "      <th>MON</th>\n",
       "      <th>DAYS</th>\n",
       "      <th></th>\n",
       "      <th></th>\n",
       "      <th></th>\n",
       "    </tr>\n",
       "  </thead>\n",
       "  <tbody>\n",
       "    <tr>\n",
       "      <th rowspan=\"3\" valign=\"top\">3</th>\n",
       "      <th>1</th>\n",
       "      <td>58131732.0</td>\n",
       "      <td>1214404.0</td>\n",
       "      <td>1-MAr</td>\n",
       "    </tr>\n",
       "    <tr>\n",
       "      <th>2</th>\n",
       "      <td>58993645.0</td>\n",
       "      <td>1243734.0</td>\n",
       "      <td>2-MAr</td>\n",
       "    </tr>\n",
       "    <tr>\n",
       "      <th>3</th>\n",
       "      <td>57313250.0</td>\n",
       "      <td>1244869.0</td>\n",
       "      <td>3-MAr</td>\n",
       "    </tr>\n",
       "  </tbody>\n",
       "</table>\n",
       "</div>"
      ],
      "text/plain": [
       "          COUNT_VOICE  COUNT_SMS   DATE\n",
       "MON DAYS                               \n",
       "3   1      58131732.0  1214404.0  1-MAr\n",
       "    2      58993645.0  1243734.0  2-MAr\n",
       "    3      57313250.0  1244869.0  3-MAr"
      ]
     },
     "execution_count": 275,
     "metadata": {},
     "output_type": "execute_result"
    }
   ],
   "source": [
    "df2.head(3)"
   ]
  },
  {
   "cell_type": "code",
   "execution_count": 276,
   "metadata": {},
   "outputs": [
    {
     "data": {
      "text/plain": [
       "<matplotlib.axes._subplots.AxesSubplot at 0x259dcb85a08>"
      ]
     },
     "execution_count": 276,
     "metadata": {},
     "output_type": "execute_result"
    },
    {
     "data": {
      "image/png": "[encoded data removed]",
      "text/plain": [
       "<Figure size 432x288 with 1 Axes>"
      ]
     },
     "metadata": {
      "needs_background": "light"
     },
     "output_type": "display_data"
    }
   ],
   "source": [
    "df2.plot.line(x='DATE',y='COUNT_SMS')"
   ]
  },
  {
   "cell_type": "code",
   "execution_count": 277,
   "metadata": {},
   "outputs": [
    {
     "data": {
      "text/plain": [
       "<matplotlib.axes._subplots.AxesSubplot at 0x259d5bd7088>"
      ]
     },
     "execution_count": 277,
     "metadata": {},
     "output_type": "execute_result"
    },
    {
     "data": {
      "image/png": "[encoded data removed]",
      "text/plain": [
       "<Figure size 432x288 with 1 Axes>"
      ]
     },
     "metadata": {
      "needs_background": "light"
     },
     "output_type": "display_data"
    }
   ],
   "source": [
    "df2.plot.bar(x='DATE',y='COUNT_SMS')"
   ]
  },
  {
   "cell_type": "code",
   "execution_count": null,
   "metadata": {},
   "outputs": [],
   "source": []
  }
 ],
 "metadata": {
  "kernelspec": {
   "display_name": "Python 3",
   "language": "python",
   "name": "python3"
  },
  "language_info": {
   "codemirror_mode": {
    "name": "ipython",
    "version": 3
   },
   "file_extension": ".py",
   "mimetype": "text/x-python",
   "name": "python",
   "nbconvert_exporter": "python",
   "pygments_lexer": "ipython3",
   "version": "3.7.6"
  }
 },
 "nbformat": 4,
 "nbformat_minor": 4
}
